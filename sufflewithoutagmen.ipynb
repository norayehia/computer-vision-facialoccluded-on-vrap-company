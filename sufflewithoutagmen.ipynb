{
  "nbformat": 4,
  "nbformat_minor": 0,
  "metadata": {
    "colab": {
      "name": "sufflewithoutagmen.ipynb",
      "provenance": [],
      "collapsed_sections": [],
      "include_colab_link": true
    },
    "kernelspec": {
      "display_name": "Python 3",
      "name": "python3"
    },
    "language_info": {
      "name": "python"
    },
    "accelerator": "GPU"
  },
  "cells": [
    {
      "cell_type": "markdown",
      "metadata": {
        "id": "view-in-github",
        "colab_type": "text"
      },
      "source": [
        "<a href=\"https://colab.research.google.com/github/norayehia/graduation-facial-occluded-on-vrap-company/blob/main/sufflewithoutagmen.ipynb\" target=\"_parent\"><img src=\"https://colab.research.google.com/assets/colab-badge.svg\" alt=\"Open In Colab\"/></a>"
      ]
    },
    {
      "cell_type": "code",
      "metadata": {
        "colab": {
          "base_uri": "https://localhost:8080/"
        },
        "id": "qVnwEajALtDZ",
        "outputId": "2c011842-212c-4536-81bc-c4fddd9f92b1"
      },
      "source": [
        "\n",
        "\n",
        "\n",
        "#without datagenerator\n",
        "from google.colab import drive\n",
        "drive._mount('/content/drive/')"
      ],
      "execution_count": null,
      "outputs": [
        {
          "output_type": "stream",
          "name": "stdout",
          "text": [
            "Mounted at /content/drive/\n"
          ]
        }
      ]
    },
    {
      "cell_type": "code",
      "metadata": {
        "id": "hDrTFPHFyrgI"
      },
      "source": [
        "import cv2\n",
        "import glob\n",
        "import pandas as pd\n",
        "import numpy as np\n",
        "\n",
        "from sklearn.base import TransformerMixin\n",
        "from sklearn.pipeline import Pipeline\n",
        "\n",
        "import tensorflow.compat.v2 as tf\n",
        "from keras import backend as k\n",
        "from keras.applications.mobilenet import MobileNet\n",
        "from keras.applications import imagenet_utils\n",
        "import keras.applications\n",
        "from keras.engine import training\n",
        "from keras.layers import VersionAwareLayers\n",
        "from keras.utils import data_utils\n",
        "from keras.utils import layer_utils\n",
        "from tensorflow.keras.utils import Sequence\n",
        "from tensorflow.python.util.tf_export import keras_export\n",
        "from keras.layers import Dense,GlobalAveragePooling2D\n",
        "from keras.models import Model\n",
        "from keras.layers import Dense\n",
        "from keras.layers import Flatten\n",
        "from tensorflow.keras.preprocessing.image import ImageDataGenerator\n",
        "from keras.callbacks import CSVLogger\n",
        "from sklearn.metrics import classification_report\n",
        "import seaborn as sns\n",
        "\n",
        "\n",
        "import matplotlib.pyplot as plt\n",
        "from google.colab.patches import cv2_imshow\n",
        "%matplotlib inline"
      ],
      "execution_count": null,
      "outputs": []
    },
    {
      "cell_type": "markdown",
      "metadata": {
        "id": "zfSYGYL3jsDD"
      },
      "source": [
        "## Implementing Data Generators"
      ]
    },
    {
      "cell_type": "code",
      "metadata": {
        "colab": {
          "base_uri": "https://localhost:8080/"
        },
        "id": "pKMnwqllrRSc",
        "outputId": "b4d092da-ab78-4a74-f53f-f4f89f5f4d72"
      },
      "source": [
        "testpath = \"/content/drive/MyDrive/graduation2/graduation/Final Dataset/testset_occluded_new_shuffled\"\n",
        "classes = ['Surprise', 'Fear', 'Disgust', 'Happy', 'Sad', 'Anger', 'Neutral']\n",
        "\n",
        "test_size = []\n",
        "\n",
        "for folder_index,folder in enumerate(classes):\n",
        "  test = glob.glob(testpath + \"/\" + folder + \"/*\")\n",
        "  test_size.append(len(test))\n",
        "\n",
        "print(test_size)"
      ],
      "execution_count": null,
      "outputs": [
        {
          "output_type": "stream",
          "name": "stdout",
          "text": [
            "[200, 200, 200, 200, 200, 200, 200]\n"
          ]
        }
      ]
    },
    {
      "cell_type": "code",
      "metadata": {
        "colab": {
          "base_uri": "https://localhost:8080/"
        },
        "id": "4K1DePxmnfek",
        "outputId": "75614d75-c92f-4a63-9758-344bbc2fdfbf"
      },
      "source": [
        "trainpath = \"/content/drive/MyDrive/graduation2/graduation/Final Dataset/trainset_occluded_new_shuffled\"\n",
        "classes = ['Surprise', 'Fear', 'Disgust', 'Happy', 'Sad', 'Anger', 'Neutral']\n",
        "\n",
        "train_size = []\n",
        "\n",
        "for folder_index,folder in enumerate(classes):\n",
        "  train = glob.glob(trainpath + \"/\" + folder + \"/*\")\n",
        "  train_size.append(len(train))\n",
        "\n",
        "print(train_size)"
      ],
      "execution_count": null,
      "outputs": [
        {
          "output_type": "stream",
          "name": "stdout",
          "text": [
            "[2312, 884, 2145, 2961, 2109, 2103, 2957]\n"
          ]
        }
      ]
    },
    {
      "cell_type": "code",
      "metadata": {
        "id": "Y2xCE2Wg8gei"
      },
      "source": [
        "preprocess_input= tf.keras.applications.mobilenet.preprocess_input"
      ],
      "execution_count": null,
      "outputs": []
    },
    {
      "cell_type": "code",
      "metadata": {
        "colab": {
          "base_uri": "https://localhost:8080/"
        },
        "id": "6Jzm1OGAh1bK",
        "outputId": "2e2feb87-47df-407c-cbeb-f4155bf785be"
      },
      "source": [
        "datagen = ImageDataGenerator(preprocessing_function=preprocess_input, validation_split=0.2)\n",
        "generator = datagen.flow_from_directory(trainpath, target_size=(224, 224), batch_size=32, class_mode='categorical', subset='training')\n",
        "validation_generator = datagen.flow_from_directory(trainpath, # same directory as training data\n",
        "    target_size=(224, 224), batch_size=32, class_mode='categorical', subset='validation') # set as validation data"
      ],
      "execution_count": null,
      "outputs": [
        {
          "output_type": "stream",
          "name": "stdout",
          "text": [
            "Found 12380 images belonging to 7 classes.\n",
            "Found 3091 images belonging to 7 classes.\n"
          ]
        }
      ]
    },
    {
      "cell_type": "markdown",
      "source": [
        "https://towardsdatascience.com/image-data-generators-in-keras-7c5fc6928400"
      ],
      "metadata": {
        "id": "1oXabBxabfRD"
      }
    },
    {
      "cell_type": "code",
      "source": [
        "from operator import length_hint\n",
        "print('num of samples:',generator.samples)\n",
        "print('num of classes:',len(generator.class_indices))\n",
        "print('num sample per class:',int(generator.samples/len(generator.class_indices)))"
      ],
      "metadata": {
        "colab": {
          "base_uri": "https://localhost:8080/"
        },
        "id": "0apAvMUGZBya",
        "outputId": "5488da34-211e-4750-bd8f-34c1ffebfb7d"
      },
      "execution_count": null,
      "outputs": [
        {
          "output_type": "stream",
          "name": "stdout",
          "text": [
            "num of samples: 12380\n",
            "num of classes: 7\n",
            "num sample per class: 1768\n"
          ]
        }
      ]
    },
    {
      "cell_type": "code",
      "source": [
        "from operator import length_hint\n",
        "print('num of samples:',validation_generator.samples)\n",
        "print('num of classes:',len(validation_generator.class_indices))\n",
        "print('num sample per class:',int(validation_generator.samples/len(validation_generator.class_indices)))"
      ],
      "metadata": {
        "id": "pBKKLkI0gn35",
        "outputId": "9062aed4-012e-4b80-faae-899135ad247c",
        "colab": {
          "base_uri": "https://localhost:8080/"
        }
      },
      "execution_count": null,
      "outputs": [
        {
          "output_type": "stream",
          "name": "stdout",
          "text": [
            "num of samples: 3091\n",
            "num of classes: 7\n",
            "num sample per class: 441\n"
          ]
        }
      ]
    },
    {
      "cell_type": "code",
      "source": [
        "\"\"\"\n",
        "gen_size = []\n",
        "\n",
        "for folder_index,folder in enumerate(classes):\n",
        "  train = glob.glob(trainpath + \"/\" + folder + \"/*\")\n",
        "  gen_size.append(len(train))\n",
        "\n",
        "print(gen_size)\n",
        "\n",
        "\"\"\""
      ],
      "metadata": {
        "id": "wWIt0nWPRBbE"
      },
      "execution_count": null,
      "outputs": []
    },
    {
      "cell_type": "code",
      "metadata": {
        "id": "eljx3f7RtPW7"
      },
      "source": [
        "test_datagen = ImageDataGenerator(preprocessing_function=preprocess_input)"
      ],
      "execution_count": null,
      "outputs": []
    },
    {
      "cell_type": "code",
      "metadata": {
        "colab": {
          "base_uri": "https://localhost:8080/"
        },
        "id": "YFyDuTFyroY5",
        "outputId": "a9458532-f215-4d26-fd0a-dbfd82eb3eb8"
      },
      "source": [
        "test_generator = test_datagen.flow_from_directory(testpath, target_size=(224, 224), batch_size=32, class_mode='categorical',shuffle=False)"
      ],
      "execution_count": null,
      "outputs": [
        {
          "output_type": "stream",
          "name": "stdout",
          "text": [
            "Found 1400 images belonging to 7 classes.\n"
          ]
        }
      ]
    },
    {
      "cell_type": "code",
      "source": [
        "from operator import length_hint\n",
        "print('num of samples:',test_generator.samples)\n",
        "print('num of classes:',len(test_generator.class_indices))\n",
        "print('num sample per class:',int(test_generator.samples/len(test_generator.class_indices)))"
      ],
      "metadata": {
        "id": "36ILavs4glOA",
        "outputId": "7d67c816-077d-4a4a-e50a-5c02369fb90a",
        "colab": {
          "base_uri": "https://localhost:8080/"
        }
      },
      "execution_count": null,
      "outputs": [
        {
          "output_type": "stream",
          "name": "stdout",
          "text": [
            "num of samples: 1400\n",
            "num of classes: 7\n",
            "num sample per class: 200\n"
          ]
        }
      ]
    },
    {
      "cell_type": "code",
      "metadata": {
        "id": "HLNPV6A7BsTI"
      },
      "source": [
        "k.clear_session()\n",
        "\n",
        "new_input = keras.Input(shape=(224, 224, 3))"
      ],
      "execution_count": null,
      "outputs": []
    },
    {
      "cell_type": "code",
      "metadata": {
        "colab": {
          "base_uri": "https://localhost:8080/"
        },
        "id": "cN0qgQcJ5Xs1",
        "outputId": "c8734181-dfc0-44ae-8653-914de00f0f66"
      },
      "source": [
        "base_model=MobileNet(input_shape=(224, 224, 3), include_top=False) #imports the mobilenet model and discards the last 1000 neuron layer.\n",
        "\n",
        "x=base_model.output\n",
        "x=GlobalAveragePooling2D()(x)\n",
        "x=Dense(512,activation='relu')(x) #we add dense layers so that the model can learn more complex functions and classify for better results.\n",
        "\n",
        "preds=Dense(7,activation='softmax')(x) #final layer with softmax activation"
      ],
      "execution_count": null,
      "outputs": [
        {
          "output_type": "stream",
          "name": "stdout",
          "text": [
            "Downloading data from https://storage.googleapis.com/tensorflow/keras-applications/mobilenet/mobilenet_1_0_224_tf_no_top.h5\n",
            "17227776/17225924 [==============================] - 1s 0us/step\n",
            "17235968/17225924 [==============================] - 1s 0us/step\n"
          ]
        }
      ]
    },
    {
      "cell_type": "code",
      "metadata": {
        "colab": {
          "base_uri": "https://localhost:8080/"
        },
        "id": "IP5O0_lJMcSe",
        "outputId": "1751cd06-36df-449e-f49b-d3943bd5af0c"
      },
      "source": [
        "\n",
        "\n",
        "model = Model(inputs=base_model.inputs, outputs=preds)\n",
        "\n",
        "model.summary()"
      ],
      "execution_count": null,
      "outputs": [
        {
          "output_type": "stream",
          "name": "stdout",
          "text": [
            "Model: \"model\"\n",
            "_________________________________________________________________\n",
            " Layer (type)                Output Shape              Param #   \n",
            "=================================================================\n",
            " input_2 (InputLayer)        [(None, 224, 224, 3)]     0         \n",
            "                                                                 \n",
            " conv1 (Conv2D)              (None, 112, 112, 32)      864       \n",
            "                                                                 \n",
            " conv1_bn (BatchNormalizatio  (None, 112, 112, 32)     128       \n",
            " n)                                                              \n",
            "                                                                 \n",
            " conv1_relu (ReLU)           (None, 112, 112, 32)      0         \n",
            "                                                                 \n",
            " conv_dw_1 (DepthwiseConv2D)  (None, 112, 112, 32)     288       \n",
            "                                                                 \n",
            " conv_dw_1_bn (BatchNormaliz  (None, 112, 112, 32)     128       \n",
            " ation)                                                          \n",
            "                                                                 \n",
            " conv_dw_1_relu (ReLU)       (None, 112, 112, 32)      0         \n",
            "                                                                 \n",
            " conv_pw_1 (Conv2D)          (None, 112, 112, 64)      2048      \n",
            "                                                                 \n",
            " conv_pw_1_bn (BatchNormaliz  (None, 112, 112, 64)     256       \n",
            " ation)                                                          \n",
            "                                                                 \n",
            " conv_pw_1_relu (ReLU)       (None, 112, 112, 64)      0         \n",
            "                                                                 \n",
            " conv_pad_2 (ZeroPadding2D)  (None, 113, 113, 64)      0         \n",
            "                                                                 \n",
            " conv_dw_2 (DepthwiseConv2D)  (None, 56, 56, 64)       576       \n",
            "                                                                 \n",
            " conv_dw_2_bn (BatchNormaliz  (None, 56, 56, 64)       256       \n",
            " ation)                                                          \n",
            "                                                                 \n",
            " conv_dw_2_relu (ReLU)       (None, 56, 56, 64)        0         \n",
            "                                                                 \n",
            " conv_pw_2 (Conv2D)          (None, 56, 56, 128)       8192      \n",
            "                                                                 \n",
            " conv_pw_2_bn (BatchNormaliz  (None, 56, 56, 128)      512       \n",
            " ation)                                                          \n",
            "                                                                 \n",
            " conv_pw_2_relu (ReLU)       (None, 56, 56, 128)       0         \n",
            "                                                                 \n",
            " conv_dw_3 (DepthwiseConv2D)  (None, 56, 56, 128)      1152      \n",
            "                                                                 \n",
            " conv_dw_3_bn (BatchNormaliz  (None, 56, 56, 128)      512       \n",
            " ation)                                                          \n",
            "                                                                 \n",
            " conv_dw_3_relu (ReLU)       (None, 56, 56, 128)       0         \n",
            "                                                                 \n",
            " conv_pw_3 (Conv2D)          (None, 56, 56, 128)       16384     \n",
            "                                                                 \n",
            " conv_pw_3_bn (BatchNormaliz  (None, 56, 56, 128)      512       \n",
            " ation)                                                          \n",
            "                                                                 \n",
            " conv_pw_3_relu (ReLU)       (None, 56, 56, 128)       0         \n",
            "                                                                 \n",
            " conv_pad_4 (ZeroPadding2D)  (None, 57, 57, 128)       0         \n",
            "                                                                 \n",
            " conv_dw_4 (DepthwiseConv2D)  (None, 28, 28, 128)      1152      \n",
            "                                                                 \n",
            " conv_dw_4_bn (BatchNormaliz  (None, 28, 28, 128)      512       \n",
            " ation)                                                          \n",
            "                                                                 \n",
            " conv_dw_4_relu (ReLU)       (None, 28, 28, 128)       0         \n",
            "                                                                 \n",
            " conv_pw_4 (Conv2D)          (None, 28, 28, 256)       32768     \n",
            "                                                                 \n",
            " conv_pw_4_bn (BatchNormaliz  (None, 28, 28, 256)      1024      \n",
            " ation)                                                          \n",
            "                                                                 \n",
            " conv_pw_4_relu (ReLU)       (None, 28, 28, 256)       0         \n",
            "                                                                 \n",
            " conv_dw_5 (DepthwiseConv2D)  (None, 28, 28, 256)      2304      \n",
            "                                                                 \n",
            " conv_dw_5_bn (BatchNormaliz  (None, 28, 28, 256)      1024      \n",
            " ation)                                                          \n",
            "                                                                 \n",
            " conv_dw_5_relu (ReLU)       (None, 28, 28, 256)       0         \n",
            "                                                                 \n",
            " conv_pw_5 (Conv2D)          (None, 28, 28, 256)       65536     \n",
            "                                                                 \n",
            " conv_pw_5_bn (BatchNormaliz  (None, 28, 28, 256)      1024      \n",
            " ation)                                                          \n",
            "                                                                 \n",
            " conv_pw_5_relu (ReLU)       (None, 28, 28, 256)       0         \n",
            "                                                                 \n",
            " conv_pad_6 (ZeroPadding2D)  (None, 29, 29, 256)       0         \n",
            "                                                                 \n",
            " conv_dw_6 (DepthwiseConv2D)  (None, 14, 14, 256)      2304      \n",
            "                                                                 \n",
            " conv_dw_6_bn (BatchNormaliz  (None, 14, 14, 256)      1024      \n",
            " ation)                                                          \n",
            "                                                                 \n",
            " conv_dw_6_relu (ReLU)       (None, 14, 14, 256)       0         \n",
            "                                                                 \n",
            " conv_pw_6 (Conv2D)          (None, 14, 14, 512)       131072    \n",
            "                                                                 \n",
            " conv_pw_6_bn (BatchNormaliz  (None, 14, 14, 512)      2048      \n",
            " ation)                                                          \n",
            "                                                                 \n",
            " conv_pw_6_relu (ReLU)       (None, 14, 14, 512)       0         \n",
            "                                                                 \n",
            " conv_dw_7 (DepthwiseConv2D)  (None, 14, 14, 512)      4608      \n",
            "                                                                 \n",
            " conv_dw_7_bn (BatchNormaliz  (None, 14, 14, 512)      2048      \n",
            " ation)                                                          \n",
            "                                                                 \n",
            " conv_dw_7_relu (ReLU)       (None, 14, 14, 512)       0         \n",
            "                                                                 \n",
            " conv_pw_7 (Conv2D)          (None, 14, 14, 512)       262144    \n",
            "                                                                 \n",
            " conv_pw_7_bn (BatchNormaliz  (None, 14, 14, 512)      2048      \n",
            " ation)                                                          \n",
            "                                                                 \n",
            " conv_pw_7_relu (ReLU)       (None, 14, 14, 512)       0         \n",
            "                                                                 \n",
            " conv_dw_8 (DepthwiseConv2D)  (None, 14, 14, 512)      4608      \n",
            "                                                                 \n",
            " conv_dw_8_bn (BatchNormaliz  (None, 14, 14, 512)      2048      \n",
            " ation)                                                          \n",
            "                                                                 \n",
            " conv_dw_8_relu (ReLU)       (None, 14, 14, 512)       0         \n",
            "                                                                 \n",
            " conv_pw_8 (Conv2D)          (None, 14, 14, 512)       262144    \n",
            "                                                                 \n",
            " conv_pw_8_bn (BatchNormaliz  (None, 14, 14, 512)      2048      \n",
            " ation)                                                          \n",
            "                                                                 \n",
            " conv_pw_8_relu (ReLU)       (None, 14, 14, 512)       0         \n",
            "                                                                 \n",
            " conv_dw_9 (DepthwiseConv2D)  (None, 14, 14, 512)      4608      \n",
            "                                                                 \n",
            " conv_dw_9_bn (BatchNormaliz  (None, 14, 14, 512)      2048      \n",
            " ation)                                                          \n",
            "                                                                 \n",
            " conv_dw_9_relu (ReLU)       (None, 14, 14, 512)       0         \n",
            "                                                                 \n",
            " conv_pw_9 (Conv2D)          (None, 14, 14, 512)       262144    \n",
            "                                                                 \n",
            " conv_pw_9_bn (BatchNormaliz  (None, 14, 14, 512)      2048      \n",
            " ation)                                                          \n",
            "                                                                 \n",
            " conv_pw_9_relu (ReLU)       (None, 14, 14, 512)       0         \n",
            "                                                                 \n",
            " conv_dw_10 (DepthwiseConv2D  (None, 14, 14, 512)      4608      \n",
            " )                                                               \n",
            "                                                                 \n",
            " conv_dw_10_bn (BatchNormali  (None, 14, 14, 512)      2048      \n",
            " zation)                                                         \n",
            "                                                                 \n",
            " conv_dw_10_relu (ReLU)      (None, 14, 14, 512)       0         \n",
            "                                                                 \n",
            " conv_pw_10 (Conv2D)         (None, 14, 14, 512)       262144    \n",
            "                                                                 \n",
            " conv_pw_10_bn (BatchNormali  (None, 14, 14, 512)      2048      \n",
            " zation)                                                         \n",
            "                                                                 \n",
            " conv_pw_10_relu (ReLU)      (None, 14, 14, 512)       0         \n",
            "                                                                 \n",
            " conv_dw_11 (DepthwiseConv2D  (None, 14, 14, 512)      4608      \n",
            " )                                                               \n",
            "                                                                 \n",
            " conv_dw_11_bn (BatchNormali  (None, 14, 14, 512)      2048      \n",
            " zation)                                                         \n",
            "                                                                 \n",
            " conv_dw_11_relu (ReLU)      (None, 14, 14, 512)       0         \n",
            "                                                                 \n",
            " conv_pw_11 (Conv2D)         (None, 14, 14, 512)       262144    \n",
            "                                                                 \n",
            " conv_pw_11_bn (BatchNormali  (None, 14, 14, 512)      2048      \n",
            " zation)                                                         \n",
            "                                                                 \n",
            " conv_pw_11_relu (ReLU)      (None, 14, 14, 512)       0         \n",
            "                                                                 \n",
            " conv_pad_12 (ZeroPadding2D)  (None, 15, 15, 512)      0         \n",
            "                                                                 \n",
            " conv_dw_12 (DepthwiseConv2D  (None, 7, 7, 512)        4608      \n",
            " )                                                               \n",
            "                                                                 \n",
            " conv_dw_12_bn (BatchNormali  (None, 7, 7, 512)        2048      \n",
            " zation)                                                         \n",
            "                                                                 \n",
            " conv_dw_12_relu (ReLU)      (None, 7, 7, 512)         0         \n",
            "                                                                 \n",
            " conv_pw_12 (Conv2D)         (None, 7, 7, 1024)        524288    \n",
            "                                                                 \n",
            " conv_pw_12_bn (BatchNormali  (None, 7, 7, 1024)       4096      \n",
            " zation)                                                         \n",
            "                                                                 \n",
            " conv_pw_12_relu (ReLU)      (None, 7, 7, 1024)        0         \n",
            "                                                                 \n",
            " conv_dw_13 (DepthwiseConv2D  (None, 7, 7, 1024)       9216      \n",
            " )                                                               \n",
            "                                                                 \n",
            " conv_dw_13_bn (BatchNormali  (None, 7, 7, 1024)       4096      \n",
            " zation)                                                         \n",
            "                                                                 \n",
            " conv_dw_13_relu (ReLU)      (None, 7, 7, 1024)        0         \n",
            "                                                                 \n",
            " conv_pw_13 (Conv2D)         (None, 7, 7, 1024)        1048576   \n",
            "                                                                 \n",
            " conv_pw_13_bn (BatchNormali  (None, 7, 7, 1024)       4096      \n",
            " zation)                                                         \n",
            "                                                                 \n",
            " conv_pw_13_relu (ReLU)      (None, 7, 7, 1024)        0         \n",
            "                                                                 \n",
            " global_average_pooling2d (G  (None, 1024)             0         \n",
            " lobalAveragePooling2D)                                          \n",
            "                                                                 \n",
            " dense (Dense)               (None, 512)               524800    \n",
            "                                                                 \n",
            " dense_1 (Dense)             (None, 7)                 3591      \n",
            "                                                                 \n",
            "=================================================================\n",
            "Total params: 3,757,255\n",
            "Trainable params: 3,735,367\n",
            "Non-trainable params: 21,888\n",
            "_________________________________________________________________\n"
          ]
        }
      ]
    },
    {
      "cell_type": "code",
      "metadata": {
        "colab": {
          "base_uri": "https://localhost:8080/"
        },
        "id": "5_T4nXzD7YkI",
        "outputId": "a7ce2a26-8128-4acc-9309-a3db59ef7e7f"
      },
      "source": [
        "len(model.layers)"
      ],
      "execution_count": null,
      "outputs": [
        {
          "output_type": "execute_result",
          "data": {
            "text/plain": [
              "89"
            ]
          },
          "metadata": {},
          "execution_count": 17
        }
      ]
    },
    {
      "cell_type": "code",
      "metadata": {
        "colab": {
          "base_uri": "https://localhost:8080/"
        },
        "id": "Efv8B7qdFar4",
        "outputId": "44475405-be92-4481-9271-22ce9d42d6cc"
      },
      "source": [
        "model.summary()"
      ],
      "execution_count": null,
      "outputs": [
        {
          "output_type": "stream",
          "name": "stdout",
          "text": [
            "Model: \"model\"\n",
            "_________________________________________________________________\n",
            " Layer (type)                Output Shape              Param #   \n",
            "=================================================================\n",
            " input_2 (InputLayer)        [(None, 224, 224, 3)]     0         \n",
            "                                                                 \n",
            " conv1 (Conv2D)              (None, 112, 112, 32)      864       \n",
            "                                                                 \n",
            " conv1_bn (BatchNormalizatio  (None, 112, 112, 32)     128       \n",
            " n)                                                              \n",
            "                                                                 \n",
            " conv1_relu (ReLU)           (None, 112, 112, 32)      0         \n",
            "                                                                 \n",
            " conv_dw_1 (DepthwiseConv2D)  (None, 112, 112, 32)     288       \n",
            "                                                                 \n",
            " conv_dw_1_bn (BatchNormaliz  (None, 112, 112, 32)     128       \n",
            " ation)                                                          \n",
            "                                                                 \n",
            " conv_dw_1_relu (ReLU)       (None, 112, 112, 32)      0         \n",
            "                                                                 \n",
            " conv_pw_1 (Conv2D)          (None, 112, 112, 64)      2048      \n",
            "                                                                 \n",
            " conv_pw_1_bn (BatchNormaliz  (None, 112, 112, 64)     256       \n",
            " ation)                                                          \n",
            "                                                                 \n",
            " conv_pw_1_relu (ReLU)       (None, 112, 112, 64)      0         \n",
            "                                                                 \n",
            " conv_pad_2 (ZeroPadding2D)  (None, 113, 113, 64)      0         \n",
            "                                                                 \n",
            " conv_dw_2 (DepthwiseConv2D)  (None, 56, 56, 64)       576       \n",
            "                                                                 \n",
            " conv_dw_2_bn (BatchNormaliz  (None, 56, 56, 64)       256       \n",
            " ation)                                                          \n",
            "                                                                 \n",
            " conv_dw_2_relu (ReLU)       (None, 56, 56, 64)        0         \n",
            "                                                                 \n",
            " conv_pw_2 (Conv2D)          (None, 56, 56, 128)       8192      \n",
            "                                                                 \n",
            " conv_pw_2_bn (BatchNormaliz  (None, 56, 56, 128)      512       \n",
            " ation)                                                          \n",
            "                                                                 \n",
            " conv_pw_2_relu (ReLU)       (None, 56, 56, 128)       0         \n",
            "                                                                 \n",
            " conv_dw_3 (DepthwiseConv2D)  (None, 56, 56, 128)      1152      \n",
            "                                                                 \n",
            " conv_dw_3_bn (BatchNormaliz  (None, 56, 56, 128)      512       \n",
            " ation)                                                          \n",
            "                                                                 \n",
            " conv_dw_3_relu (ReLU)       (None, 56, 56, 128)       0         \n",
            "                                                                 \n",
            " conv_pw_3 (Conv2D)          (None, 56, 56, 128)       16384     \n",
            "                                                                 \n",
            " conv_pw_3_bn (BatchNormaliz  (None, 56, 56, 128)      512       \n",
            " ation)                                                          \n",
            "                                                                 \n",
            " conv_pw_3_relu (ReLU)       (None, 56, 56, 128)       0         \n",
            "                                                                 \n",
            " conv_pad_4 (ZeroPadding2D)  (None, 57, 57, 128)       0         \n",
            "                                                                 \n",
            " conv_dw_4 (DepthwiseConv2D)  (None, 28, 28, 128)      1152      \n",
            "                                                                 \n",
            " conv_dw_4_bn (BatchNormaliz  (None, 28, 28, 128)      512       \n",
            " ation)                                                          \n",
            "                                                                 \n",
            " conv_dw_4_relu (ReLU)       (None, 28, 28, 128)       0         \n",
            "                                                                 \n",
            " conv_pw_4 (Conv2D)          (None, 28, 28, 256)       32768     \n",
            "                                                                 \n",
            " conv_pw_4_bn (BatchNormaliz  (None, 28, 28, 256)      1024      \n",
            " ation)                                                          \n",
            "                                                                 \n",
            " conv_pw_4_relu (ReLU)       (None, 28, 28, 256)       0         \n",
            "                                                                 \n",
            " conv_dw_5 (DepthwiseConv2D)  (None, 28, 28, 256)      2304      \n",
            "                                                                 \n",
            " conv_dw_5_bn (BatchNormaliz  (None, 28, 28, 256)      1024      \n",
            " ation)                                                          \n",
            "                                                                 \n",
            " conv_dw_5_relu (ReLU)       (None, 28, 28, 256)       0         \n",
            "                                                                 \n",
            " conv_pw_5 (Conv2D)          (None, 28, 28, 256)       65536     \n",
            "                                                                 \n",
            " conv_pw_5_bn (BatchNormaliz  (None, 28, 28, 256)      1024      \n",
            " ation)                                                          \n",
            "                                                                 \n",
            " conv_pw_5_relu (ReLU)       (None, 28, 28, 256)       0         \n",
            "                                                                 \n",
            " conv_pad_6 (ZeroPadding2D)  (None, 29, 29, 256)       0         \n",
            "                                                                 \n",
            " conv_dw_6 (DepthwiseConv2D)  (None, 14, 14, 256)      2304      \n",
            "                                                                 \n",
            " conv_dw_6_bn (BatchNormaliz  (None, 14, 14, 256)      1024      \n",
            " ation)                                                          \n",
            "                                                                 \n",
            " conv_dw_6_relu (ReLU)       (None, 14, 14, 256)       0         \n",
            "                                                                 \n",
            " conv_pw_6 (Conv2D)          (None, 14, 14, 512)       131072    \n",
            "                                                                 \n",
            " conv_pw_6_bn (BatchNormaliz  (None, 14, 14, 512)      2048      \n",
            " ation)                                                          \n",
            "                                                                 \n",
            " conv_pw_6_relu (ReLU)       (None, 14, 14, 512)       0         \n",
            "                                                                 \n",
            " conv_dw_7 (DepthwiseConv2D)  (None, 14, 14, 512)      4608      \n",
            "                                                                 \n",
            " conv_dw_7_bn (BatchNormaliz  (None, 14, 14, 512)      2048      \n",
            " ation)                                                          \n",
            "                                                                 \n",
            " conv_dw_7_relu (ReLU)       (None, 14, 14, 512)       0         \n",
            "                                                                 \n",
            " conv_pw_7 (Conv2D)          (None, 14, 14, 512)       262144    \n",
            "                                                                 \n",
            " conv_pw_7_bn (BatchNormaliz  (None, 14, 14, 512)      2048      \n",
            " ation)                                                          \n",
            "                                                                 \n",
            " conv_pw_7_relu (ReLU)       (None, 14, 14, 512)       0         \n",
            "                                                                 \n",
            " conv_dw_8 (DepthwiseConv2D)  (None, 14, 14, 512)      4608      \n",
            "                                                                 \n",
            " conv_dw_8_bn (BatchNormaliz  (None, 14, 14, 512)      2048      \n",
            " ation)                                                          \n",
            "                                                                 \n",
            " conv_dw_8_relu (ReLU)       (None, 14, 14, 512)       0         \n",
            "                                                                 \n",
            " conv_pw_8 (Conv2D)          (None, 14, 14, 512)       262144    \n",
            "                                                                 \n",
            " conv_pw_8_bn (BatchNormaliz  (None, 14, 14, 512)      2048      \n",
            " ation)                                                          \n",
            "                                                                 \n",
            " conv_pw_8_relu (ReLU)       (None, 14, 14, 512)       0         \n",
            "                                                                 \n",
            " conv_dw_9 (DepthwiseConv2D)  (None, 14, 14, 512)      4608      \n",
            "                                                                 \n",
            " conv_dw_9_bn (BatchNormaliz  (None, 14, 14, 512)      2048      \n",
            " ation)                                                          \n",
            "                                                                 \n",
            " conv_dw_9_relu (ReLU)       (None, 14, 14, 512)       0         \n",
            "                                                                 \n",
            " conv_pw_9 (Conv2D)          (None, 14, 14, 512)       262144    \n",
            "                                                                 \n",
            " conv_pw_9_bn (BatchNormaliz  (None, 14, 14, 512)      2048      \n",
            " ation)                                                          \n",
            "                                                                 \n",
            " conv_pw_9_relu (ReLU)       (None, 14, 14, 512)       0         \n",
            "                                                                 \n",
            " conv_dw_10 (DepthwiseConv2D  (None, 14, 14, 512)      4608      \n",
            " )                                                               \n",
            "                                                                 \n",
            " conv_dw_10_bn (BatchNormali  (None, 14, 14, 512)      2048      \n",
            " zation)                                                         \n",
            "                                                                 \n",
            " conv_dw_10_relu (ReLU)      (None, 14, 14, 512)       0         \n",
            "                                                                 \n",
            " conv_pw_10 (Conv2D)         (None, 14, 14, 512)       262144    \n",
            "                                                                 \n",
            " conv_pw_10_bn (BatchNormali  (None, 14, 14, 512)      2048      \n",
            " zation)                                                         \n",
            "                                                                 \n",
            " conv_pw_10_relu (ReLU)      (None, 14, 14, 512)       0         \n",
            "                                                                 \n",
            " conv_dw_11 (DepthwiseConv2D  (None, 14, 14, 512)      4608      \n",
            " )                                                               \n",
            "                                                                 \n",
            " conv_dw_11_bn (BatchNormali  (None, 14, 14, 512)      2048      \n",
            " zation)                                                         \n",
            "                                                                 \n",
            " conv_dw_11_relu (ReLU)      (None, 14, 14, 512)       0         \n",
            "                                                                 \n",
            " conv_pw_11 (Conv2D)         (None, 14, 14, 512)       262144    \n",
            "                                                                 \n",
            " conv_pw_11_bn (BatchNormali  (None, 14, 14, 512)      2048      \n",
            " zation)                                                         \n",
            "                                                                 \n",
            " conv_pw_11_relu (ReLU)      (None, 14, 14, 512)       0         \n",
            "                                                                 \n",
            " conv_pad_12 (ZeroPadding2D)  (None, 15, 15, 512)      0         \n",
            "                                                                 \n",
            " conv_dw_12 (DepthwiseConv2D  (None, 7, 7, 512)        4608      \n",
            " )                                                               \n",
            "                                                                 \n",
            " conv_dw_12_bn (BatchNormali  (None, 7, 7, 512)        2048      \n",
            " zation)                                                         \n",
            "                                                                 \n",
            " conv_dw_12_relu (ReLU)      (None, 7, 7, 512)         0         \n",
            "                                                                 \n",
            " conv_pw_12 (Conv2D)         (None, 7, 7, 1024)        524288    \n",
            "                                                                 \n",
            " conv_pw_12_bn (BatchNormali  (None, 7, 7, 1024)       4096      \n",
            " zation)                                                         \n",
            "                                                                 \n",
            " conv_pw_12_relu (ReLU)      (None, 7, 7, 1024)        0         \n",
            "                                                                 \n",
            " conv_dw_13 (DepthwiseConv2D  (None, 7, 7, 1024)       9216      \n",
            " )                                                               \n",
            "                                                                 \n",
            " conv_dw_13_bn (BatchNormali  (None, 7, 7, 1024)       4096      \n",
            " zation)                                                         \n",
            "                                                                 \n",
            " conv_dw_13_relu (ReLU)      (None, 7, 7, 1024)        0         \n",
            "                                                                 \n",
            " conv_pw_13 (Conv2D)         (None, 7, 7, 1024)        1048576   \n",
            "                                                                 \n",
            " conv_pw_13_bn (BatchNormali  (None, 7, 7, 1024)       4096      \n",
            " zation)                                                         \n",
            "                                                                 \n",
            " conv_pw_13_relu (ReLU)      (None, 7, 7, 1024)        0         \n",
            "                                                                 \n",
            " global_average_pooling2d (G  (None, 1024)             0         \n",
            " lobalAveragePooling2D)                                          \n",
            "                                                                 \n",
            " dense (Dense)               (None, 512)               524800    \n",
            "                                                                 \n",
            " dense_1 (Dense)             (None, 7)                 3591      \n",
            "                                                                 \n",
            "=================================================================\n",
            "Total params: 3,757,255\n",
            "Trainable params: 3,735,367\n",
            "Non-trainable params: 21,888\n",
            "_________________________________________________________________\n"
          ]
        }
      ]
    },
    {
      "cell_type": "code",
      "metadata": {
        "id": "B3YhjeokM-yW"
      },
      "source": [
        "# model.compile(loss=keras.losses.SparseCategoricalCrossentropy(),\n",
        "#               metrics=[keras.metrics.SparseCategoricalAccuracy()])\n",
        "from tensorflow.keras.optimizers import Adam\n",
        "\n",
        "model.compile(optimizer=Adam(learning_rate=5e-3), loss=keras.losses.CategoricalCrossentropy(),\n",
        "              metrics=[keras.metrics.CategoricalAccuracy()])"
      ],
      "execution_count": null,
      "outputs": []
    },
    {
      "cell_type": "code",
      "source": [
        "#es_callback = keras.callbacks.EarlyStopping(monitor='val_loss', patience=20)"
      ],
      "metadata": {
        "id": "g7kL_QF7kn51"
      },
      "execution_count": null,
      "outputs": []
    },
    {
      "cell_type": "code",
      "source": [
        "#callback = tf.keras.callbacks.EarlyStopping(monitor='val_loss', patience=2)"
      ],
      "metadata": {
        "id": "xCjZHkgxmumM"
      },
      "execution_count": null,
      "outputs": []
    },
    {
      "cell_type": "code",
      "source": [
        ""
      ],
      "metadata": {
        "id": "H2jNxPOs48Gu"
      },
      "execution_count": null,
      "outputs": []
    },
    {
      "cell_type": "code",
      "metadata": {
        "colab": {
          "base_uri": "https://localhost:8080/"
        },
        "id": "YeQABRdP5Bx9",
        "outputId": "711c3f7d-0b4b-4105-c532-453276069d78"
      },
      "source": [
        "version = 50\n",
        "epoch = 20\n",
        "histories = []\n",
        "\n",
        "for i in range(5):\n",
        "  csv_logger = CSVLogger('/content/drive/MyDrive/graduation3/runn/history' + str(epoch * (i + 1)) + '.log', separator=',', append=False)\n",
        "  #callback = tf.keras.callbacks.EarlyStopping(monitor='val_loss', patience=2)\n",
        "  history = model.fit(generator, validation_data = validation_generator, epochs = epoch, callbacks = [csv_logger])\n",
        "  histories.append(history)\n",
        "  model.save('/content/drive/MyDrive/graduation3/runn/history' + 'MobileNetAlllayers.' + str(epoch * (i + 1)))"
      ],
      "execution_count": null,
      "outputs": [
        {
          "output_type": "stream",
          "name": "stdout",
          "text": [
            "Epoch 1/20\n",
            "387/387 [==============================] - 2239s 6s/step - loss: 1.3062 - categorical_accuracy: 0.5447 - val_loss: 3.2815 - val_categorical_accuracy: 0.3290\n",
            "Epoch 2/20\n",
            "387/387 [==============================] - 178s 460ms/step - loss: 0.9756 - categorical_accuracy: 0.6577 - val_loss: 3.1269 - val_categorical_accuracy: 0.4588\n",
            "Epoch 3/20\n",
            "387/387 [==============================] - 179s 461ms/step - loss: 0.8868 - categorical_accuracy: 0.6889 - val_loss: 1.5234 - val_categorical_accuracy: 0.5510\n",
            "Epoch 4/20\n",
            "387/387 [==============================] - 179s 462ms/step - loss: 0.8253 - categorical_accuracy: 0.7134 - val_loss: 1.9063 - val_categorical_accuracy: 0.5121\n",
            "Epoch 5/20\n",
            "387/387 [==============================] - 179s 462ms/step - loss: 0.7719 - categorical_accuracy: 0.7313 - val_loss: 1.9043 - val_categorical_accuracy: 0.5801\n",
            "Epoch 6/20\n",
            "387/387 [==============================] - 179s 462ms/step - loss: 0.7199 - categorical_accuracy: 0.7511 - val_loss: 2.2401 - val_categorical_accuracy: 0.5885\n",
            "Epoch 7/20\n",
            "387/387 [==============================] - 179s 461ms/step - loss: 0.6646 - categorical_accuracy: 0.7692 - val_loss: 3.8854 - val_categorical_accuracy: 0.5131\n",
            "Epoch 8/20\n",
            "387/387 [==============================] - 178s 461ms/step - loss: 0.6332 - categorical_accuracy: 0.7811 - val_loss: 3.1546 - val_categorical_accuracy: 0.5445\n",
            "Epoch 9/20\n",
            "387/387 [==============================] - 178s 461ms/step - loss: 0.5844 - categorical_accuracy: 0.7968 - val_loss: 2.4621 - val_categorical_accuracy: 0.5306\n",
            "Epoch 10/20\n",
            "387/387 [==============================] - 178s 461ms/step - loss: 0.5283 - categorical_accuracy: 0.8169 - val_loss: 3.2360 - val_categorical_accuracy: 0.5616\n",
            "Epoch 11/20\n",
            "387/387 [==============================] - 179s 461ms/step - loss: 0.4657 - categorical_accuracy: 0.8410 - val_loss: 2.9057 - val_categorical_accuracy: 0.5697\n",
            "Epoch 12/20\n",
            "387/387 [==============================] - 179s 461ms/step - loss: 0.4497 - categorical_accuracy: 0.8464 - val_loss: 3.3422 - val_categorical_accuracy: 0.5345\n",
            "Epoch 13/20\n",
            "387/387 [==============================] - 179s 461ms/step - loss: 0.3910 - categorical_accuracy: 0.8664 - val_loss: 2.8751 - val_categorical_accuracy: 0.5937\n",
            "Epoch 14/20\n",
            "387/387 [==============================] - 179s 462ms/step - loss: 0.3438 - categorical_accuracy: 0.8852 - val_loss: 2.5313 - val_categorical_accuracy: 0.5830\n",
            "Epoch 15/20\n",
            "387/387 [==============================] - 178s 460ms/step - loss: 0.3004 - categorical_accuracy: 0.9002 - val_loss: 3.6145 - val_categorical_accuracy: 0.5361\n",
            "Epoch 16/20\n",
            "387/387 [==============================] - 178s 461ms/step - loss: 0.2567 - categorical_accuracy: 0.9143 - val_loss: 3.0967 - val_categorical_accuracy: 0.5956\n",
            "Epoch 17/20\n",
            "387/387 [==============================] - 178s 461ms/step - loss: 0.2411 - categorical_accuracy: 0.9195 - val_loss: 3.0852 - val_categorical_accuracy: 0.5700\n",
            "Epoch 18/20\n",
            "387/387 [==============================] - 178s 460ms/step - loss: 0.2171 - categorical_accuracy: 0.9273 - val_loss: 2.9325 - val_categorical_accuracy: 0.5445\n",
            "Epoch 19/20\n",
            "387/387 [==============================] - 179s 461ms/step - loss: 0.1923 - categorical_accuracy: 0.9356 - val_loss: 3.5665 - val_categorical_accuracy: 0.5416\n",
            "Epoch 20/20\n",
            "387/387 [==============================] - 178s 461ms/step - loss: 0.1594 - categorical_accuracy: 0.9468 - val_loss: 4.7291 - val_categorical_accuracy: 0.5484\n",
            "INFO:tensorflow:Assets written to: /content/drive/MyDrive/graduation3/runn/historyMobileNetAlllayers.20/assets\n",
            "Epoch 1/20\n",
            "387/387 [==============================] - 179s 462ms/step - loss: 0.1714 - categorical_accuracy: 0.9414 - val_loss: 4.1603 - val_categorical_accuracy: 0.5241\n",
            "Epoch 2/20\n",
            "387/387 [==============================] - 178s 460ms/step - loss: 0.1459 - categorical_accuracy: 0.9495 - val_loss: 5.1393 - val_categorical_accuracy: 0.5176\n",
            "Epoch 3/20\n",
            "387/387 [==============================] - 178s 459ms/step - loss: 0.1331 - categorical_accuracy: 0.9548 - val_loss: 3.7809 - val_categorical_accuracy: 0.5341\n",
            "Epoch 4/20\n",
            "387/387 [==============================] - 178s 458ms/step - loss: 0.1356 - categorical_accuracy: 0.9556 - val_loss: 2.3793 - val_categorical_accuracy: 0.6037\n",
            "Epoch 5/20\n",
            "387/387 [==============================] - 176s 455ms/step - loss: 0.1207 - categorical_accuracy: 0.9576 - val_loss: 4.9964 - val_categorical_accuracy: 0.5859\n",
            "Epoch 6/20\n",
            "387/387 [==============================] - 177s 458ms/step - loss: 0.1244 - categorical_accuracy: 0.9587 - val_loss: 7.8959 - val_categorical_accuracy: 0.5086\n",
            "Epoch 7/20\n",
            "387/387 [==============================] - 178s 461ms/step - loss: 0.1042 - categorical_accuracy: 0.9657 - val_loss: 3.9062 - val_categorical_accuracy: 0.6199\n",
            "Epoch 8/20\n",
            "387/387 [==============================] - 179s 461ms/step - loss: 0.0966 - categorical_accuracy: 0.9665 - val_loss: 5.5864 - val_categorical_accuracy: 0.4830\n",
            "Epoch 9/20\n",
            "387/387 [==============================] - 178s 460ms/step - loss: 0.1093 - categorical_accuracy: 0.9621 - val_loss: 2.7413 - val_categorical_accuracy: 0.6060\n",
            "Epoch 10/20\n",
            "387/387 [==============================] - 178s 461ms/step - loss: 0.0858 - categorical_accuracy: 0.9704 - val_loss: 4.6762 - val_categorical_accuracy: 0.5458\n",
            "Epoch 11/20\n",
            "387/387 [==============================] - 178s 460ms/step - loss: 0.0865 - categorical_accuracy: 0.9707 - val_loss: 4.1594 - val_categorical_accuracy: 0.5535\n",
            "Epoch 12/20\n",
            "387/387 [==============================] - 178s 459ms/step - loss: 0.0840 - categorical_accuracy: 0.9737 - val_loss: 3.3447 - val_categorical_accuracy: 0.5445\n",
            "Epoch 13/20\n",
            "387/387 [==============================] - 178s 461ms/step - loss: 0.0822 - categorical_accuracy: 0.9725 - val_loss: 2.6567 - val_categorical_accuracy: 0.5969\n",
            "Epoch 14/20\n",
            "387/387 [==============================] - 178s 460ms/step - loss: 0.0954 - categorical_accuracy: 0.9697 - val_loss: 4.1158 - val_categorical_accuracy: 0.5752\n",
            "Epoch 15/20\n",
            "387/387 [==============================] - 178s 460ms/step - loss: 0.0843 - categorical_accuracy: 0.9703 - val_loss: 5.0042 - val_categorical_accuracy: 0.4960\n",
            "Epoch 16/20\n",
            "387/387 [==============================] - 179s 461ms/step - loss: 0.0779 - categorical_accuracy: 0.9737 - val_loss: 5.0559 - val_categorical_accuracy: 0.4969\n",
            "Epoch 17/20\n",
            "387/387 [==============================] - 179s 461ms/step - loss: 0.0776 - categorical_accuracy: 0.9753 - val_loss: 5.9136 - val_categorical_accuracy: 0.5050\n",
            "Epoch 18/20\n",
            "387/387 [==============================] - 179s 461ms/step - loss: 0.0579 - categorical_accuracy: 0.9813 - val_loss: 3.0864 - val_categorical_accuracy: 0.6192\n",
            "Epoch 19/20\n",
            "387/387 [==============================] - 180s 464ms/step - loss: 0.0849 - categorical_accuracy: 0.9709 - val_loss: 2.8431 - val_categorical_accuracy: 0.5506\n",
            "Epoch 20/20\n",
            "387/387 [==============================] - 180s 464ms/step - loss: 0.0755 - categorical_accuracy: 0.9747 - val_loss: 3.8774 - val_categorical_accuracy: 0.5429\n",
            "INFO:tensorflow:Assets written to: /content/drive/MyDrive/graduation3/runn/historyMobileNetAlllayers.40/assets\n",
            "Epoch 1/20\n",
            "387/387 [==============================] - 178s 461ms/step - loss: 0.0584 - categorical_accuracy: 0.9793 - val_loss: 5.7545 - val_categorical_accuracy: 0.5125\n",
            "Epoch 2/20\n",
            "387/387 [==============================] - 179s 462ms/step - loss: 0.0781 - categorical_accuracy: 0.9771 - val_loss: 3.5347 - val_categorical_accuracy: 0.5836\n",
            "Epoch 3/20\n",
            "387/387 [==============================] - 178s 460ms/step - loss: 0.0631 - categorical_accuracy: 0.9786 - val_loss: 2.7965 - val_categorical_accuracy: 0.5730\n",
            "Epoch 4/20\n",
            "387/387 [==============================] - 179s 462ms/step - loss: 0.0558 - categorical_accuracy: 0.9809 - val_loss: 3.5553 - val_categorical_accuracy: 0.5526\n",
            "Epoch 5/20\n",
            "387/387 [==============================] - 178s 460ms/step - loss: 0.0609 - categorical_accuracy: 0.9796 - val_loss: 3.3348 - val_categorical_accuracy: 0.5522\n",
            "Epoch 6/20\n",
            "387/387 [==============================] - 178s 460ms/step - loss: 0.0734 - categorical_accuracy: 0.9757 - val_loss: 3.9793 - val_categorical_accuracy: 0.5607\n",
            "Epoch 7/20\n",
            "387/387 [==============================] - 178s 460ms/step - loss: 0.0567 - categorical_accuracy: 0.9808 - val_loss: 4.4157 - val_categorical_accuracy: 0.5231\n",
            "Epoch 8/20\n",
            "387/387 [==============================] - 179s 462ms/step - loss: 0.0586 - categorical_accuracy: 0.9814 - val_loss: 3.2074 - val_categorical_accuracy: 0.5775\n",
            "Epoch 9/20\n",
            "387/387 [==============================] - 178s 459ms/step - loss: 0.0604 - categorical_accuracy: 0.9800 - val_loss: 2.9610 - val_categorical_accuracy: 0.5810\n",
            "Epoch 10/20\n",
            "387/387 [==============================] - 179s 461ms/step - loss: 0.0704 - categorical_accuracy: 0.9766 - val_loss: 4.3842 - val_categorical_accuracy: 0.5658\n",
            "Epoch 11/20\n",
            "387/387 [==============================] - 179s 461ms/step - loss: 0.0515 - categorical_accuracy: 0.9835 - val_loss: 3.4172 - val_categorical_accuracy: 0.5471\n",
            "Epoch 12/20\n",
            "387/387 [==============================] - 179s 463ms/step - loss: 0.0561 - categorical_accuracy: 0.9814 - val_loss: 4.3659 - val_categorical_accuracy: 0.5707\n",
            "Epoch 13/20\n",
            "387/387 [==============================] - 179s 461ms/step - loss: 0.0461 - categorical_accuracy: 0.9847 - val_loss: 2.9205 - val_categorical_accuracy: 0.6066\n",
            "Epoch 14/20\n",
            "387/387 [==============================] - 179s 462ms/step - loss: 0.0435 - categorical_accuracy: 0.9851 - val_loss: 5.2334 - val_categorical_accuracy: 0.5235\n",
            "Epoch 15/20\n",
            "387/387 [==============================] - 179s 462ms/step - loss: 0.0580 - categorical_accuracy: 0.9820 - val_loss: 5.7426 - val_categorical_accuracy: 0.5503\n",
            "Epoch 16/20\n",
            "387/387 [==============================] - 180s 465ms/step - loss: 0.0508 - categorical_accuracy: 0.9816 - val_loss: 3.8701 - val_categorical_accuracy: 0.5419\n",
            "Epoch 17/20\n",
            "387/387 [==============================] - 178s 460ms/step - loss: 0.0535 - categorical_accuracy: 0.9830 - val_loss: 3.6906 - val_categorical_accuracy: 0.5943\n",
            "Epoch 18/20\n",
            "387/387 [==============================] - 178s 461ms/step - loss: 0.0513 - categorical_accuracy: 0.9821 - val_loss: 3.5489 - val_categorical_accuracy: 0.5998\n",
            "Epoch 19/20\n",
            "387/387 [==============================] - 179s 461ms/step - loss: 0.0448 - categorical_accuracy: 0.9852 - val_loss: 5.2393 - val_categorical_accuracy: 0.5419\n",
            "Epoch 20/20\n",
            "387/387 [==============================] - 178s 461ms/step - loss: 0.0515 - categorical_accuracy: 0.9832 - val_loss: 3.5977 - val_categorical_accuracy: 0.6060\n",
            "INFO:tensorflow:Assets written to: /content/drive/MyDrive/graduation3/runn/historyMobileNetAlllayers.60/assets\n",
            "Epoch 1/20\n",
            "387/387 [==============================] - 179s 463ms/step - loss: 0.0438 - categorical_accuracy: 0.9854 - val_loss: 3.7580 - val_categorical_accuracy: 0.5377\n",
            "Epoch 2/20\n",
            "387/387 [==============================] - 179s 462ms/step - loss: 0.0509 - categorical_accuracy: 0.9837 - val_loss: 4.3332 - val_categorical_accuracy: 0.5393\n",
            "Epoch 3/20\n",
            "387/387 [==============================] - 179s 462ms/step - loss: 0.0560 - categorical_accuracy: 0.9818 - val_loss: 4.1043 - val_categorical_accuracy: 0.5390\n",
            "Epoch 4/20\n",
            "387/387 [==============================] - 178s 461ms/step - loss: 0.0506 - categorical_accuracy: 0.9834 - val_loss: 5.3183 - val_categorical_accuracy: 0.5251\n",
            "Epoch 5/20\n",
            "387/387 [==============================] - 179s 461ms/step - loss: 0.0327 - categorical_accuracy: 0.9888 - val_loss: 4.4498 - val_categorical_accuracy: 0.5105\n",
            "Epoch 6/20\n",
            "387/387 [==============================] - 179s 461ms/step - loss: 0.0505 - categorical_accuracy: 0.9845 - val_loss: 4.2967 - val_categorical_accuracy: 0.5390\n",
            "Epoch 7/20\n",
            "387/387 [==============================] - 179s 462ms/step - loss: 0.0394 - categorical_accuracy: 0.9872 - val_loss: 4.6639 - val_categorical_accuracy: 0.5050\n",
            "Epoch 8/20\n",
            "387/387 [==============================] - 179s 461ms/step - loss: 0.0432 - categorical_accuracy: 0.9857 - val_loss: 4.3359 - val_categorical_accuracy: 0.5341\n",
            "Epoch 9/20\n",
            "387/387 [==============================] - 179s 461ms/step - loss: 0.0454 - categorical_accuracy: 0.9842 - val_loss: 4.7884 - val_categorical_accuracy: 0.5361\n",
            "Epoch 10/20\n",
            "387/387 [==============================] - 179s 463ms/step - loss: 0.0503 - categorical_accuracy: 0.9828 - val_loss: 3.8746 - val_categorical_accuracy: 0.5581\n",
            "Epoch 11/20\n",
            "387/387 [==============================] - 179s 462ms/step - loss: 0.0402 - categorical_accuracy: 0.9867 - val_loss: 3.1869 - val_categorical_accuracy: 0.5872\n",
            "Epoch 12/20\n",
            "387/387 [==============================] - 179s 463ms/step - loss: 0.0385 - categorical_accuracy: 0.9880 - val_loss: 3.2177 - val_categorical_accuracy: 0.5610\n",
            "Epoch 13/20\n",
            "387/387 [==============================] - 179s 463ms/step - loss: 0.0383 - categorical_accuracy: 0.9863 - val_loss: 4.0803 - val_categorical_accuracy: 0.5205\n",
            "Epoch 14/20\n",
            "387/387 [==============================] - 179s 463ms/step - loss: 0.0446 - categorical_accuracy: 0.9855 - val_loss: 4.3751 - val_categorical_accuracy: 0.4960\n",
            "Epoch 15/20\n",
            "387/387 [==============================] - 179s 463ms/step - loss: 0.0365 - categorical_accuracy: 0.9880 - val_loss: 4.4001 - val_categorical_accuracy: 0.5856\n",
            "Epoch 16/20\n",
            "387/387 [==============================] - 179s 462ms/step - loss: 0.0334 - categorical_accuracy: 0.9893 - val_loss: 3.7423 - val_categorical_accuracy: 0.5888\n",
            "Epoch 17/20\n",
            "387/387 [==============================] - 179s 464ms/step - loss: 0.0365 - categorical_accuracy: 0.9876 - val_loss: 3.6793 - val_categorical_accuracy: 0.5755\n",
            "Epoch 18/20\n",
            "387/387 [==============================] - 179s 463ms/step - loss: 0.0437 - categorical_accuracy: 0.9851 - val_loss: 6.9170 - val_categorical_accuracy: 0.5196\n",
            "Epoch 19/20\n",
            "387/387 [==============================] - 180s 464ms/step - loss: 0.0452 - categorical_accuracy: 0.9846 - val_loss: 2.6640 - val_categorical_accuracy: 0.5607\n",
            "Epoch 20/20\n",
            "387/387 [==============================] - 179s 463ms/step - loss: 0.0369 - categorical_accuracy: 0.9879 - val_loss: 5.2552 - val_categorical_accuracy: 0.5002\n",
            "INFO:tensorflow:Assets written to: /content/drive/MyDrive/graduation3/runn/historyMobileNetAlllayers.80/assets\n",
            "Epoch 1/20\n",
            "387/387 [==============================] - 180s 464ms/step - loss: 0.0363 - categorical_accuracy: 0.9884 - val_loss: 4.5143 - val_categorical_accuracy: 0.5102\n",
            "Epoch 2/20\n",
            "387/387 [==============================] - 179s 464ms/step - loss: 0.0332 - categorical_accuracy: 0.9888 - val_loss: 5.3474 - val_categorical_accuracy: 0.5497\n",
            "Epoch 3/20\n",
            "387/387 [==============================] - 180s 464ms/step - loss: 0.0403 - categorical_accuracy: 0.9861 - val_loss: 6.6682 - val_categorical_accuracy: 0.4940\n",
            "Epoch 4/20\n",
            "387/387 [==============================] - 179s 462ms/step - loss: 0.0490 - categorical_accuracy: 0.9847 - val_loss: 3.6649 - val_categorical_accuracy: 0.5031\n",
            "Epoch 5/20\n",
            "387/387 [==============================] - 179s 463ms/step - loss: 0.0363 - categorical_accuracy: 0.9880 - val_loss: 4.5595 - val_categorical_accuracy: 0.5442\n",
            "Epoch 6/20\n",
            "387/387 [==============================] - 179s 463ms/step - loss: 0.0258 - categorical_accuracy: 0.9919 - val_loss: 5.4938 - val_categorical_accuracy: 0.5315\n",
            "Epoch 7/20\n",
            "387/387 [==============================] - 179s 463ms/step - loss: 0.0272 - categorical_accuracy: 0.9914 - val_loss: 5.0034 - val_categorical_accuracy: 0.4827\n",
            "Epoch 8/20\n",
            "387/387 [==============================] - 180s 465ms/step - loss: 0.0464 - categorical_accuracy: 0.9846 - val_loss: 5.0890 - val_categorical_accuracy: 0.5251\n",
            "Epoch 9/20\n",
            "387/387 [==============================] - 180s 464ms/step - loss: 0.0437 - categorical_accuracy: 0.9856 - val_loss: 3.9160 - val_categorical_accuracy: 0.5163\n",
            "Epoch 10/20\n",
            "387/387 [==============================] - 180s 464ms/step - loss: 0.0396 - categorical_accuracy: 0.9868 - val_loss: 5.0208 - val_categorical_accuracy: 0.5008\n",
            "Epoch 11/20\n",
            "387/387 [==============================] - 179s 462ms/step - loss: 0.0325 - categorical_accuracy: 0.9892 - val_loss: 5.5286 - val_categorical_accuracy: 0.4717\n",
            "Epoch 12/20\n",
            "387/387 [==============================] - 180s 464ms/step - loss: 0.0229 - categorical_accuracy: 0.9918 - val_loss: 5.2866 - val_categorical_accuracy: 0.5141\n",
            "Epoch 13/20\n",
            "387/387 [==============================] - 179s 462ms/step - loss: 0.0321 - categorical_accuracy: 0.9894 - val_loss: 6.9480 - val_categorical_accuracy: 0.4811\n",
            "Epoch 14/20\n",
            "387/387 [==============================] - 179s 462ms/step - loss: 0.0417 - categorical_accuracy: 0.9848 - val_loss: 5.3862 - val_categorical_accuracy: 0.4908\n",
            "Epoch 15/20\n",
            "387/387 [==============================] - 179s 462ms/step - loss: 0.0325 - categorical_accuracy: 0.9899 - val_loss: 4.3703 - val_categorical_accuracy: 0.5192\n",
            "Epoch 16/20\n",
            "387/387 [==============================] - 179s 463ms/step - loss: 0.0255 - categorical_accuracy: 0.9914 - val_loss: 3.6798 - val_categorical_accuracy: 0.5393\n",
            "Epoch 17/20\n",
            "387/387 [==============================] - 179s 462ms/step - loss: 0.0392 - categorical_accuracy: 0.9884 - val_loss: 3.4450 - val_categorical_accuracy: 0.5697\n",
            "Epoch 18/20\n",
            "387/387 [==============================] - 180s 464ms/step - loss: 0.0286 - categorical_accuracy: 0.9903 - val_loss: 4.5908 - val_categorical_accuracy: 0.5445\n",
            "Epoch 19/20\n",
            "387/387 [==============================] - 179s 462ms/step - loss: 0.0285 - categorical_accuracy: 0.9905 - val_loss: 5.6115 - val_categorical_accuracy: 0.5092\n",
            "Epoch 20/20\n",
            "387/387 [==============================] - 179s 463ms/step - loss: 0.0393 - categorical_accuracy: 0.9859 - val_loss: 5.7148 - val_categorical_accuracy: 0.5416\n",
            "INFO:tensorflow:Assets written to: /content/drive/MyDrive/graduation3/runn/historyMobileNetAlllayers.100/assets\n"
          ]
        }
      ]
    },
    {
      "cell_type": "code",
      "metadata": {
        "id": "SPHQWJCIadh9"
      },
      "source": [
        "model = keras.models.load_model('/content/drive/MyDrive/graduation3/runn/historyMobileNetAlllayers.60')\n"
      ],
      "execution_count": null,
      "outputs": []
    },
    {
      "cell_type": "code",
      "metadata": {
        "id": "RimLXpe_Uca5"
      },
      "source": [
        "y_true = test_generator.classes"
      ],
      "execution_count": null,
      "outputs": []
    },
    {
      "cell_type": "code",
      "metadata": {
        "colab": {
          "base_uri": "https://localhost:8080/"
        },
        "id": "We3Z_yFxYb4H",
        "outputId": "24a1e394-5e76-4379-f93b-ddeb2f4dc232"
      },
      "source": [
        "y_true"
      ],
      "execution_count": null,
      "outputs": [
        {
          "output_type": "execute_result",
          "data": {
            "text/plain": [
              "array([0, 0, 0, ..., 6, 6, 6], dtype=int32)"
            ]
          },
          "metadata": {},
          "execution_count": 17
        }
      ]
    },
    {
      "cell_type": "code",
      "metadata": {
        "id": "CR3cuApaUlDo"
      },
      "source": [
        "y_pred_prob = model.predict(test_generator)"
      ],
      "execution_count": null,
      "outputs": []
    },
    {
      "cell_type": "code",
      "metadata": {
        "id": "18go_ZGqUrMl"
      },
      "source": [
        "y_pred = tf.argmax(y_pred_prob, axis=-1)"
      ],
      "execution_count": null,
      "outputs": []
    },
    {
      "cell_type": "code",
      "metadata": {
        "colab": {
          "base_uri": "https://localhost:8080/"
        },
        "id": "avGzs2SnUwsK",
        "outputId": "303b34ab-9bd3-4b4a-f083-20a96b2184c4"
      },
      "source": [
        "y_pred = y_pred.numpy()\n",
        "y_pred"
      ],
      "execution_count": null,
      "outputs": [
        {
          "output_type": "execute_result",
          "data": {
            "text/plain": [
              "array([1, 6, 0, ..., 6, 6, 6])"
            ]
          },
          "metadata": {},
          "execution_count": 26
        }
      ]
    },
    {
      "cell_type": "code",
      "metadata": {
        "colab": {
          "base_uri": "https://localhost:8080/"
        },
        "id": "GA_hEd4RU7O9",
        "outputId": "84767410-6c21-421b-b1de-a5b6a1bce307"
      },
      "source": [
        "print(classification_report(y_true, y_pred, target_names = classes))"
      ],
      "execution_count": null,
      "outputs": [
        {
          "output_type": "stream",
          "name": "stdout",
          "text": [
            "              precision    recall  f1-score   support\n",
            "\n",
            "    Surprise       0.89      0.89      0.89       200\n",
            "        Fear       0.87      0.98      0.92       200\n",
            "     Disgust       0.88      0.99      0.94       200\n",
            "       Happy       0.99      0.93      0.96       200\n",
            "         Sad       0.88      0.85      0.87       200\n",
            "       Anger       0.98      0.74      0.85       200\n",
            "     Neutral       0.82      0.89      0.85       200\n",
            "\n",
            "    accuracy                           0.90      1400\n",
            "   macro avg       0.90      0.90      0.90      1400\n",
            "weighted avg       0.90      0.90      0.90      1400\n",
            "\n"
          ]
        }
      ]
    },
    {
      "cell_type": "code",
      "metadata": {
        "colab": {
          "base_uri": "https://localhost:8080/"
        },
        "id": "nPEOyZ-PWH87",
        "outputId": "dacc556c-fe34-4d80-8739-48a37746bfcc"
      },
      "source": [
        "from sklearn.metrics import confusion_matrix\n",
        "cm = confusion_matrix(y_true, y_pred)\n",
        "cm"
      ],
      "execution_count": null,
      "outputs": [
        {
          "output_type": "execute_result",
          "data": {
            "text/plain": [
              "array([[178,   5,   2,   0,   1,   0,  14],\n",
              "       [  3, 196,   0,   0,   1,   0,   0],\n",
              "       [  0,   0, 199,   0,   0,   0,   1],\n",
              "       [  2,   1,   1, 185,   2,   2,   7],\n",
              "       [  3,   5,  12,   0, 171,   1,   8],\n",
              "       [  4,  17,   8,   2,  11, 149,   9],\n",
              "       [ 11,   1,   3,   0,   8,   0, 177]])"
            ]
          },
          "metadata": {},
          "execution_count": 28
        }
      ]
    },
    {
      "cell_type": "code",
      "metadata": {
        "colab": {
          "base_uri": "https://localhost:8080/",
          "height": 295
        },
        "id": "X032mgrhWAxs",
        "outputId": "e13ebef5-2a02-4c77-f6b3-022a31bcf71b"
      },
      "source": [
        "ax = plt.subplot()\n",
        "sns.heatmap(cm, annot=True, fmt='g', ax=ax);  #annot=True to annotate cells, ftm='g' to disable scientific notation\n",
        "\n",
        "# labels, title and ticks\n",
        "ax.set_xlabel('Predicted labels');ax.set_ylabel('True labels'); \n",
        "ax.set_title('Confusion Matrix'); \n",
        "ax.xaxis.set_ticklabels(classes); ax.yaxis.set_ticklabels(classes);"
      ],
      "execution_count": null,
      "outputs": [
        {
          "output_type": "display_data",
          "data": {
            "image/png": "[encoded data removed]",
            "text/plain": [
              "<Figure size 432x288 with 2 Axes>"
            ]
          },
          "metadata": {
            "needs_background": "light"
          }
        }
      ]
    },
    {
      "cell_type": "code",
      "metadata": {
        "colab": {
          "base_uri": "https://localhost:8080/",
          "height": 1000
        },
        "id": "OUPyDheFhT6e",
        "outputId": "6b27d99e-6279-41fa-b1ee-1d6e1aebff9c"
      },
      "source": [
        "# concatenate history from all the log files\n",
        "hist_df = pd.DataFrame()\n",
        "epoch = 20\n",
        "for i in range(3):\n",
        "  df = pd.read_csv('/content/drive/MyDrive/graduation3/runn/history' + str(epoch * (i + 1)) + '.log', delimiter = ',')\n",
        "  hist_df = pd.concat([hist_df, df], ignore_index = True)\n",
        "\n",
        "hist_df"
      ],
      "execution_count": null,
      "outputs": [
        {
          "output_type": "execute_result",
          "data": {
            "text/html": [
              "\n",
              "  <div id=\"df-2ef4b123-7293-4808-8557-f3b1fcfaa797\">\n",
              "    <div class=\"colab-df-container\">\n",
              "      <div>\n",
              "<style scoped>\n",
              "    .dataframe tbody tr th:only-of-type {\n",
              "        vertical-align: middle;\n",
              "    }\n",
              "\n",
              "    .dataframe tbody tr th {\n",
              "        vertical-align: top;\n",
              "    }\n",
              "\n",
              "    .dataframe thead th {\n",
              "        text-align: right;\n",
              "    }\n",
              "</style>\n",
              "<table border=\"1\" class=\"dataframe\">\n",
              "  <thead>\n",
              "    <tr style=\"text-align: right;\">\n",
              "      <th></th>\n",
              "      <th>epoch</th>\n",
              "      <th>categorical_accuracy</th>\n",
              "      <th>loss</th>\n",
              "      <th>val_categorical_accuracy</th>\n",
              "      <th>val_loss</th>\n",
              "    </tr>\n",
              "  </thead>\n",
              "  <tbody>\n",
              "    <tr>\n",
              "      <th>0</th>\n",
              "      <td>0</td>\n",
              "      <td>0.544669</td>\n",
              "      <td>1.306223</td>\n",
              "      <td>0.329020</td>\n",
              "      <td>3.281532</td>\n",
              "    </tr>\n",
              "    <tr>\n",
              "      <th>1</th>\n",
              "      <td>1</td>\n",
              "      <td>0.657674</td>\n",
              "      <td>0.975634</td>\n",
              "      <td>0.458751</td>\n",
              "      <td>3.126937</td>\n",
              "    </tr>\n",
              "    <tr>\n",
              "      <th>2</th>\n",
              "      <td>2</td>\n",
              "      <td>0.688934</td>\n",
              "      <td>0.886789</td>\n",
              "      <td>0.550954</td>\n",
              "      <td>1.523355</td>\n",
              "    </tr>\n",
              "    <tr>\n",
              "      <th>3</th>\n",
              "      <td>3</td>\n",
              "      <td>0.713409</td>\n",
              "      <td>0.825276</td>\n",
              "      <td>0.512132</td>\n",
              "      <td>1.906306</td>\n",
              "    </tr>\n",
              "    <tr>\n",
              "      <th>4</th>\n",
              "      <td>4</td>\n",
              "      <td>0.731341</td>\n",
              "      <td>0.771927</td>\n",
              "      <td>0.580071</td>\n",
              "      <td>1.904266</td>\n",
              "    </tr>\n",
              "    <tr>\n",
              "      <th>5</th>\n",
              "      <td>5</td>\n",
              "      <td>0.751131</td>\n",
              "      <td>0.719943</td>\n",
              "      <td>0.588483</td>\n",
              "      <td>2.240146</td>\n",
              "    </tr>\n",
              "    <tr>\n",
              "      <th>6</th>\n",
              "      <td>6</td>\n",
              "      <td>0.769225</td>\n",
              "      <td>0.664557</td>\n",
              "      <td>0.513103</td>\n",
              "      <td>3.885420</td>\n",
              "    </tr>\n",
              "    <tr>\n",
              "      <th>7</th>\n",
              "      <td>7</td>\n",
              "      <td>0.781099</td>\n",
              "      <td>0.633196</td>\n",
              "      <td>0.544484</td>\n",
              "      <td>3.154587</td>\n",
              "    </tr>\n",
              "    <tr>\n",
              "      <th>8</th>\n",
              "      <td>8</td>\n",
              "      <td>0.796850</td>\n",
              "      <td>0.584412</td>\n",
              "      <td>0.530573</td>\n",
              "      <td>2.462096</td>\n",
              "    </tr>\n",
              "    <tr>\n",
              "      <th>9</th>\n",
              "      <td>9</td>\n",
              "      <td>0.816882</td>\n",
              "      <td>0.528259</td>\n",
              "      <td>0.561631</td>\n",
              "      <td>3.235972</td>\n",
              "    </tr>\n",
              "    <tr>\n",
              "      <th>10</th>\n",
              "      <td>10</td>\n",
              "      <td>0.841034</td>\n",
              "      <td>0.465726</td>\n",
              "      <td>0.569719</td>\n",
              "      <td>2.905676</td>\n",
              "    </tr>\n",
              "    <tr>\n",
              "      <th>11</th>\n",
              "      <td>11</td>\n",
              "      <td>0.846446</td>\n",
              "      <td>0.449722</td>\n",
              "      <td>0.534455</td>\n",
              "      <td>3.342223</td>\n",
              "    </tr>\n",
              "    <tr>\n",
              "      <th>12</th>\n",
              "      <td>12</td>\n",
              "      <td>0.866397</td>\n",
              "      <td>0.391027</td>\n",
              "      <td>0.593659</td>\n",
              "      <td>2.875133</td>\n",
              "    </tr>\n",
              "    <tr>\n",
              "      <th>13</th>\n",
              "      <td>13</td>\n",
              "      <td>0.885218</td>\n",
              "      <td>0.343834</td>\n",
              "      <td>0.582983</td>\n",
              "      <td>2.531253</td>\n",
              "    </tr>\n",
              "    <tr>\n",
              "      <th>14</th>\n",
              "      <td>14</td>\n",
              "      <td>0.900242</td>\n",
              "      <td>0.300420</td>\n",
              "      <td>0.536072</td>\n",
              "      <td>3.614472</td>\n",
              "    </tr>\n",
              "    <tr>\n",
              "      <th>15</th>\n",
              "      <td>15</td>\n",
              "      <td>0.914297</td>\n",
              "      <td>0.256747</td>\n",
              "      <td>0.595600</td>\n",
              "      <td>3.096652</td>\n",
              "    </tr>\n",
              "    <tr>\n",
              "      <th>16</th>\n",
              "      <td>16</td>\n",
              "      <td>0.919548</td>\n",
              "      <td>0.241127</td>\n",
              "      <td>0.570042</td>\n",
              "      <td>3.085216</td>\n",
              "    </tr>\n",
              "    <tr>\n",
              "      <th>17</th>\n",
              "      <td>17</td>\n",
              "      <td>0.927302</td>\n",
              "      <td>0.217059</td>\n",
              "      <td>0.544484</td>\n",
              "      <td>2.932500</td>\n",
              "    </tr>\n",
              "    <tr>\n",
              "      <th>18</th>\n",
              "      <td>18</td>\n",
              "      <td>0.935622</td>\n",
              "      <td>0.192320</td>\n",
              "      <td>0.541572</td>\n",
              "      <td>3.566463</td>\n",
              "    </tr>\n",
              "    <tr>\n",
              "      <th>19</th>\n",
              "      <td>19</td>\n",
              "      <td>0.946850</td>\n",
              "      <td>0.159353</td>\n",
              "      <td>0.548366</td>\n",
              "      <td>4.729064</td>\n",
              "    </tr>\n",
              "    <tr>\n",
              "      <th>20</th>\n",
              "      <td>0</td>\n",
              "      <td>0.941357</td>\n",
              "      <td>0.171450</td>\n",
              "      <td>0.524102</td>\n",
              "      <td>4.160292</td>\n",
              "    </tr>\n",
              "    <tr>\n",
              "      <th>21</th>\n",
              "      <td>1</td>\n",
              "      <td>0.949515</td>\n",
              "      <td>0.145935</td>\n",
              "      <td>0.517632</td>\n",
              "      <td>5.139276</td>\n",
              "    </tr>\n",
              "    <tr>\n",
              "      <th>22</th>\n",
              "      <td>2</td>\n",
              "      <td>0.954766</td>\n",
              "      <td>0.133135</td>\n",
              "      <td>0.534131</td>\n",
              "      <td>3.780924</td>\n",
              "    </tr>\n",
              "    <tr>\n",
              "      <th>23</th>\n",
              "      <td>3</td>\n",
              "      <td>0.955573</td>\n",
              "      <td>0.135600</td>\n",
              "      <td>0.603688</td>\n",
              "      <td>2.379281</td>\n",
              "    </tr>\n",
              "    <tr>\n",
              "      <th>24</th>\n",
              "      <td>4</td>\n",
              "      <td>0.957593</td>\n",
              "      <td>0.120682</td>\n",
              "      <td>0.585895</td>\n",
              "      <td>4.996441</td>\n",
              "    </tr>\n",
              "    <tr>\n",
              "      <th>25</th>\n",
              "      <td>5</td>\n",
              "      <td>0.958724</td>\n",
              "      <td>0.124406</td>\n",
              "      <td>0.508573</td>\n",
              "      <td>7.895920</td>\n",
              "    </tr>\n",
              "    <tr>\n",
              "      <th>26</th>\n",
              "      <td>6</td>\n",
              "      <td>0.965670</td>\n",
              "      <td>0.104200</td>\n",
              "      <td>0.619864</td>\n",
              "      <td>3.906204</td>\n",
              "    </tr>\n",
              "    <tr>\n",
              "      <th>27</th>\n",
              "      <td>7</td>\n",
              "      <td>0.966478</td>\n",
              "      <td>0.096599</td>\n",
              "      <td>0.483015</td>\n",
              "      <td>5.586416</td>\n",
              "    </tr>\n",
              "    <tr>\n",
              "      <th>28</th>\n",
              "      <td>8</td>\n",
              "      <td>0.962116</td>\n",
              "      <td>0.109281</td>\n",
              "      <td>0.605953</td>\n",
              "      <td>2.741337</td>\n",
              "    </tr>\n",
              "    <tr>\n",
              "      <th>29</th>\n",
              "      <td>9</td>\n",
              "      <td>0.970436</td>\n",
              "      <td>0.085813</td>\n",
              "      <td>0.545778</td>\n",
              "      <td>4.676246</td>\n",
              "    </tr>\n",
              "    <tr>\n",
              "      <th>30</th>\n",
              "      <td>10</td>\n",
              "      <td>0.970679</td>\n",
              "      <td>0.086495</td>\n",
              "      <td>0.553543</td>\n",
              "      <td>4.159438</td>\n",
              "    </tr>\n",
              "    <tr>\n",
              "      <th>31</th>\n",
              "      <td>11</td>\n",
              "      <td>0.973748</td>\n",
              "      <td>0.083961</td>\n",
              "      <td>0.544484</td>\n",
              "      <td>3.344687</td>\n",
              "    </tr>\n",
              "    <tr>\n",
              "      <th>32</th>\n",
              "      <td>12</td>\n",
              "      <td>0.972456</td>\n",
              "      <td>0.082190</td>\n",
              "      <td>0.596894</td>\n",
              "      <td>2.656668</td>\n",
              "    </tr>\n",
              "    <tr>\n",
              "      <th>33</th>\n",
              "      <td>13</td>\n",
              "      <td>0.969709</td>\n",
              "      <td>0.095384</td>\n",
              "      <td>0.575218</td>\n",
              "      <td>4.115784</td>\n",
              "    </tr>\n",
              "    <tr>\n",
              "      <th>34</th>\n",
              "      <td>14</td>\n",
              "      <td>0.970275</td>\n",
              "      <td>0.084253</td>\n",
              "      <td>0.495956</td>\n",
              "      <td>5.004160</td>\n",
              "    </tr>\n",
              "    <tr>\n",
              "      <th>35</th>\n",
              "      <td>15</td>\n",
              "      <td>0.973748</td>\n",
              "      <td>0.077942</td>\n",
              "      <td>0.496927</td>\n",
              "      <td>5.055886</td>\n",
              "    </tr>\n",
              "    <tr>\n",
              "      <th>36</th>\n",
              "      <td>16</td>\n",
              "      <td>0.975283</td>\n",
              "      <td>0.077581</td>\n",
              "      <td>0.505015</td>\n",
              "      <td>5.913581</td>\n",
              "    </tr>\n",
              "    <tr>\n",
              "      <th>37</th>\n",
              "      <td>17</td>\n",
              "      <td>0.981260</td>\n",
              "      <td>0.057862</td>\n",
              "      <td>0.619217</td>\n",
              "      <td>3.086377</td>\n",
              "    </tr>\n",
              "    <tr>\n",
              "      <th>38</th>\n",
              "      <td>18</td>\n",
              "      <td>0.970921</td>\n",
              "      <td>0.084926</td>\n",
              "      <td>0.550631</td>\n",
              "      <td>2.843050</td>\n",
              "    </tr>\n",
              "    <tr>\n",
              "      <th>39</th>\n",
              "      <td>19</td>\n",
              "      <td>0.974717</td>\n",
              "      <td>0.075516</td>\n",
              "      <td>0.542866</td>\n",
              "      <td>3.877359</td>\n",
              "    </tr>\n",
              "    <tr>\n",
              "      <th>40</th>\n",
              "      <td>0</td>\n",
              "      <td>0.979321</td>\n",
              "      <td>0.058358</td>\n",
              "      <td>0.512456</td>\n",
              "      <td>5.754540</td>\n",
              "    </tr>\n",
              "    <tr>\n",
              "      <th>41</th>\n",
              "      <td>1</td>\n",
              "      <td>0.977141</td>\n",
              "      <td>0.078063</td>\n",
              "      <td>0.583630</td>\n",
              "      <td>3.534670</td>\n",
              "    </tr>\n",
              "    <tr>\n",
              "      <th>42</th>\n",
              "      <td>2</td>\n",
              "      <td>0.978594</td>\n",
              "      <td>0.063125</td>\n",
              "      <td>0.572954</td>\n",
              "      <td>2.796549</td>\n",
              "    </tr>\n",
              "    <tr>\n",
              "      <th>43</th>\n",
              "      <td>3</td>\n",
              "      <td>0.980937</td>\n",
              "      <td>0.055774</td>\n",
              "      <td>0.552572</td>\n",
              "      <td>3.555332</td>\n",
              "    </tr>\n",
              "    <tr>\n",
              "      <th>44</th>\n",
              "      <td>4</td>\n",
              "      <td>0.979564</td>\n",
              "      <td>0.060929</td>\n",
              "      <td>0.552248</td>\n",
              "      <td>3.334826</td>\n",
              "    </tr>\n",
              "    <tr>\n",
              "      <th>45</th>\n",
              "      <td>5</td>\n",
              "      <td>0.975687</td>\n",
              "      <td>0.073371</td>\n",
              "      <td>0.560660</td>\n",
              "      <td>3.979299</td>\n",
              "    </tr>\n",
              "    <tr>\n",
              "      <th>46</th>\n",
              "      <td>6</td>\n",
              "      <td>0.980775</td>\n",
              "      <td>0.056700</td>\n",
              "      <td>0.523132</td>\n",
              "      <td>4.415704</td>\n",
              "    </tr>\n",
              "    <tr>\n",
              "      <th>47</th>\n",
              "      <td>7</td>\n",
              "      <td>0.981422</td>\n",
              "      <td>0.058626</td>\n",
              "      <td>0.577483</td>\n",
              "      <td>3.207389</td>\n",
              "    </tr>\n",
              "    <tr>\n",
              "      <th>48</th>\n",
              "      <td>8</td>\n",
              "      <td>0.980048</td>\n",
              "      <td>0.060367</td>\n",
              "      <td>0.581042</td>\n",
              "      <td>2.961035</td>\n",
              "    </tr>\n",
              "    <tr>\n",
              "      <th>49</th>\n",
              "      <td>9</td>\n",
              "      <td>0.976575</td>\n",
              "      <td>0.070448</td>\n",
              "      <td>0.565836</td>\n",
              "      <td>4.384204</td>\n",
              "    </tr>\n",
              "    <tr>\n",
              "      <th>50</th>\n",
              "      <td>10</td>\n",
              "      <td>0.983522</td>\n",
              "      <td>0.051540</td>\n",
              "      <td>0.547072</td>\n",
              "      <td>3.417175</td>\n",
              "    </tr>\n",
              "    <tr>\n",
              "      <th>51</th>\n",
              "      <td>11</td>\n",
              "      <td>0.981422</td>\n",
              "      <td>0.056076</td>\n",
              "      <td>0.570689</td>\n",
              "      <td>4.365933</td>\n",
              "    </tr>\n",
              "    <tr>\n",
              "      <th>52</th>\n",
              "      <td>12</td>\n",
              "      <td>0.984733</td>\n",
              "      <td>0.046059</td>\n",
              "      <td>0.606600</td>\n",
              "      <td>2.920539</td>\n",
              "    </tr>\n",
              "    <tr>\n",
              "      <th>53</th>\n",
              "      <td>13</td>\n",
              "      <td>0.985057</td>\n",
              "      <td>0.043460</td>\n",
              "      <td>0.523455</td>\n",
              "      <td>5.233380</td>\n",
              "    </tr>\n",
              "    <tr>\n",
              "      <th>54</th>\n",
              "      <td>14</td>\n",
              "      <td>0.981987</td>\n",
              "      <td>0.057956</td>\n",
              "      <td>0.550307</td>\n",
              "      <td>5.742623</td>\n",
              "    </tr>\n",
              "    <tr>\n",
              "      <th>55</th>\n",
              "      <td>15</td>\n",
              "      <td>0.981583</td>\n",
              "      <td>0.050759</td>\n",
              "      <td>0.541896</td>\n",
              "      <td>3.870084</td>\n",
              "    </tr>\n",
              "    <tr>\n",
              "      <th>56</th>\n",
              "      <td>16</td>\n",
              "      <td>0.983037</td>\n",
              "      <td>0.053525</td>\n",
              "      <td>0.594306</td>\n",
              "      <td>3.690619</td>\n",
              "    </tr>\n",
              "    <tr>\n",
              "      <th>57</th>\n",
              "      <td>17</td>\n",
              "      <td>0.982149</td>\n",
              "      <td>0.051274</td>\n",
              "      <td>0.599806</td>\n",
              "      <td>3.548858</td>\n",
              "    </tr>\n",
              "    <tr>\n",
              "      <th>58</th>\n",
              "      <td>18</td>\n",
              "      <td>0.985218</td>\n",
              "      <td>0.044799</td>\n",
              "      <td>0.541896</td>\n",
              "      <td>5.239251</td>\n",
              "    </tr>\n",
              "    <tr>\n",
              "      <th>59</th>\n",
              "      <td>19</td>\n",
              "      <td>0.983199</td>\n",
              "      <td>0.051532</td>\n",
              "      <td>0.605953</td>\n",
              "      <td>3.597718</td>\n",
              "    </tr>\n",
              "  </tbody>\n",
              "</table>\n",
              "</div>\n",
              "      <button class=\"colab-df-convert\" onclick=\"convertToInteractive('df-2ef4b123-7293-4808-8557-f3b1fcfaa797')\"\n",
              "              title=\"Convert this dataframe to an interactive table.\"\n",
              "              style=\"display:none;\">\n",
              "        \n",
              "  <svg xmlns=\"http://www.w3.org/2000/svg\" height=\"24px\"viewBox=\"0 0 24 24\"\n",
              "       width=\"24px\">\n",
              "    <path d=\"M0 0h24v24H0V0z\" fill=\"none\"/>\n",
              "    <path d=\"M18.56 5.44l.94 2.06.94-2.06 2.06-.94-2.06-.94-.94-2.06-.94 2.06-2.06.94zm-11 1L8.5 8.5l.94-2.06 2.06-.94-2.06-.94L8.5 2.5l-.94 2.06-2.06.94zm10 10l.94 2.06.94-2.06 2.06-.94-2.06-.94-.94-2.06-.94 2.06-2.06.94z\"/><path d=\"M17.41 7.96l-1.37-1.37c-.4-.4-.92-.59-1.43-.59-.52 0-1.04.2-1.43.59L10.3 9.45l-7.72 7.72c-.78.78-.78 2.05 0 2.83L4 21.41c.39.39.9.59 1.41.59.51 0 1.02-.2 1.41-.59l7.78-7.78 2.81-2.81c.8-.78.8-2.07 0-2.86zM5.41 20L4 18.59l7.72-7.72 1.47 1.35L5.41 20z\"/>\n",
              "  </svg>\n",
              "      </button>\n",
              "      \n",
              "  <style>\n",
              "    .colab-df-container {\n",
              "      display:flex;\n",
              "      flex-wrap:wrap;\n",
              "      gap: 12px;\n",
              "    }\n",
              "\n",
              "    .colab-df-convert {\n",
              "      background-color: #E8F0FE;\n",
              "      border: none;\n",
              "      border-radius: 50%;\n",
              "      cursor: pointer;\n",
              "      display: none;\n",
              "      fill: #1967D2;\n",
              "      height: 32px;\n",
              "      padding: 0 0 0 0;\n",
              "      width: 32px;\n",
              "    }\n",
              "\n",
              "    .colab-df-convert:hover {\n",
              "      background-color: #E2EBFA;\n",
              "      box-shadow: 0px 1px 2px rgba(60, 64, 67, 0.3), 0px 1px 3px 1px rgba(60, 64, 67, 0.15);\n",
              "      fill: #174EA6;\n",
              "    }\n",
              "\n",
              "    [theme=dark] .colab-df-convert {\n",
              "      background-color: #3B4455;\n",
              "      fill: #D2E3FC;\n",
              "    }\n",
              "\n",
              "    [theme=dark] .colab-df-convert:hover {\n",
              "      background-color: #434B5C;\n",
              "      box-shadow: 0px 1px 3px 1px rgba(0, 0, 0, 0.15);\n",
              "      filter: drop-shadow(0px 1px 2px rgba(0, 0, 0, 0.3));\n",
              "      fill: #FFFFFF;\n",
              "    }\n",
              "  </style>\n",
              "\n",
              "      <script>\n",
              "        const buttonEl =\n",
              "          document.querySelector('#df-2ef4b123-7293-4808-8557-f3b1fcfaa797 button.colab-df-convert');\n",
              "        buttonEl.style.display =\n",
              "          google.colab.kernel.accessAllowed ? 'block' : 'none';\n",
              "\n",
              "        async function convertToInteractive(key) {\n",
              "          const element = document.querySelector('#df-2ef4b123-7293-4808-8557-f3b1fcfaa797');\n",
              "          const dataTable =\n",
              "            await google.colab.kernel.invokeFunction('convertToInteractive',\n",
              "                                                     [key], {});\n",
              "          if (!dataTable) return;\n",
              "\n",
              "          const docLinkHtml = 'Like what you see? Visit the ' +\n",
              "            '<a target=\"_blank\" href=https://colab.research.google.com/notebooks/data_table.ipynb>data table notebook</a>'\n",
              "            + ' to learn more about interactive tables.';\n",
              "          element.innerHTML = '';\n",
              "          dataTable['output_type'] = 'display_data';\n",
              "          await google.colab.output.renderOutput(dataTable, element);\n",
              "          const docLink = document.createElement('div');\n",
              "          docLink.innerHTML = docLinkHtml;\n",
              "          element.appendChild(docLink);\n",
              "        }\n",
              "      </script>\n",
              "    </div>\n",
              "  </div>\n",
              "  "
            ],
            "text/plain": [
              "    epoch  categorical_accuracy      loss  val_categorical_accuracy  val_loss\n",
              "0       0              0.544669  1.306223                  0.329020  3.281532\n",
              "1       1              0.657674  0.975634                  0.458751  3.126937\n",
              "2       2              0.688934  0.886789                  0.550954  1.523355\n",
              "3       3              0.713409  0.825276                  0.512132  1.906306\n",
              "4       4              0.731341  0.771927                  0.580071  1.904266\n",
              "5       5              0.751131  0.719943                  0.588483  2.240146\n",
              "6       6              0.769225  0.664557                  0.513103  3.885420\n",
              "7       7              0.781099  0.633196                  0.544484  3.154587\n",
              "8       8              0.796850  0.584412                  0.530573  2.462096\n",
              "9       9              0.816882  0.528259                  0.561631  3.235972\n",
              "10     10              0.841034  0.465726                  0.569719  2.905676\n",
              "11     11              0.846446  0.449722                  0.534455  3.342223\n",
              "12     12              0.866397  0.391027                  0.593659  2.875133\n",
              "13     13              0.885218  0.343834                  0.582983  2.531253\n",
              "14     14              0.900242  0.300420                  0.536072  3.614472\n",
              "15     15              0.914297  0.256747                  0.595600  3.096652\n",
              "16     16              0.919548  0.241127                  0.570042  3.085216\n",
              "17     17              0.927302  0.217059                  0.544484  2.932500\n",
              "18     18              0.935622  0.192320                  0.541572  3.566463\n",
              "19     19              0.946850  0.159353                  0.548366  4.729064\n",
              "20      0              0.941357  0.171450                  0.524102  4.160292\n",
              "21      1              0.949515  0.145935                  0.517632  5.139276\n",
              "22      2              0.954766  0.133135                  0.534131  3.780924\n",
              "23      3              0.955573  0.135600                  0.603688  2.379281\n",
              "24      4              0.957593  0.120682                  0.585895  4.996441\n",
              "25      5              0.958724  0.124406                  0.508573  7.895920\n",
              "26      6              0.965670  0.104200                  0.619864  3.906204\n",
              "27      7              0.966478  0.096599                  0.483015  5.586416\n",
              "28      8              0.962116  0.109281                  0.605953  2.741337\n",
              "29      9              0.970436  0.085813                  0.545778  4.676246\n",
              "30     10              0.970679  0.086495                  0.553543  4.159438\n",
              "31     11              0.973748  0.083961                  0.544484  3.344687\n",
              "32     12              0.972456  0.082190                  0.596894  2.656668\n",
              "33     13              0.969709  0.095384                  0.575218  4.115784\n",
              "34     14              0.970275  0.084253                  0.495956  5.004160\n",
              "35     15              0.973748  0.077942                  0.496927  5.055886\n",
              "36     16              0.975283  0.077581                  0.505015  5.913581\n",
              "37     17              0.981260  0.057862                  0.619217  3.086377\n",
              "38     18              0.970921  0.084926                  0.550631  2.843050\n",
              "39     19              0.974717  0.075516                  0.542866  3.877359\n",
              "40      0              0.979321  0.058358                  0.512456  5.754540\n",
              "41      1              0.977141  0.078063                  0.583630  3.534670\n",
              "42      2              0.978594  0.063125                  0.572954  2.796549\n",
              "43      3              0.980937  0.055774                  0.552572  3.555332\n",
              "44      4              0.979564  0.060929                  0.552248  3.334826\n",
              "45      5              0.975687  0.073371                  0.560660  3.979299\n",
              "46      6              0.980775  0.056700                  0.523132  4.415704\n",
              "47      7              0.981422  0.058626                  0.577483  3.207389\n",
              "48      8              0.980048  0.060367                  0.581042  2.961035\n",
              "49      9              0.976575  0.070448                  0.565836  4.384204\n",
              "50     10              0.983522  0.051540                  0.547072  3.417175\n",
              "51     11              0.981422  0.056076                  0.570689  4.365933\n",
              "52     12              0.984733  0.046059                  0.606600  2.920539\n",
              "53     13              0.985057  0.043460                  0.523455  5.233380\n",
              "54     14              0.981987  0.057956                  0.550307  5.742623\n",
              "55     15              0.981583  0.050759                  0.541896  3.870084\n",
              "56     16              0.983037  0.053525                  0.594306  3.690619\n",
              "57     17              0.982149  0.051274                  0.599806  3.548858\n",
              "58     18              0.985218  0.044799                  0.541896  5.239251\n",
              "59     19              0.983199  0.051532                  0.605953  3.597718"
            ]
          },
          "metadata": {},
          "execution_count": 30
        }
      ]
    },
    {
      "cell_type": "code",
      "metadata": {
        "colab": {
          "base_uri": "https://localhost:8080/"
        },
        "id": "9QN3w_cJsGfD",
        "outputId": "27b803a2-bb22-44c9-9ab8-2658980dcd52"
      },
      "source": [
        "scores = model.evaluate(test_generator)"
      ],
      "execution_count": null,
      "outputs": [
        {
          "output_type": "stream",
          "name": "stdout",
          "text": [
            "44/44 [==============================] - 7s 154ms/step - loss: 0.9139 - categorical_accuracy: 0.8964\n"
          ]
        }
      ]
    },
    {
      "cell_type": "code",
      "metadata": {
        "colab": {
          "base_uri": "https://localhost:8080/"
        },
        "id": "FFXBFaP7181O",
        "outputId": "be0a3025-523d-4fc2-f6d0-8f9b63b08b43"
      },
      "source": [
        "print(\"Accuracy = \", scores[1])"
      ],
      "execution_count": null,
      "outputs": [
        {
          "output_type": "stream",
          "name": "stdout",
          "text": [
            "Accuracy =  0.8964285850524902\n"
          ]
        }
      ]
    },
    {
      "cell_type": "code",
      "metadata": {
        "colab": {
          "base_uri": "https://localhost:8080/"
        },
        "id": "-VJXO8um4oiK",
        "outputId": "1b287209-4730-4d09-a23b-574f327c5144"
      },
      "source": [
        "training_scores = model.evaluate(generator)\n",
        "print(\"Accuracy = \", training_scores[1])"
      ],
      "execution_count": null,
      "outputs": [
        {
          "output_type": "stream",
          "name": "stdout",
          "text": [
            "387/387 [==============================] - 61s 157ms/step - loss: 0.0699 - categorical_accuracy: 0.9778\n",
            "Accuracy =  0.9777867794036865\n"
          ]
        }
      ]
    },
    {
      "cell_type": "code",
      "metadata": {
        "colab": {
          "base_uri": "https://localhost:8080/"
        },
        "id": "w3rqr6RA4stq",
        "outputId": "5d274153-07bd-46f5-8aae-937e8b5b66bc"
      },
      "source": [
        "validation_scores = model.evaluate(validation_generator)\n",
        "print(\"Accuracy = \", validation_scores[1])"
      ],
      "execution_count": null,
      "outputs": [
        {
          "output_type": "stream",
          "name": "stdout",
          "text": [
            "97/97 [==============================] - 15s 151ms/step - loss: 3.5977 - categorical_accuracy: 0.6060\n",
            "Accuracy =  0.6059527397155762\n"
          ]
        }
      ]
    },
    {
      "cell_type": "code",
      "metadata": {
        "colab": {
          "base_uri": "https://localhost:8080/"
        },
        "id": "CqdsVTD_k_Vn",
        "outputId": "25e940e7-aa87-4a9c-d4ab-7fcf89f08d3a"
      },
      "source": [
        "epoch = 20\n",
        "for i in range(3):\n",
        "  log = pd.read_csv('/content/drive/MyDrive/graduation3/runn/history' + str(epoch * (i + 1)) + '.log')\n",
        "  log = pd.DataFrame(log)\n",
        "  print(log.shape)\n",
        "  if(i == 0):\n",
        "    logs = log.copy()\n",
        "  else:\n",
        "    pd.concat([logs,log])\n",
        "    print(logs.shape)"
      ],
      "execution_count": null,
      "outputs": [
        {
          "output_type": "stream",
          "name": "stdout",
          "text": [
            "(20, 5)\n",
            "(20, 5)\n",
            "(20, 5)\n",
            "(20, 5)\n",
            "(20, 5)\n"
          ]
        }
      ]
    },
    {
      "cell_type": "code",
      "metadata": {
        "colab": {
          "base_uri": "https://localhost:8080/",
          "height": 295
        },
        "id": "7HLU9a1xU7yE",
        "outputId": "d7e60b14-f108-4a93-b756-649ee448828a"
      },
      "source": [
        "# summarize history for accuracy\n",
        "plt.plot(hist_df['categorical_accuracy'])\n",
        "plt.plot(hist_df['val_categorical_accuracy'])\n",
        "plt.title('model accuracy')\n",
        "plt.ylabel('accuracy')\n",
        "plt.xlabel('epoch')\n",
        "plt.legend(['train', 'test'], loc='upper left')\n",
        "plt.show()"
      ],
      "execution_count": null,
      "outputs": [
        {
          "output_type": "display_data",
          "data": {
            "image/png": "[encoded data removed]",
            "text/plain": [
              "<Figure size 432x288 with 1 Axes>"
            ]
          },
          "metadata": {
            "needs_background": "light"
          }
        }
      ]
    },
    {
      "cell_type": "code",
      "metadata": {
        "colab": {
          "base_uri": "https://localhost:8080/",
          "height": 295
        },
        "id": "cf483ZMYU-gx",
        "outputId": "766b39a5-335f-4db6-8c64-e0738f8b8857"
      },
      "source": [
        "# summarize history for loss\n",
        "plt.plot(hist_df['loss'])\n",
        "plt.plot(hist_df['val_loss'])\n",
        "plt.title('model loss')\n",
        "plt.ylabel('loss')\n",
        "plt.xlabel('epoch')\n",
        "plt.legend(['train', 'test'], loc='upper left')\n",
        "plt.show()"
      ],
      "execution_count": null,
      "outputs": [
        {
          "output_type": "display_data",
          "data": {
            "image/png": "[encoded data removed]",
            "text/plain": [
              "<Figure size 432x288 with 1 Axes>"
            ]
          },
          "metadata": {
            "needs_background": "light"
          }
        }
      ]
    },
    {
      "cell_type": "code",
      "metadata": {
        "id": "Zi8rusqH0adN",
        "colab": {
          "base_uri": "https://localhost:8080/"
        },
        "outputId": "41462ac9-7128-411a-e20e-d823d0774feb"
      },
      "source": [
        "print(k.eval(model.optimizer.lr))"
      ],
      "execution_count": null,
      "outputs": [
        {
          "output_type": "stream",
          "name": "stdout",
          "text": [
            "0.005\n"
          ]
        }
      ]
    },
    {
      "cell_type": "code",
      "source": [
        "model100 = keras.models.load_model('/content/drive/MyDrive/graduation3/runn/historyMobileNetAlllayers.100')"
      ],
      "metadata": {
        "id": "NhgXol8IyP8l"
      },
      "execution_count": null,
      "outputs": []
    },
    {
      "cell_type": "code",
      "source": [
        "scores = model100.evaluate(test_generator)"
      ],
      "metadata": {
        "colab": {
          "base_uri": "https://localhost:8080/"
        },
        "id": "cgUo2kAxyTt1",
        "outputId": "bad2721f-2425-4a4a-b8ce-16dd0039f4d6"
      },
      "execution_count": null,
      "outputs": [
        {
          "output_type": "stream",
          "name": "stdout",
          "text": [
            "44/44 [==============================] - 188s 4s/step - loss: 1.1941 - categorical_accuracy: 0.8979\n"
          ]
        }
      ]
    },
    {
      "cell_type": "code",
      "source": [
        "training_scores = model100.evaluate(generator)\n",
        "print(\"Accuracy = \", training_scores[1])"
      ],
      "metadata": {
        "id": "aq7cIyqFyZW7"
      },
      "execution_count": null,
      "outputs": []
    },
    {
      "cell_type": "code",
      "source": [
        "validation_scores = model100.evaluate(validation_generator)\n",
        "print(\"Accuracy = \", validation_scores[1])"
      ],
      "metadata": {
        "colab": {
          "base_uri": "https://localhost:8080/"
        },
        "id": "8LmE59ODyjFv",
        "outputId": "a52b04a4-d6b1-4517-fda5-96786c6b9b47"
      },
      "execution_count": null,
      "outputs": [
        {
          "output_type": "stream",
          "name": "stdout",
          "text": [
            "97/97 [==============================] - 416s 4s/step - loss: 5.7148 - categorical_accuracy: 0.5416\n",
            "Accuracy =  0.5415723323822021\n"
          ]
        }
      ]
    },
    {
      "cell_type": "code",
      "source": [
        "y_pred_prob100 = model100.predict(test_generator)"
      ],
      "metadata": {
        "id": "fbX6lDVny7FW"
      },
      "execution_count": null,
      "outputs": []
    },
    {
      "cell_type": "code",
      "source": [
        "y_pred100 = tf.argmax(y_pred_prob100, axis=-1)"
      ],
      "metadata": {
        "id": "rSPfgBDCzATs"
      },
      "execution_count": null,
      "outputs": []
    },
    {
      "cell_type": "code",
      "source": [
        "print(classification_report(y_true, y_pred100, target_names = classes))"
      ],
      "metadata": {
        "colab": {
          "base_uri": "https://localhost:8080/"
        },
        "id": "OdARstADzZBM",
        "outputId": "cd8a49f6-771b-4274-9e28-7c25851fe220"
      },
      "execution_count": null,
      "outputs": [
        {
          "output_type": "stream",
          "name": "stdout",
          "text": [
            "              precision    recall  f1-score   support\n",
            "\n",
            "    Surprise       0.76      0.93      0.84       200\n",
            "        Fear       0.93      0.86      0.89       200\n",
            "     Disgust       0.92      0.96      0.94       200\n",
            "       Happy       0.99      0.95      0.97       200\n",
            "         Sad       0.94      0.84      0.89       200\n",
            "       Anger       0.92      0.84      0.88       200\n",
            "     Neutral       0.87      0.90      0.88       200\n",
            "\n",
            "    accuracy                           0.90      1400\n",
            "   macro avg       0.90      0.90      0.90      1400\n",
            "weighted avg       0.90      0.90      0.90      1400\n",
            "\n"
          ]
        }
      ]
    }
  ]
}