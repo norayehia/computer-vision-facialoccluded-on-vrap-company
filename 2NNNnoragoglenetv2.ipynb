{
  "nbformat": 4,
  "nbformat_minor": 5,
  "metadata": {
    "accelerator": "GPU",
    "colab": {
      "name": "2NNNnoragoglenetv2.ipynb",
      "provenance": [],
      "collapsed_sections": [],
      "include_colab_link": true
    },
    "kernelspec": {
      "display_name": "Python 3 (ipykernel)",
      "language": "python",
      "name": "python3"
    },
    "language_info": {
      "codemirror_mode": {
        "name": "ipython",
        "version": 3
      },
      "file_extension": ".py",
      "mimetype": "text/x-python",
      "name": "python",
      "nbconvert_exporter": "python",
      "pygments_lexer": "ipython3",
      "version": "3.8.11"
    }
  },
  "cells": [
    {
      "cell_type": "markdown",
      "metadata": {
        "id": "view-in-github",
        "colab_type": "text"
      },
      "source": [
        "<a href=\"https://colab.research.google.com/github/norayehia/graduation-facial-occluded-on-vrap-company/blob/main/2NNNnoragoglenetv2.ipynb\" target=\"_parent\"><img src=\"https://colab.research.google.com/assets/colab-badge.svg\" alt=\"Open In Colab\"/></a>"
      ]
    },
    {
      "cell_type": "code",
      "metadata": {
        "colab": {
          "base_uri": "https://localhost:8080/"
        },
        "id": "oUrqh0PeSy7j",
        "outputId": "304c0e57-ecf8-46f7-d9fc-f0341a1486d3"
      },
      "source": [
        "\n",
        "\n",
        "\n",
        "\n",
        "\n",
        "\n",
        "\n",
        "\n",
        "from google.colab import drive\n",
        "drive.mount('/content/drive')\n",
        "\n"
      ],
      "id": "oUrqh0PeSy7j",
      "execution_count": null,
      "outputs": [
        {
          "output_type": "stream",
          "name": "stdout",
          "text": [
            "Mounted at /content/drive\n"
          ]
        }
      ]
    },
    {
      "cell_type": "code",
      "metadata": {
        "id": "aa423019"
      },
      "source": [
        "import keras\n",
        "#from keras.layers.core import Layer\n",
        "import keras.backend as K\n",
        "import tensorflow as tf\n",
        "from keras.models import Model\n",
        "\n",
        "import cv2 \n",
        "import numpy as np \n",
        "from keras.datasets import cifar10 \n",
        "from keras import backend as K \n",
        "from keras.utils import np_utils\n",
        "\n",
        "import math \n",
        "from tensorflow.keras.optimizers import SGD\n",
        "#from keras.optimizers import SGD \n",
        "from keras.callbacks import LearningRateScheduler\n",
        "from keras.layers import Activation, Dense \n",
        "from keras.layers import Conv2D, MaxPool2D , Dropout ,Input, concatenate ,GlobalAveragePooling2D, AveragePooling2D,Flatten\n",
        "from keras.layers.core import *\n",
        "\n",
        "\n",
        "import matplotlib.pyplot as plt\n",
        "import seaborn as sns\n",
        "\n",
        "import keras\n",
        "from keras.models import Sequential\n",
        "from keras.layers import Dense, Conv2D , MaxPool2D , Flatten , Dropout \n",
        "from keras.preprocessing.image import ImageDataGenerator\n",
        "#from keras.optimizers import Adam\n",
        "from tensorflow.keras.optimizers import Adam\n",
        "from sklearn.metrics import classification_report,confusion_matrix\n",
        "\n",
        "import tensorflow as tf\n",
        "\n",
        "import cv2\n",
        "import os\n",
        "import numpy as np\n",
        "from tensorflow.keras.preprocessing.image import ImageDataGenerator"
      ],
      "id": "aa423019",
      "execution_count": null,
      "outputs": []
    },
    {
      "cell_type": "markdown",
      "metadata": {
        "id": "d17c1b49"
      },
      "source": [
        "# get train and test"
      ],
      "id": "d17c1b49"
    },
    {
      "cell_type": "code",
      "metadata": {
        "colab": {
          "base_uri": "https://localhost:8080/"
        },
        "id": "Mk3lU5uionbt",
        "outputId": "d49ef9fa-e99e-4834-89bf-fa42b5bfd0f5"
      },
      "source": [
        "t='/content/drive/MyDrive/graduation2/graduation/Final Dataset/trainset_occluded'\n",
        "v='/content/drive/MyDrive/graduation2/graduation/Final Dataset/testset_occluded'\n",
        "from tensorflow.keras.preprocessing.image import ImageDataGenerator\n",
        "\n",
        "datagen = ImageDataGenerator(validation_split=0.2)\n",
        "generator = datagen.flow_from_directory(t, target_size=(224, 224), batch_size=64, class_mode='categorical', subset='training')\n",
        "validation_generator = datagen.flow_from_directory(t, # same directory as training data\n",
        "    target_size=(224, 224), batch_size=64, class_mode='categorical', subset='validation')\n",
        "\n"
      ],
      "id": "Mk3lU5uionbt",
      "execution_count": null,
      "outputs": [
        {
          "output_type": "stream",
          "name": "stdout",
          "text": [
            "Found 9480 images belonging to 7 classes.\n",
            "Found 2365 images belonging to 7 classes.\n"
          ]
        }
      ]
    },
    {
      "cell_type": "code",
      "metadata": {
        "id": "9013ef8e"
      },
      "source": [
        "def inception_module(x,\n",
        "                     filters_1x1,\n",
        "                     filters_3x3_reduce,\n",
        "                     filters_3x3,\n",
        "                     filters_5x5_reduce,\n",
        "                     filters_5x5,\n",
        "                     filters_pool_proj,\n",
        "                     name=None):\n",
        "    \n",
        "    conv_1x1 = Conv2D(filters_1x1, (1, 1), padding='same', activation='relu', kernel_initializer=kernel_init, bias_initializer=bias_init)(x)\n",
        "    \n",
        "    conv_3x3 = Conv2D(filters_3x3_reduce, (1, 1), padding='same', activation='relu', kernel_initializer=kernel_init, bias_initializer=bias_init)(x)\n",
        "    conv_3x3 = Conv2D(filters_3x3, (3, 3), padding='same', activation='relu', kernel_initializer=kernel_init, bias_initializer=bias_init)(conv_3x3)\n",
        "\n",
        "    conv_5x5 = Conv2D(filters_5x5_reduce, (1, 1), padding='same', activation='relu', kernel_initializer=kernel_init, bias_initializer=bias_init)(x)\n",
        "    conv_5x5 = Conv2D(filters_5x5, (5, 5), padding='same', activation='relu', kernel_initializer=kernel_init, bias_initializer=bias_init)(conv_5x5)\n",
        "\n",
        "    pool_proj = MaxPool2D((3, 3), strides=(1, 1), padding='same')(x)\n",
        "    pool_proj = Conv2D(filters_pool_proj, (1, 1), padding='same', activation='relu', kernel_initializer=kernel_init, bias_initializer=bias_init)(pool_proj)\n",
        "\n",
        "    output = concatenate([conv_1x1, conv_3x3, conv_5x5, pool_proj], axis=3, name=name)\n",
        "    \n",
        "    return output"
      ],
      "id": "9013ef8e",
      "execution_count": null,
      "outputs": []
    },
    {
      "cell_type": "code",
      "metadata": {
        "id": "94def8ac"
      },
      "source": [
        "kernel_init = keras.initializers.glorot_uniform()\n",
        "bias_init = keras.initializers.Constant(value=0.2)"
      ],
      "id": "94def8ac",
      "execution_count": null,
      "outputs": []
    },
    {
      "cell_type": "code",
      "metadata": {
        "id": "ae48d8aa"
      },
      "source": [
        "input_layer = Input(shape=(224, 224, 3))\n",
        "\n",
        "x = Conv2D(64, (7, 7), padding='same', strides=(2, 2), activation='relu', name='conv_1_7x7/2', kernel_initializer=kernel_init, bias_initializer=bias_init)(input_layer)\n",
        "x = MaxPool2D((3, 3), padding='same', strides=(2, 2), name='max_pool_1_3x3/2')(x)\n",
        "x = Conv2D(64, (1, 1), padding='same', strides=(1, 1), activation='relu', name='conv_2a_3x3/1')(x)\n",
        "x = Conv2D(192, (3, 3), padding='same', strides=(1, 1), activation='relu', name='conv_2b_3x3/1')(x)\n",
        "x = MaxPool2D((3, 3), padding='same', strides=(2, 2), name='max_pool_2_3x3/2')(x)\n",
        "\n",
        "\n",
        "\n",
        "\n",
        "\n",
        "\n",
        "\n",
        "\n",
        "x = inception_module(x,\n",
        "                     filters_1x1=64,\n",
        "                     filters_3x3_reduce=96,\n",
        "                     filters_3x3=128,\n",
        "                     filters_5x5_reduce=16,\n",
        "                     filters_5x5=32,\n",
        "                     filters_pool_proj=32,\n",
        "                     name='inception_3a')\n",
        "\n",
        "x = inception_module(x,\n",
        "                     filters_1x1=128,\n",
        "                     filters_3x3_reduce=128,\n",
        "                     filters_3x3=192,\n",
        "                     filters_5x5_reduce=32,\n",
        "                     filters_5x5=96,\n",
        "                     filters_pool_proj=64,\n",
        "                     name='inception_3b')\n",
        "\n",
        "\n",
        "x = MaxPool2D((3, 3), padding='same', strides=(2, 2), name='max_pool_3_3x3/2')(x)\n",
        "\n",
        "x = inception_module(x,\n",
        "                     filters_1x1=192,\n",
        "                     filters_3x3_reduce=96,\n",
        "                     filters_3x3=208,\n",
        "                     filters_5x5_reduce=16,\n",
        "                     filters_5x5=48,\n",
        "                     filters_pool_proj=64,\n",
        "                     name='inception_4a')\n",
        "\n",
        "\n",
        "\n",
        "\n",
        "x1 = AveragePooling2D((5, 5), strides=3)(x)\n",
        "x1 = Conv2D(128, (1, 1), padding='same', activation='relu')(x1)\n",
        "x1 = Flatten()(x1)\n",
        "x1 = Dense(1024, activation='relu')(x1)\n",
        "x1 = Dropout(0.7)(x1)\n",
        "x1 = Dense(7, activation='softmax', name='auxilliary_output_1')(x1)\n",
        "\n",
        "x = inception_module(x,\n",
        "                     filters_1x1=160,\n",
        "                     filters_3x3_reduce=112,\n",
        "                     filters_3x3=224,\n",
        "                     filters_5x5_reduce=24,\n",
        "                     filters_5x5=64,\n",
        "                     filters_pool_proj=64,\n",
        "                     name='inception_4b')\n",
        "\n",
        "x = inception_module(x,\n",
        "                     filters_1x1=128,\n",
        "                     filters_3x3_reduce=128,\n",
        "                     filters_3x3=256,\n",
        "                     filters_5x5_reduce=24,\n",
        "                     filters_5x5=64,\n",
        "                     filters_pool_proj=64,\n",
        "                     name='inception_4c')\n",
        "\n",
        "x = inception_module(x,\n",
        "                     filters_1x1=112,\n",
        "                     filters_3x3_reduce=144,\n",
        "                     filters_3x3=288,\n",
        "                     filters_5x5_reduce=32,\n",
        "                     filters_5x5=64,\n",
        "                     filters_pool_proj=64,\n",
        "                     name='inception_4d')\n",
        "\n",
        "\n",
        "x2 = AveragePooling2D((5, 5), strides=3)(x)\n",
        "x2 = Conv2D(128, (1, 1), padding='same', activation='relu')(x2)\n",
        "x2 = Flatten()(x2)\n",
        "x2 = Dense(1024, activation='relu')(x2)\n",
        "x2 = Dropout(0.7)(x2)\n",
        "x2 = Dense(7, activation='softmax', name='auxilliary_output_2')(x2)\n",
        "\n",
        "x = inception_module(x,\n",
        "                     filters_1x1=256,\n",
        "                     filters_3x3_reduce=160,\n",
        "                     filters_3x3=320,\n",
        "                     filters_5x5_reduce=32,\n",
        "                     filters_5x5=128,\n",
        "                     filters_pool_proj=128,\n",
        "                     name='inception_4e')\n",
        "\n",
        "x = MaxPool2D((3, 3), padding='same', strides=(2, 2), name='max_pool_4_3x3/2')(x)\n",
        "\n",
        "x = inception_module(x,\n",
        "                     filters_1x1=256,\n",
        "                     filters_3x3_reduce=160,\n",
        "                     filters_3x3=320,\n",
        "                     filters_5x5_reduce=32,\n",
        "                     filters_5x5=128,\n",
        "                     filters_pool_proj=128,\n",
        "                     name='inception_5a')\n",
        "\n",
        "x = inception_module(x,\n",
        "                     filters_1x1=384,\n",
        "                     filters_3x3_reduce=192,\n",
        "                     filters_3x3=384,\n",
        "                     filters_5x5_reduce=48,\n",
        "                     filters_5x5=128,\n",
        "                     filters_pool_proj=128,\n",
        "                     name='inception_5b')\n",
        "\n",
        "x = GlobalAveragePooling2D(name='avg_pool_5_3x3/1')(x)\n",
        "\n",
        "x = Dropout(0.4)(x)\n",
        "\n",
        "x = Dense(7, activation='softmax', name='output')(x)\n",
        "\n",
        "\n",
        "y = tf.keras.layers.Concatenate()([x, x1, x2])\n",
        "\n",
        "\n",
        "from keras.layers import Lambda\n",
        "from keras import backend as K\n",
        "\n",
        "def get_mean(x):\n",
        "    x = K.reshape(x, (-1, 3,7))\n",
        "    return K.mean(x, axis=1)\n",
        "\n",
        "y = Lambda(get_mean, name=\"lambda_layer\")(y)\n",
        "\n",
        "# y = Lambda(get_mean)(y)\n",
        "  "
      ],
      "id": "ae48d8aa",
      "execution_count": null,
      "outputs": []
    },
    {
      "cell_type": "code",
      "metadata": {
        "colab": {
          "base_uri": "https://localhost:8080/"
        },
        "id": "363b1814",
        "outputId": "ebc09ea4-f88a-4f86-8dc1-d6ac38e4fe12"
      },
      "source": [
        "epochs = 100\n",
        "initial_lrate = 0.01\n",
        "\n",
        "def decay(epoch, steps=100):\n",
        "    initial_lrate = 0.01\n",
        "    drop = 0.96\n",
        "    epochs_drop = 8\n",
        "    lrate = initial_lrate * math.pow(drop, math.floor((1+epoch)/epochs_drop))\n",
        "    return lrate\n",
        "\n",
        "sgd = SGD(lr=initial_lrate, momentum=0.9, nesterov=False)\n",
        "\n",
        "lr_sc = LearningRateScheduler(decay, verbose=1)\n",
        "\n",
        "#model.compile(loss=['categorical_crossentropy', 'categorical_crossentropy', 'categorical_crossentropy'], loss_weights=[1, 0.3, 0.3], optimizer=sgd, metrics=['accuracy'])"
      ],
      "id": "363b1814",
      "execution_count": null,
      "outputs": [
        {
          "output_type": "stream",
          "name": "stderr",
          "text": [
            "/usr/local/lib/python3.7/dist-packages/keras/optimizer_v2/optimizer_v2.py:356: UserWarning: The `lr` argument is deprecated, use `learning_rate` instead.\n",
            "  \"The `lr` argument is deprecated, use `learning_rate` instead.\")\n"
          ]
        }
      ]
    },
    {
      "cell_type": "code",
      "metadata": {
        "colab": {
          "base_uri": "https://localhost:8080/"
        },
        "id": "1Mh4eJRic5St",
        "outputId": "b3ea77a4-3b03-4643-9239-be8a35405261"
      },
      "source": [
        "model = Model(input_layer, y, name='inception_v1')\n",
        "model.compile(loss='categorical_crossentropy', optimizer=sgd, metrics=['accuracy'])\n",
        "# model.call(list(generator)[0])\n",
        "#chan batch to 256\n",
        "history = model.fit(generator, validation_data=validation_generator ,epochs=epochs)\n"
      ],
      "id": "1Mh4eJRic5St",
      "execution_count": null,
      "outputs": [
        {
          "output_type": "stream",
          "name": "stdout",
          "text": [
            "Epoch 1/100\n",
            "149/149 [==============================] - 2053s 14s/step - loss: 1.9731 - accuracy: 0.1830 - val_loss: 1.8930 - val_accuracy: 0.1873\n",
            "Epoch 2/100\n",
            "149/149 [==============================] - 79s 530ms/step - loss: 1.8542 - accuracy: 0.2303 - val_loss: 1.9173 - val_accuracy: 0.1869\n",
            "Epoch 3/100\n",
            "149/149 [==============================] - 79s 532ms/step - loss: 1.7573 - accuracy: 0.2943 - val_loss: 1.7265 - val_accuracy: 0.3573\n",
            "Epoch 4/100\n",
            "149/149 [==============================] - 79s 532ms/step - loss: 1.6374 - accuracy: 0.3634 - val_loss: 1.5889 - val_accuracy: 0.4465\n",
            "Epoch 5/100\n",
            "149/149 [==============================] - 80s 533ms/step - loss: 1.5750 - accuracy: 0.3978 - val_loss: 1.6192 - val_accuracy: 0.3928\n",
            "Epoch 6/100\n",
            "149/149 [==============================] - 79s 530ms/step - loss: 1.5237 - accuracy: 0.4158 - val_loss: 1.6670 - val_accuracy: 0.4085\n",
            "Epoch 7/100\n",
            "149/149 [==============================] - 79s 529ms/step - loss: 1.4788 - accuracy: 0.4269 - val_loss: 1.6533 - val_accuracy: 0.4482\n",
            "Epoch 8/100\n",
            "149/149 [==============================] - 79s 528ms/step - loss: 1.4424 - accuracy: 0.4382 - val_loss: 1.6326 - val_accuracy: 0.4414\n",
            "Epoch 9/100\n",
            "149/149 [==============================] - 79s 530ms/step - loss: 1.4074 - accuracy: 0.4518 - val_loss: 1.7361 - val_accuracy: 0.4732\n",
            "Epoch 10/100\n",
            "149/149 [==============================] - 79s 531ms/step - loss: 1.3901 - accuracy: 0.4630 - val_loss: 1.7197 - val_accuracy: 0.4715\n",
            "Epoch 11/100\n",
            "149/149 [==============================] - 79s 530ms/step - loss: 1.3702 - accuracy: 0.4736 - val_loss: 1.7933 - val_accuracy: 0.4960\n",
            "Epoch 12/100\n",
            "149/149 [==============================] - 79s 530ms/step - loss: 1.3582 - accuracy: 0.4792 - val_loss: 1.9351 - val_accuracy: 0.4419\n",
            "Epoch 13/100\n",
            "149/149 [==============================] - 79s 529ms/step - loss: 1.3501 - accuracy: 0.4848 - val_loss: 1.8768 - val_accuracy: 0.4939\n",
            "Epoch 14/100\n",
            "149/149 [==============================] - 79s 529ms/step - loss: 1.3348 - accuracy: 0.4917 - val_loss: 2.2607 - val_accuracy: 0.4529\n",
            "Epoch 15/100\n",
            "149/149 [==============================] - 79s 529ms/step - loss: 1.3198 - accuracy: 0.5023 - val_loss: 1.7757 - val_accuracy: 0.5159\n",
            "Epoch 16/100\n",
            "149/149 [==============================] - 79s 529ms/step - loss: 1.3153 - accuracy: 0.5055 - val_loss: 2.3000 - val_accuracy: 0.4334\n",
            "Epoch 17/100\n",
            "149/149 [==============================] - 79s 531ms/step - loss: 1.3157 - accuracy: 0.5003 - val_loss: 2.4737 - val_accuracy: 0.4436\n",
            "Epoch 18/100\n",
            "149/149 [==============================] - 80s 533ms/step - loss: 1.2829 - accuracy: 0.5199 - val_loss: 1.9556 - val_accuracy: 0.4503\n",
            "Epoch 19/100\n",
            "149/149 [==============================] - 80s 537ms/step - loss: 1.2805 - accuracy: 0.5201 - val_loss: 1.9230 - val_accuracy: 0.4947\n",
            "Epoch 20/100\n",
            "149/149 [==============================] - 80s 537ms/step - loss: 1.2827 - accuracy: 0.5161 - val_loss: 2.3763 - val_accuracy: 0.4698\n",
            "Epoch 21/100\n",
            "149/149 [==============================] - 80s 533ms/step - loss: 1.2532 - accuracy: 0.5378 - val_loss: 1.8454 - val_accuracy: 0.4901\n",
            "Epoch 22/100\n",
            "149/149 [==============================] - 79s 532ms/step - loss: 1.2519 - accuracy: 0.5352 - val_loss: 1.8603 - val_accuracy: 0.4588\n",
            "Epoch 23/100\n",
            "149/149 [==============================] - 80s 536ms/step - loss: 1.2463 - accuracy: 0.5386 - val_loss: 1.8001 - val_accuracy: 0.5171\n",
            "Epoch 24/100\n",
            "149/149 [==============================] - 80s 534ms/step - loss: 1.2407 - accuracy: 0.5389 - val_loss: 2.5271 - val_accuracy: 0.5023\n",
            "Epoch 25/100\n",
            "149/149 [==============================] - 80s 533ms/step - loss: 1.2323 - accuracy: 0.5423 - val_loss: 2.3543 - val_accuracy: 0.4867\n",
            "Epoch 26/100\n",
            "149/149 [==============================] - 80s 533ms/step - loss: 1.2122 - accuracy: 0.5523 - val_loss: 1.8816 - val_accuracy: 0.4651\n",
            "Epoch 27/100\n",
            "149/149 [==============================] - 80s 534ms/step - loss: 1.2110 - accuracy: 0.5547 - val_loss: 2.1455 - val_accuracy: 0.4431\n",
            "Epoch 28/100\n",
            "149/149 [==============================] - 80s 534ms/step - loss: 1.2051 - accuracy: 0.5527 - val_loss: 2.1733 - val_accuracy: 0.4879\n",
            "Epoch 29/100\n",
            "149/149 [==============================] - 80s 536ms/step - loss: 1.2092 - accuracy: 0.5547 - val_loss: 2.0144 - val_accuracy: 0.4402\n",
            "Epoch 30/100\n",
            "149/149 [==============================] - 80s 537ms/step - loss: 1.1862 - accuracy: 0.5673 - val_loss: 1.7848 - val_accuracy: 0.4841\n",
            "Epoch 31/100\n",
            "149/149 [==============================] - 79s 532ms/step - loss: 1.1889 - accuracy: 0.5669 - val_loss: 2.6485 - val_accuracy: 0.4436\n",
            "Epoch 32/100\n",
            "149/149 [==============================] - 80s 533ms/step - loss: 1.1743 - accuracy: 0.5696 - val_loss: 2.2241 - val_accuracy: 0.4474\n",
            "Epoch 33/100\n",
            "149/149 [==============================] - 79s 531ms/step - loss: 1.1616 - accuracy: 0.5780 - val_loss: 2.3752 - val_accuracy: 0.4423\n",
            "Epoch 34/100\n",
            "149/149 [==============================] - 79s 531ms/step - loss: 1.1507 - accuracy: 0.5829 - val_loss: 3.1918 - val_accuracy: 0.4148\n",
            "Epoch 35/100\n",
            "149/149 [==============================] - 79s 532ms/step - loss: 1.1438 - accuracy: 0.5821 - val_loss: 2.4490 - val_accuracy: 0.4381\n",
            "Epoch 36/100\n",
            "149/149 [==============================] - 79s 533ms/step - loss: 1.1323 - accuracy: 0.5907 - val_loss: 3.1198 - val_accuracy: 0.4211\n",
            "Epoch 37/100\n",
            "149/149 [==============================] - 80s 533ms/step - loss: 1.1239 - accuracy: 0.5939 - val_loss: 2.2991 - val_accuracy: 0.4457\n",
            "Epoch 38/100\n",
            "149/149 [==============================] - 79s 531ms/step - loss: 1.1089 - accuracy: 0.5993 - val_loss: 2.7073 - val_accuracy: 0.4228\n",
            "Epoch 39/100\n",
            "149/149 [==============================] - 79s 532ms/step - loss: 1.1320 - accuracy: 0.5926 - val_loss: 2.0002 - val_accuracy: 0.4609\n",
            "Epoch 40/100\n",
            "149/149 [==============================] - 79s 532ms/step - loss: 1.1040 - accuracy: 0.6022 - val_loss: 2.6124 - val_accuracy: 0.4448\n",
            "Epoch 41/100\n",
            "149/149 [==============================] - 79s 531ms/step - loss: 1.0869 - accuracy: 0.6051 - val_loss: 2.3355 - val_accuracy: 0.4368\n",
            "Epoch 42/100\n",
            "149/149 [==============================] - 79s 532ms/step - loss: 1.0778 - accuracy: 0.6134 - val_loss: 3.3099 - val_accuracy: 0.4055\n",
            "Epoch 43/100\n",
            "149/149 [==============================] - 80s 534ms/step - loss: 1.0877 - accuracy: 0.6075 - val_loss: 3.0287 - val_accuracy: 0.4402\n",
            "Epoch 44/100\n",
            "149/149 [==============================] - 80s 536ms/step - loss: 1.0540 - accuracy: 0.6179 - val_loss: 2.1924 - val_accuracy: 0.4469\n",
            "Epoch 45/100\n",
            "149/149 [==============================] - 79s 531ms/step - loss: 1.0659 - accuracy: 0.6214 - val_loss: 2.5791 - val_accuracy: 0.4385\n",
            "Epoch 46/100\n",
            "149/149 [==============================] - 79s 529ms/step - loss: 1.0554 - accuracy: 0.6281 - val_loss: 3.1960 - val_accuracy: 0.4148\n",
            "Epoch 47/100\n",
            "149/149 [==============================] - 79s 530ms/step - loss: 1.0674 - accuracy: 0.6164 - val_loss: 2.5169 - val_accuracy: 0.4660\n",
            "Epoch 48/100\n",
            "149/149 [==============================] - 79s 529ms/step - loss: 1.0305 - accuracy: 0.6324 - val_loss: 3.0292 - val_accuracy: 0.4262\n",
            "Epoch 49/100\n",
            "149/149 [==============================] - 79s 530ms/step - loss: 1.0282 - accuracy: 0.6310 - val_loss: 2.4968 - val_accuracy: 0.4283\n",
            "Epoch 50/100\n",
            "149/149 [==============================] - 79s 530ms/step - loss: 1.0214 - accuracy: 0.6328 - val_loss: 2.8301 - val_accuracy: 0.4195\n",
            "Epoch 51/100\n",
            "149/149 [==============================] - 79s 531ms/step - loss: 1.0343 - accuracy: 0.6315 - val_loss: 2.0256 - val_accuracy: 0.4461\n",
            "Epoch 52/100\n",
            "149/149 [==============================] - 79s 530ms/step - loss: 1.0169 - accuracy: 0.6385 - val_loss: 2.3495 - val_accuracy: 0.4402\n",
            "Epoch 53/100\n",
            "149/149 [==============================] - 79s 531ms/step - loss: 1.0119 - accuracy: 0.6437 - val_loss: 3.0319 - val_accuracy: 0.4423\n",
            "Epoch 54/100\n",
            "149/149 [==============================] - 79s 532ms/step - loss: 0.9891 - accuracy: 0.6502 - val_loss: 2.8073 - val_accuracy: 0.4338\n",
            "Epoch 55/100\n",
            "149/149 [==============================] - 79s 529ms/step - loss: 0.9948 - accuracy: 0.6477 - val_loss: 2.6115 - val_accuracy: 0.4330\n",
            "Epoch 56/100\n",
            "149/149 [==============================] - 79s 528ms/step - loss: 0.9622 - accuracy: 0.6595 - val_loss: 3.5454 - val_accuracy: 0.4393\n",
            "Epoch 57/100\n",
            "149/149 [==============================] - 79s 530ms/step - loss: 0.9551 - accuracy: 0.6661 - val_loss: 2.5448 - val_accuracy: 0.4266\n",
            "Epoch 58/100\n",
            "149/149 [==============================] - 79s 530ms/step - loss: 0.9528 - accuracy: 0.6624 - val_loss: 2.5679 - val_accuracy: 0.4190\n",
            "Epoch 59/100\n",
            "149/149 [==============================] - 79s 530ms/step - loss: 0.9375 - accuracy: 0.6701 - val_loss: 2.9769 - val_accuracy: 0.4258\n",
            "Epoch 60/100\n",
            "149/149 [==============================] - 79s 529ms/step - loss: 0.9343 - accuracy: 0.6686 - val_loss: 3.0544 - val_accuracy: 0.4351\n",
            "Epoch 61/100\n",
            "149/149 [==============================] - 79s 530ms/step - loss: 0.9270 - accuracy: 0.6748 - val_loss: 2.7396 - val_accuracy: 0.4478\n",
            "Epoch 62/100\n",
            "149/149 [==============================] - 79s 529ms/step - loss: 0.9222 - accuracy: 0.6756 - val_loss: 3.0534 - val_accuracy: 0.4182\n",
            "Epoch 63/100\n",
            "149/149 [==============================] - 79s 530ms/step - loss: 0.8852 - accuracy: 0.6845 - val_loss: 2.7118 - val_accuracy: 0.4304\n",
            "Epoch 64/100\n",
            "149/149 [==============================] - 79s 529ms/step - loss: 0.9168 - accuracy: 0.6814 - val_loss: 2.5186 - val_accuracy: 0.3852\n",
            "Epoch 65/100\n",
            "149/149 [==============================] - 79s 529ms/step - loss: 0.8727 - accuracy: 0.6926 - val_loss: 2.9116 - val_accuracy: 0.4262\n",
            "Epoch 66/100\n",
            "149/149 [==============================] - 79s 529ms/step - loss: 0.8687 - accuracy: 0.6872 - val_loss: 2.5480 - val_accuracy: 0.4359\n",
            "Epoch 67/100\n",
            "149/149 [==============================] - 79s 529ms/step - loss: 0.8612 - accuracy: 0.6989 - val_loss: 2.5705 - val_accuracy: 0.4385\n",
            "Epoch 68/100\n",
            "149/149 [==============================] - 79s 530ms/step - loss: 0.8446 - accuracy: 0.7071 - val_loss: 3.8036 - val_accuracy: 0.3894\n",
            "Epoch 69/100\n",
            "149/149 [==============================] - 79s 531ms/step - loss: 0.8511 - accuracy: 0.6993 - val_loss: 3.7205 - val_accuracy: 0.4567\n",
            "Epoch 70/100\n",
            "149/149 [==============================] - 80s 534ms/step - loss: 0.8452 - accuracy: 0.6989 - val_loss: 2.6230 - val_accuracy: 0.4702\n",
            "Epoch 71/100\n",
            "149/149 [==============================] - 79s 531ms/step - loss: 0.8615 - accuracy: 0.7027 - val_loss: 2.9964 - val_accuracy: 0.4545\n",
            "Epoch 72/100\n",
            "149/149 [==============================] - 79s 531ms/step - loss: 0.8229 - accuracy: 0.7103 - val_loss: 3.6296 - val_accuracy: 0.4452\n",
            "Epoch 73/100\n",
            "149/149 [==============================] - 79s 530ms/step - loss: 0.8141 - accuracy: 0.7136 - val_loss: 3.1970 - val_accuracy: 0.4503\n",
            "Epoch 74/100\n",
            "149/149 [==============================] - 79s 530ms/step - loss: 0.7869 - accuracy: 0.7252 - val_loss: 4.5114 - val_accuracy: 0.3983\n",
            "Epoch 75/100\n",
            "149/149 [==============================] - 79s 530ms/step - loss: 0.7819 - accuracy: 0.7288 - val_loss: 2.2702 - val_accuracy: 0.4423\n",
            "Epoch 76/100\n",
            "149/149 [==============================] - 79s 530ms/step - loss: 0.7845 - accuracy: 0.7245 - val_loss: 3.0268 - val_accuracy: 0.4342\n",
            "Epoch 77/100\n",
            "149/149 [==============================] - 79s 530ms/step - loss: 0.7494 - accuracy: 0.7368 - val_loss: 3.6820 - val_accuracy: 0.4233\n",
            "Epoch 78/100\n",
            "149/149 [==============================] - 79s 530ms/step - loss: 0.7712 - accuracy: 0.7309 - val_loss: 2.6609 - val_accuracy: 0.4279\n",
            "Epoch 79/100\n",
            "149/149 [==============================] - 79s 529ms/step - loss: 0.7239 - accuracy: 0.7503 - val_loss: 4.3377 - val_accuracy: 0.4203\n",
            "Epoch 80/100\n",
            "149/149 [==============================] - 79s 531ms/step - loss: 0.7056 - accuracy: 0.7571 - val_loss: 2.7094 - val_accuracy: 0.4524\n",
            "Epoch 81/100\n",
            "149/149 [==============================] - 79s 531ms/step - loss: 0.7238 - accuracy: 0.7453 - val_loss: 3.5375 - val_accuracy: 0.4309\n",
            "Epoch 82/100\n",
            "149/149 [==============================] - 79s 531ms/step - loss: 0.7300 - accuracy: 0.7475 - val_loss: 3.1594 - val_accuracy: 0.4279\n",
            "Epoch 83/100\n",
            "149/149 [==============================] - 80s 533ms/step - loss: 0.7342 - accuracy: 0.7475 - val_loss: 3.5495 - val_accuracy: 0.4288\n",
            "Epoch 84/100\n",
            "149/149 [==============================] - 79s 532ms/step - loss: 0.6764 - accuracy: 0.7647 - val_loss: 2.1391 - val_accuracy: 0.4110\n",
            "Epoch 85/100\n",
            "149/149 [==============================] - 79s 531ms/step - loss: 0.8579 - accuracy: 0.6973 - val_loss: 3.0182 - val_accuracy: 0.4423\n",
            "Epoch 86/100\n",
            "149/149 [==============================] - 79s 531ms/step - loss: 0.7393 - accuracy: 0.7403 - val_loss: 2.8761 - val_accuracy: 0.4334\n",
            "Epoch 87/100\n",
            "149/149 [==============================] - 79s 530ms/step - loss: 0.6619 - accuracy: 0.7707 - val_loss: 3.5009 - val_accuracy: 0.4596\n",
            "Epoch 88/100\n",
            "149/149 [==============================] - 79s 531ms/step - loss: 0.6880 - accuracy: 0.7591 - val_loss: 3.8683 - val_accuracy: 0.4245\n",
            "Epoch 89/100\n",
            "149/149 [==============================] - 79s 531ms/step - loss: 0.6650 - accuracy: 0.7701 - val_loss: 4.4494 - val_accuracy: 0.4207\n",
            "Epoch 90/100\n",
            "149/149 [==============================] - 79s 531ms/step - loss: 0.6118 - accuracy: 0.7873 - val_loss: 3.2011 - val_accuracy: 0.4634\n",
            "Epoch 91/100\n",
            "149/149 [==============================] - 79s 531ms/step - loss: 0.7195 - accuracy: 0.7479 - val_loss: 3.8252 - val_accuracy: 0.4359\n",
            "Epoch 92/100\n",
            "149/149 [==============================] - 79s 531ms/step - loss: 0.6803 - accuracy: 0.7658 - val_loss: 4.0635 - val_accuracy: 0.4228\n",
            "Epoch 93/100\n",
            "149/149 [==============================] - 79s 532ms/step - loss: 0.6361 - accuracy: 0.7799 - val_loss: 4.7246 - val_accuracy: 0.4034\n",
            "Epoch 94/100\n",
            "149/149 [==============================] - 79s 531ms/step - loss: 0.6375 - accuracy: 0.7776 - val_loss: 3.0647 - val_accuracy: 0.4334\n",
            "Epoch 95/100\n",
            "149/149 [==============================] - 79s 532ms/step - loss: 0.6200 - accuracy: 0.7884 - val_loss: 4.0892 - val_accuracy: 0.4249\n",
            "Epoch 96/100\n",
            "149/149 [==============================] - 79s 531ms/step - loss: 0.6465 - accuracy: 0.7777 - val_loss: 3.4319 - val_accuracy: 0.4385\n",
            "Epoch 97/100\n",
            "149/149 [==============================] - 79s 530ms/step - loss: 0.5455 - accuracy: 0.8116 - val_loss: 3.8588 - val_accuracy: 0.4152\n",
            "Epoch 98/100\n",
            "149/149 [==============================] - 79s 530ms/step - loss: 0.6036 - accuracy: 0.7909 - val_loss: 3.3493 - val_accuracy: 0.4228\n",
            "Epoch 99/100\n",
            "149/149 [==============================] - 79s 530ms/step - loss: 0.5786 - accuracy: 0.8053 - val_loss: 4.4321 - val_accuracy: 0.4288\n",
            "Epoch 100/100\n",
            "149/149 [==============================] - 79s 530ms/step - loss: 0.5306 - accuracy: 0.8244 - val_loss: 3.7401 - val_accuracy: 0.4820\n"
          ]
        }
      ]
    },
    {
      "cell_type": "code",
      "metadata": {
        "id": "Zv9r5nVyKoNc"
      },
      "source": [
        "##validation_generator\n",
        "#history = model.fit(generator,validation_data=validation_generator, epochs=epochs, batch_size=256)\n"
      ],
      "id": "Zv9r5nVyKoNc",
      "execution_count": null,
      "outputs": []
    },
    {
      "cell_type": "code",
      "metadata": {
        "id": "df404c24",
        "colab": {
          "base_uri": "https://localhost:8080/"
        },
        "outputId": "9da7a16b-e8ee-4219-ee1f-6eb980a47ef5"
      },
      "source": [
        "\n",
        "model.save(\"scramy_googlenet2\")"
      ],
      "id": "df404c24",
      "execution_count": null,
      "outputs": [
        {
          "output_type": "stream",
          "name": "stdout",
          "text": [
            "INFO:tensorflow:Assets written to: scramy_googlenet2/assets\n"
          ]
        }
      ]
    },
    {
      "cell_type": "code",
      "metadata": {
        "id": "z0wHevjLauuC",
        "colab": {
          "base_uri": "https://localhost:8080/"
        },
        "outputId": "e18feff9-ffde-4254-a110-10dce2088dd7"
      },
      "source": [
        "from google.colab import drive\n",
        "drive.mount('/content/drive')"
      ],
      "id": "z0wHevjLauuC",
      "execution_count": null,
      "outputs": [
        {
          "output_type": "stream",
          "name": "stdout",
          "text": [
            "Drive already mounted at /content/drive; to attempt to forcibly remount, call drive.mount(\"/content/drive\", force_remount=True).\n"
          ]
        }
      ]
    },
    {
      "cell_type": "code",
      "metadata": {
        "id": "pmtHWvHR7zY-",
        "colab": {
          "base_uri": "https://localhost:8080/"
        },
        "outputId": "61e5cebf-afa1-447b-af9c-bda422c87707"
      },
      "source": [
        "model.summary()"
      ],
      "id": "pmtHWvHR7zY-",
      "execution_count": null,
      "outputs": [
        {
          "output_type": "stream",
          "name": "stdout",
          "text": [
            "Model: \"inception_v1\"\n",
            "__________________________________________________________________________________________________\n",
            "Layer (type)                    Output Shape         Param #     Connected to                     \n",
            "==================================================================================================\n",
            "input_1 (InputLayer)            [(None, 224, 224, 3) 0                                            \n",
            "__________________________________________________________________________________________________\n",
            "conv_1_7x7/2 (Conv2D)           (None, 112, 112, 64) 9472        input_1[0][0]                    \n",
            "__________________________________________________________________________________________________\n",
            "max_pool_1_3x3/2 (MaxPooling2D) (None, 56, 56, 64)   0           conv_1_7x7/2[0][0]               \n",
            "__________________________________________________________________________________________________\n",
            "conv_2a_3x3/1 (Conv2D)          (None, 56, 56, 64)   4160        max_pool_1_3x3/2[0][0]           \n",
            "__________________________________________________________________________________________________\n",
            "conv_2b_3x3/1 (Conv2D)          (None, 56, 56, 192)  110784      conv_2a_3x3/1[0][0]              \n",
            "__________________________________________________________________________________________________\n",
            "max_pool_2_3x3/2 (MaxPooling2D) (None, 28, 28, 192)  0           conv_2b_3x3/1[0][0]              \n",
            "__________________________________________________________________________________________________\n",
            "conv2d_1 (Conv2D)               (None, 28, 28, 96)   18528       max_pool_2_3x3/2[0][0]           \n",
            "__________________________________________________________________________________________________\n",
            "conv2d_3 (Conv2D)               (None, 28, 28, 16)   3088        max_pool_2_3x3/2[0][0]           \n",
            "__________________________________________________________________________________________________\n",
            "max_pooling2d (MaxPooling2D)    (None, 28, 28, 192)  0           max_pool_2_3x3/2[0][0]           \n",
            "__________________________________________________________________________________________________\n",
            "conv2d (Conv2D)                 (None, 28, 28, 64)   12352       max_pool_2_3x3/2[0][0]           \n",
            "__________________________________________________________________________________________________\n",
            "conv2d_2 (Conv2D)               (None, 28, 28, 128)  110720      conv2d_1[0][0]                   \n",
            "__________________________________________________________________________________________________\n",
            "conv2d_4 (Conv2D)               (None, 28, 28, 32)   12832       conv2d_3[0][0]                   \n",
            "__________________________________________________________________________________________________\n",
            "conv2d_5 (Conv2D)               (None, 28, 28, 32)   6176        max_pooling2d[0][0]              \n",
            "__________________________________________________________________________________________________\n",
            "inception_3a (Concatenate)      (None, 28, 28, 256)  0           conv2d[0][0]                     \n",
            "                                                                 conv2d_2[0][0]                   \n",
            "                                                                 conv2d_4[0][0]                   \n",
            "                                                                 conv2d_5[0][0]                   \n",
            "__________________________________________________________________________________________________\n",
            "conv2d_7 (Conv2D)               (None, 28, 28, 128)  32896       inception_3a[0][0]               \n",
            "__________________________________________________________________________________________________\n",
            "conv2d_9 (Conv2D)               (None, 28, 28, 32)   8224        inception_3a[0][0]               \n",
            "__________________________________________________________________________________________________\n",
            "max_pooling2d_1 (MaxPooling2D)  (None, 28, 28, 256)  0           inception_3a[0][0]               \n",
            "__________________________________________________________________________________________________\n",
            "conv2d_6 (Conv2D)               (None, 28, 28, 128)  32896       inception_3a[0][0]               \n",
            "__________________________________________________________________________________________________\n",
            "conv2d_8 (Conv2D)               (None, 28, 28, 192)  221376      conv2d_7[0][0]                   \n",
            "__________________________________________________________________________________________________\n",
            "conv2d_10 (Conv2D)              (None, 28, 28, 96)   76896       conv2d_9[0][0]                   \n",
            "__________________________________________________________________________________________________\n",
            "conv2d_11 (Conv2D)              (None, 28, 28, 64)   16448       max_pooling2d_1[0][0]            \n",
            "__________________________________________________________________________________________________\n",
            "inception_3b (Concatenate)      (None, 28, 28, 480)  0           conv2d_6[0][0]                   \n",
            "                                                                 conv2d_8[0][0]                   \n",
            "                                                                 conv2d_10[0][0]                  \n",
            "                                                                 conv2d_11[0][0]                  \n",
            "__________________________________________________________________________________________________\n",
            "max_pool_3_3x3/2 (MaxPooling2D) (None, 14, 14, 480)  0           inception_3b[0][0]               \n",
            "__________________________________________________________________________________________________\n",
            "conv2d_13 (Conv2D)              (None, 14, 14, 96)   46176       max_pool_3_3x3/2[0][0]           \n",
            "__________________________________________________________________________________________________\n",
            "conv2d_15 (Conv2D)              (None, 14, 14, 16)   7696        max_pool_3_3x3/2[0][0]           \n",
            "__________________________________________________________________________________________________\n",
            "max_pooling2d_2 (MaxPooling2D)  (None, 14, 14, 480)  0           max_pool_3_3x3/2[0][0]           \n",
            "__________________________________________________________________________________________________\n",
            "conv2d_12 (Conv2D)              (None, 14, 14, 192)  92352       max_pool_3_3x3/2[0][0]           \n",
            "__________________________________________________________________________________________________\n",
            "conv2d_14 (Conv2D)              (None, 14, 14, 208)  179920      conv2d_13[0][0]                  \n",
            "__________________________________________________________________________________________________\n",
            "conv2d_16 (Conv2D)              (None, 14, 14, 48)   19248       conv2d_15[0][0]                  \n",
            "__________________________________________________________________________________________________\n",
            "conv2d_17 (Conv2D)              (None, 14, 14, 64)   30784       max_pooling2d_2[0][0]            \n",
            "__________________________________________________________________________________________________\n",
            "inception_4a (Concatenate)      (None, 14, 14, 512)  0           conv2d_12[0][0]                  \n",
            "                                                                 conv2d_14[0][0]                  \n",
            "                                                                 conv2d_16[0][0]                  \n",
            "                                                                 conv2d_17[0][0]                  \n",
            "__________________________________________________________________________________________________\n",
            "conv2d_20 (Conv2D)              (None, 14, 14, 112)  57456       inception_4a[0][0]               \n",
            "__________________________________________________________________________________________________\n",
            "conv2d_22 (Conv2D)              (None, 14, 14, 24)   12312       inception_4a[0][0]               \n",
            "__________________________________________________________________________________________________\n",
            "max_pooling2d_3 (MaxPooling2D)  (None, 14, 14, 512)  0           inception_4a[0][0]               \n",
            "__________________________________________________________________________________________________\n",
            "conv2d_19 (Conv2D)              (None, 14, 14, 160)  82080       inception_4a[0][0]               \n",
            "__________________________________________________________________________________________________\n",
            "conv2d_21 (Conv2D)              (None, 14, 14, 224)  226016      conv2d_20[0][0]                  \n",
            "__________________________________________________________________________________________________\n",
            "conv2d_23 (Conv2D)              (None, 14, 14, 64)   38464       conv2d_22[0][0]                  \n",
            "__________________________________________________________________________________________________\n",
            "conv2d_24 (Conv2D)              (None, 14, 14, 64)   32832       max_pooling2d_3[0][0]            \n",
            "__________________________________________________________________________________________________\n",
            "inception_4b (Concatenate)      (None, 14, 14, 512)  0           conv2d_19[0][0]                  \n",
            "                                                                 conv2d_21[0][0]                  \n",
            "                                                                 conv2d_23[0][0]                  \n",
            "                                                                 conv2d_24[0][0]                  \n",
            "__________________________________________________________________________________________________\n",
            "conv2d_26 (Conv2D)              (None, 14, 14, 128)  65664       inception_4b[0][0]               \n",
            "__________________________________________________________________________________________________\n",
            "conv2d_28 (Conv2D)              (None, 14, 14, 24)   12312       inception_4b[0][0]               \n",
            "__________________________________________________________________________________________________\n",
            "max_pooling2d_4 (MaxPooling2D)  (None, 14, 14, 512)  0           inception_4b[0][0]               \n",
            "__________________________________________________________________________________________________\n",
            "conv2d_25 (Conv2D)              (None, 14, 14, 128)  65664       inception_4b[0][0]               \n",
            "__________________________________________________________________________________________________\n",
            "conv2d_27 (Conv2D)              (None, 14, 14, 256)  295168      conv2d_26[0][0]                  \n",
            "__________________________________________________________________________________________________\n",
            "conv2d_29 (Conv2D)              (None, 14, 14, 64)   38464       conv2d_28[0][0]                  \n",
            "__________________________________________________________________________________________________\n",
            "conv2d_30 (Conv2D)              (None, 14, 14, 64)   32832       max_pooling2d_4[0][0]            \n",
            "__________________________________________________________________________________________________\n",
            "inception_4c (Concatenate)      (None, 14, 14, 512)  0           conv2d_25[0][0]                  \n",
            "                                                                 conv2d_27[0][0]                  \n",
            "                                                                 conv2d_29[0][0]                  \n",
            "                                                                 conv2d_30[0][0]                  \n",
            "__________________________________________________________________________________________________\n",
            "conv2d_32 (Conv2D)              (None, 14, 14, 144)  73872       inception_4c[0][0]               \n",
            "__________________________________________________________________________________________________\n",
            "conv2d_34 (Conv2D)              (None, 14, 14, 32)   16416       inception_4c[0][0]               \n",
            "__________________________________________________________________________________________________\n",
            "max_pooling2d_5 (MaxPooling2D)  (None, 14, 14, 512)  0           inception_4c[0][0]               \n",
            "__________________________________________________________________________________________________\n",
            "conv2d_31 (Conv2D)              (None, 14, 14, 112)  57456       inception_4c[0][0]               \n",
            "__________________________________________________________________________________________________\n",
            "conv2d_33 (Conv2D)              (None, 14, 14, 288)  373536      conv2d_32[0][0]                  \n",
            "__________________________________________________________________________________________________\n",
            "conv2d_35 (Conv2D)              (None, 14, 14, 64)   51264       conv2d_34[0][0]                  \n",
            "__________________________________________________________________________________________________\n",
            "conv2d_36 (Conv2D)              (None, 14, 14, 64)   32832       max_pooling2d_5[0][0]            \n",
            "__________________________________________________________________________________________________\n",
            "inception_4d (Concatenate)      (None, 14, 14, 528)  0           conv2d_31[0][0]                  \n",
            "                                                                 conv2d_33[0][0]                  \n",
            "                                                                 conv2d_35[0][0]                  \n",
            "                                                                 conv2d_36[0][0]                  \n",
            "__________________________________________________________________________________________________\n",
            "conv2d_39 (Conv2D)              (None, 14, 14, 160)  84640       inception_4d[0][0]               \n",
            "__________________________________________________________________________________________________\n",
            "conv2d_41 (Conv2D)              (None, 14, 14, 32)   16928       inception_4d[0][0]               \n",
            "__________________________________________________________________________________________________\n",
            "max_pooling2d_6 (MaxPooling2D)  (None, 14, 14, 528)  0           inception_4d[0][0]               \n",
            "__________________________________________________________________________________________________\n",
            "conv2d_38 (Conv2D)              (None, 14, 14, 256)  135424      inception_4d[0][0]               \n",
            "__________________________________________________________________________________________________\n",
            "conv2d_40 (Conv2D)              (None, 14, 14, 320)  461120      conv2d_39[0][0]                  \n",
            "__________________________________________________________________________________________________\n",
            "conv2d_42 (Conv2D)              (None, 14, 14, 128)  102528      conv2d_41[0][0]                  \n",
            "__________________________________________________________________________________________________\n",
            "conv2d_43 (Conv2D)              (None, 14, 14, 128)  67712       max_pooling2d_6[0][0]            \n",
            "__________________________________________________________________________________________________\n",
            "inception_4e (Concatenate)      (None, 14, 14, 832)  0           conv2d_38[0][0]                  \n",
            "                                                                 conv2d_40[0][0]                  \n",
            "                                                                 conv2d_42[0][0]                  \n",
            "                                                                 conv2d_43[0][0]                  \n",
            "__________________________________________________________________________________________________\n",
            "max_pool_4_3x3/2 (MaxPooling2D) (None, 7, 7, 832)    0           inception_4e[0][0]               \n",
            "__________________________________________________________________________________________________\n",
            "conv2d_45 (Conv2D)              (None, 7, 7, 160)    133280      max_pool_4_3x3/2[0][0]           \n",
            "__________________________________________________________________________________________________\n",
            "conv2d_47 (Conv2D)              (None, 7, 7, 32)     26656       max_pool_4_3x3/2[0][0]           \n",
            "__________________________________________________________________________________________________\n",
            "max_pooling2d_7 (MaxPooling2D)  (None, 7, 7, 832)    0           max_pool_4_3x3/2[0][0]           \n",
            "__________________________________________________________________________________________________\n",
            "conv2d_44 (Conv2D)              (None, 7, 7, 256)    213248      max_pool_4_3x3/2[0][0]           \n",
            "__________________________________________________________________________________________________\n",
            "conv2d_46 (Conv2D)              (None, 7, 7, 320)    461120      conv2d_45[0][0]                  \n",
            "__________________________________________________________________________________________________\n",
            "conv2d_48 (Conv2D)              (None, 7, 7, 128)    102528      conv2d_47[0][0]                  \n",
            "__________________________________________________________________________________________________\n",
            "conv2d_49 (Conv2D)              (None, 7, 7, 128)    106624      max_pooling2d_7[0][0]            \n",
            "__________________________________________________________________________________________________\n",
            "inception_5a (Concatenate)      (None, 7, 7, 832)    0           conv2d_44[0][0]                  \n",
            "                                                                 conv2d_46[0][0]                  \n",
            "                                                                 conv2d_48[0][0]                  \n",
            "                                                                 conv2d_49[0][0]                  \n",
            "__________________________________________________________________________________________________\n",
            "conv2d_51 (Conv2D)              (None, 7, 7, 192)    159936      inception_5a[0][0]               \n",
            "__________________________________________________________________________________________________\n",
            "conv2d_53 (Conv2D)              (None, 7, 7, 48)     39984       inception_5a[0][0]               \n",
            "__________________________________________________________________________________________________\n",
            "max_pooling2d_8 (MaxPooling2D)  (None, 7, 7, 832)    0           inception_5a[0][0]               \n",
            "__________________________________________________________________________________________________\n",
            "average_pooling2d (AveragePooli (None, 4, 4, 512)    0           inception_4a[0][0]               \n",
            "__________________________________________________________________________________________________\n",
            "average_pooling2d_1 (AveragePoo (None, 4, 4, 528)    0           inception_4d[0][0]               \n",
            "__________________________________________________________________________________________________\n",
            "conv2d_50 (Conv2D)              (None, 7, 7, 384)    319872      inception_5a[0][0]               \n",
            "__________________________________________________________________________________________________\n",
            "conv2d_52 (Conv2D)              (None, 7, 7, 384)    663936      conv2d_51[0][0]                  \n",
            "__________________________________________________________________________________________________\n",
            "conv2d_54 (Conv2D)              (None, 7, 7, 128)    153728      conv2d_53[0][0]                  \n",
            "__________________________________________________________________________________________________\n",
            "conv2d_55 (Conv2D)              (None, 7, 7, 128)    106624      max_pooling2d_8[0][0]            \n",
            "__________________________________________________________________________________________________\n",
            "conv2d_18 (Conv2D)              (None, 4, 4, 128)    65664       average_pooling2d[0][0]          \n",
            "__________________________________________________________________________________________________\n",
            "conv2d_37 (Conv2D)              (None, 4, 4, 128)    67712       average_pooling2d_1[0][0]        \n",
            "__________________________________________________________________________________________________\n",
            "inception_5b (Concatenate)      (None, 7, 7, 1024)   0           conv2d_50[0][0]                  \n",
            "                                                                 conv2d_52[0][0]                  \n",
            "                                                                 conv2d_54[0][0]                  \n",
            "                                                                 conv2d_55[0][0]                  \n",
            "__________________________________________________________________________________________________\n",
            "flatten (Flatten)               (None, 2048)         0           conv2d_18[0][0]                  \n",
            "__________________________________________________________________________________________________\n",
            "flatten_1 (Flatten)             (None, 2048)         0           conv2d_37[0][0]                  \n",
            "__________________________________________________________________________________________________\n",
            "avg_pool_5_3x3/1 (GlobalAverage (None, 1024)         0           inception_5b[0][0]               \n",
            "__________________________________________________________________________________________________\n",
            "dense (Dense)                   (None, 1024)         2098176     flatten[0][0]                    \n",
            "__________________________________________________________________________________________________\n",
            "dense_1 (Dense)                 (None, 1024)         2098176     flatten_1[0][0]                  \n",
            "__________________________________________________________________________________________________\n",
            "dropout_2 (Dropout)             (None, 1024)         0           avg_pool_5_3x3/1[0][0]           \n",
            "__________________________________________________________________________________________________\n",
            "dropout (Dropout)               (None, 1024)         0           dense[0][0]                      \n",
            "__________________________________________________________________________________________________\n",
            "dropout_1 (Dropout)             (None, 1024)         0           dense_1[0][0]                    \n",
            "__________________________________________________________________________________________________\n",
            "output (Dense)                  (None, 7)            7175        dropout_2[0][0]                  \n",
            "__________________________________________________________________________________________________\n",
            "auxilliary_output_1 (Dense)     (None, 7)            7175        dropout[0][0]                    \n",
            "__________________________________________________________________________________________________\n",
            "auxilliary_output_2 (Dense)     (None, 7)            7175        dropout_1[0][0]                  \n",
            "__________________________________________________________________________________________________\n",
            "concatenate (Concatenate)       (None, 21)           0           output[0][0]                     \n",
            "                                                                 auxilliary_output_1[0][0]        \n",
            "                                                                 auxilliary_output_2[0][0]        \n",
            "__________________________________________________________________________________________________\n",
            "lambda_layer (Lambda)           (None, 7)            0           concatenate[0][0]                \n",
            "==================================================================================================\n",
            "Total params: 10,324,805\n",
            "Trainable params: 10,324,805\n",
            "Non-trainable params: 0\n",
            "__________________________________________________________________________________________________\n"
          ]
        }
      ]
    },
    {
      "cell_type": "code",
      "metadata": {
        "id": "BEykQNtEtU9l",
        "colab": {
          "base_uri": "https://localhost:8080/",
          "height": 541
        },
        "outputId": "83cef22c-0c04-45d3-9727-281064d34d34"
      },
      "source": [
        "plt.figure(figsize=(20,10))\n",
        "plt.subplot(1, 2, 1)\n",
        "plt.suptitle('Optimizer : Adam', fontsize=10)\n",
        "plt.ylabel('Loss', fontsize=16)\n",
        "plt.plot(history.history['loss'], label='Training Loss')\n",
        "plt.plot(history.history['val_loss'], label='Validation Loss')\n",
        "plt.legend(loc='upper right')\n",
        "\n",
        "plt.subplot(1, 2, 2)\n",
        "plt.ylabel('Accuracy', fontsize=16)\n",
        "plt.plot(history.history['accuracy'], label='Training Accuracy')\n",
        "plt.plot(history.history['val_accuracy'], label='Validation Accuracy')\n",
        "plt.legend(loc='lower right')\n",
        "plt.show()"
      ],
      "id": "BEykQNtEtU9l",
      "execution_count": null,
      "outputs": [
        {
          "output_type": "display_data",
          "data": {
            "image/png": "[encoded data removed]",
            "text/plain": [
              "<Figure size 1440x720 with 2 Axes>"
            ]
          },
          "metadata": {
            "needs_background": "light"
          }
        }
      ]
    },
    {
      "cell_type": "code",
      "metadata": {
        "id": "zyStVTL7tMwK"
      },
      "source": [
        "reconstructed_model = keras.models.load_model(\"/content/drive/MyDrive/ملفات/scramy_googlenet2\")"
      ],
      "id": "zyStVTL7tMwK",
      "execution_count": null,
      "outputs": []
    },
    {
      "cell_type": "code",
      "metadata": {
        "id": "ahHyuxD1xTFT"
      },
      "source": [
        ""
      ],
      "id": "ahHyuxD1xTFT",
      "execution_count": null,
      "outputs": []
    },
    {
      "cell_type": "code",
      "metadata": {
        "id": "wtJtxsx4rH7z"
      },
      "source": [
        "test_dir =\"/content/drive/MyDrive/graduation2/graduation/Final Dataset/testset_occluded\""
      ],
      "id": "wtJtxsx4rH7z",
      "execution_count": null,
      "outputs": []
    },
    {
      "cell_type": "markdown",
      "source": [
        "test_datagen = ImageDataGenerator()\n",
        "\n",
        "test_generator = test_datagen.flow_from_directory(\n",
        "        test_dir,\n",
        "        target_size=(224, 224),\n",
        "        color_mode=\"rgb\",\n",
        "        shuffle = False,\n",
        "        class_mode='categorical',\n",
        "        batch_size=1)\n",
        "\n",
        "filenames = test_generator.filenames\n",
        "nb_samples = len(filenames)\n",
        "\n",
        "predict = reconstructed_model.predict_generator(test_generator,steps = nb_samples)"
      ],
      "metadata": {
        "id": "hcdpIxVzwdC6"
      },
      "id": "hcdpIxVzwdC6"
    },
    {
      "cell_type": "code",
      "source": [
        "test_datagen = ImageDataGenerator()\n",
        "\n",
        "test_generator = test_datagen.flow_from_directory(\n",
        "        test_dir,\n",
        "        target_size=(224, 224),\n",
        "        color_mode=\"rgb\",\n",
        "        shuffle = False,\n",
        "        class_mode='categorical',\n",
        "        batch_size=1)"
      ],
      "metadata": {
        "colab": {
          "base_uri": "https://localhost:8080/"
        },
        "id": "31N3FR21ulqC",
        "outputId": "34f958b4-8c41-42bf-9f13-78fb3278dd33"
      },
      "id": "31N3FR21ulqC",
      "execution_count": null,
      "outputs": [
        {
          "output_type": "stream",
          "name": "stdout",
          "text": [
            "Found 3626 images belonging to 7 classes.\n"
          ]
        }
      ]
    },
    {
      "cell_type": "code",
      "metadata": {
        "colab": {
          "base_uri": "https://localhost:8080/"
        },
        "id": "n1dKzadXrIpX",
        "outputId": "fe86b2d9-ef6d-4faf-abc3-4f72d73bad61"
      },
      "source": [
        "reconstructed_model.evaluate(test_generator)"
      ],
      "id": "n1dKzadXrIpX",
      "execution_count": null,
      "outputs": [
        {
          "output_type": "stream",
          "name": "stdout",
          "text": [
            "3626/3626 [==============================] - 605s 167ms/step - loss: 2.2495 - accuracy: 0.5328\n"
          ]
        },
        {
          "output_type": "execute_result",
          "data": {
            "text/plain": [
              "[2.2494564056396484, 0.5328185558319092]"
            ]
          },
          "metadata": {},
          "execution_count": 11
        }
      ]
    },
    {
      "cell_type": "code",
      "source": [
        "y_true = test_generator.classes"
      ],
      "metadata": {
        "id": "pRAdGkCAu30h"
      },
      "id": "pRAdGkCAu30h",
      "execution_count": null,
      "outputs": []
    },
    {
      "cell_type": "code",
      "source": [
        "y_true"
      ],
      "metadata": {
        "colab": {
          "base_uri": "https://localhost:8080/"
        },
        "id": "7tDg59VHvJXt",
        "outputId": "9da5eaf4-d606-435d-a341-4b9d459a0c81"
      },
      "id": "7tDg59VHvJXt",
      "execution_count": null,
      "outputs": [
        {
          "output_type": "execute_result",
          "data": {
            "text/plain": [
              "array([0, 0, 0, ..., 6, 6, 6], dtype=int32)"
            ]
          },
          "metadata": {},
          "execution_count": 13
        }
      ]
    },
    {
      "cell_type": "code",
      "source": [
        "y_pred_prob2 =reconstructed_model.predict(test_generator)"
      ],
      "metadata": {
        "id": "TdpblS9gvNsD"
      },
      "id": "TdpblS9gvNsD",
      "execution_count": null,
      "outputs": []
    },
    {
      "cell_type": "code",
      "source": [
        "y_pred2 = tf.argmax(y_pred_prob2, axis=-1)"
      ],
      "metadata": {
        "id": "40r85bBlvcFz"
      },
      "id": "40r85bBlvcFz",
      "execution_count": null,
      "outputs": []
    },
    {
      "cell_type": "code",
      "source": [
        "classes = ['Surprise', 'Fear', 'Disgust', 'Happy', 'Sad', 'Anger', 'Neutral']"
      ],
      "metadata": {
        "id": "uL6h4B9Avu4j"
      },
      "id": "uL6h4B9Avu4j",
      "execution_count": null,
      "outputs": []
    },
    {
      "cell_type": "code",
      "source": [
        "print(classification_report(y_true, y_pred2, target_names = classes))"
      ],
      "metadata": {
        "colab": {
          "base_uri": "https://localhost:8080/"
        },
        "id": "9G6wyl_Rv1Ml",
        "outputId": "57ac9331-f016-4640-b06c-04a09526390d"
      },
      "id": "9G6wyl_Rv1Ml",
      "execution_count": null,
      "outputs": [
        {
          "output_type": "stream",
          "name": "stdout",
          "text": [
            "              precision    recall  f1-score   support\n",
            "\n",
            "    Surprise       0.65      0.67      0.66       525\n",
            "        Fear       0.76      0.51      0.62       536\n",
            "     Disgust       0.78      0.67      0.73       221\n",
            "       Happy       0.47      0.68      0.56       500\n",
            "         Sad       0.47      0.49      0.48       739\n",
            "       Anger       0.34      0.30      0.32       527\n",
            "     Neutral       0.51      0.51      0.51       578\n",
            "\n",
            "    accuracy                           0.53      3626\n",
            "   macro avg       0.57      0.55      0.55      3626\n",
            "weighted avg       0.55      0.53      0.53      3626\n",
            "\n"
          ]
        }
      ]
    },
    {
      "cell_type": "code",
      "source": [
        "from sklearn.metrics import confusion_matrix\n",
        "cm = confusion_matrix(y_true, y_pred2)\n",
        "cm"
      ],
      "metadata": {
        "colab": {
          "base_uri": "https://localhost:8080/"
        },
        "id": "3XoxUAO1wClm",
        "outputId": "aee4d814-c06a-43fa-9806-83c1c26527b0"
      },
      "id": "3XoxUAO1wClm",
      "execution_count": null,
      "outputs": [
        {
          "output_type": "execute_result",
          "data": {
            "text/plain": [
              "array([[350,  22,   4,  39,  26,  41,  43],\n",
              "       [ 29, 276,   2,  52,  64,  30,  83],\n",
              "       [ 26,   0, 149,  16,   9,  15,   6],\n",
              "       [ 27,  10,   4, 341,  45,  40,  33],\n",
              "       [ 30,  15,  21, 129, 363, 130,  51],\n",
              "       [ 49,  12,   1, 102, 139, 160,  64],\n",
              "       [ 30,  26,   9,  39, 120,  61, 293]])"
            ]
          },
          "metadata": {},
          "execution_count": 18
        }
      ]
    },
    {
      "cell_type": "code",
      "source": [
        "ax = plt.subplot()\n",
        "sns.heatmap(cm, annot=True, fmt='g', ax=ax);  #annot=True to annotate cells, ftm='g' to disable scientific notation\n",
        "\n",
        "# labels, title and ticks\n",
        "ax.set_xlabel('Predicted labels');ax.set_ylabel('True labels'); \n",
        "ax.set_title('Confusion Matrix'); \n",
        "ax.xaxis.set_ticklabels(classes); ax.yaxis.set_ticklabels(classes);"
      ],
      "metadata": {
        "colab": {
          "base_uri": "https://localhost:8080/",
          "height": 294
        },
        "id": "eMZC7D0rwDrJ",
        "outputId": "50d8ba7c-02bb-4a85-d57e-c07821a4914b"
      },
      "id": "eMZC7D0rwDrJ",
      "execution_count": null,
      "outputs": [
        {
          "output_type": "display_data",
          "data": {
            "image/png": "[encoded data removed]",
            "text/plain": [
              "<Figure size 432x288 with 2 Axes>"
            ]
          },
          "metadata": {
            "needs_background": "light"
          }
        }
      ]
    },
    {
      "cell_type": "code",
      "source": [
        "training_scores = reconstructed_model.evaluate(generator)\n",
        "print(\"Accuracy = \", training_scores[1])"
      ],
      "metadata": {
        "colab": {
          "base_uri": "https://localhost:8080/"
        },
        "id": "qsmooDlYwH_1",
        "outputId": "5b5fe979-cbcc-4fdb-e3a9-4b4cca4ad5b8"
      },
      "id": "qsmooDlYwH_1",
      "execution_count": null,
      "outputs": [
        {
          "output_type": "stream",
          "name": "stdout",
          "text": [
            "149/149 [==============================] - 1723s 12s/step - loss: 0.4026 - accuracy: 0.8614\n",
            "Accuracy =  0.8613923788070679\n"
          ]
        }
      ]
    },
    {
      "cell_type": "code",
      "source": [
        "validation_scores = reconstructed_model.evaluate(validation_generator)\n",
        "print(\"Accuracy = \", validation_scores[1])"
      ],
      "metadata": {
        "colab": {
          "base_uri": "https://localhost:8080/"
        },
        "id": "MASZvS-NwPgA",
        "outputId": "1f5e0e4e-90ba-4d98-ff14-5cad7afbc520"
      },
      "id": "MASZvS-NwPgA",
      "execution_count": null,
      "outputs": [
        {
          "output_type": "stream",
          "name": "stdout",
          "text": [
            "37/37 [==============================] - 458s 13s/step - loss: 3.7401 - accuracy: 0.4820\n",
            "Accuracy =  0.48202958703041077\n"
          ]
        }
      ]
    }
  ]
}