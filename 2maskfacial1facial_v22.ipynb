{
  "nbformat": 4,
  "nbformat_minor": 5,
  "metadata": {
    "colab": {
      "name": "2maskfacial1facial v22.ipynb",
      "provenance": [],
      "collapsed_sections": [],
      "include_colab_link": true
    },
    "kernelspec": {
      "display_name": "Python 3 (ipykernel)",
      "language": "python",
      "name": "python3"
    },
    "language_info": {
      "codemirror_mode": {
        "name": "ipython",
        "version": 3
      },
      "file_extension": ".py",
      "mimetype": "text/x-python",
      "name": "python",
      "nbconvert_exporter": "python",
      "pygments_lexer": "ipython3",
      "version": "3.8.11"
    }
  },
  "cells": [
    {
      "cell_type": "markdown",
      "metadata": {
        "id": "view-in-github",
        "colab_type": "text"
      },
      "source": [
        "<a href=\"https://colab.research.google.com/github/norayehia/graduation-facial-occluded-on-vrap-company/blob/main/2maskfacial1facial_v22.ipynb\" target=\"_parent\"><img src=\"https://colab.research.google.com/assets/colab-badge.svg\" alt=\"Open In Colab\"/></a>"
      ]
    },
    {
      "cell_type": "code",
      "metadata": {
        "id": "efb97fec"
      },
      "source": [
        "import numpy as np\n",
        "import matplotlib.pyplot as plt\n",
        "import os\n",
        "import cv2\n",
        "import tensorflow as tf\n",
        "from tensorflow.keras.preprocessing.image  import  ImageDataGenerator\n",
        "from tensorflow.keras.preprocessing import image\n",
        "import keras"
      ],
      "id": "efb97fec",
      "execution_count": null,
      "outputs": []
    },
    {
      "cell_type": "code",
      "metadata": {
        "id": "0a1bb725"
      },
      "source": [
        "from tensorflow.keras.preprocessing.image import ImageDataGenerator"
      ],
      "id": "0a1bb725",
      "execution_count": null,
      "outputs": []
    },
    {
      "cell_type": "code",
      "metadata": {
        "colab": {
          "base_uri": "https://localhost:8080/"
        },
        "id": "X7ULDWuV_zOv",
        "outputId": "84ec0330-6792-4e46-bc40-9d9ce9d76f0d"
      },
      "source": [
        "\n",
        "\n",
        "\n",
        "\n",
        "from google.colab import drive\n",
        "drive.mount('/content/drive')"
      ],
      "id": "X7ULDWuV_zOv",
      "execution_count": null,
      "outputs": [
        {
          "output_type": "stream",
          "name": "stdout",
          "text": [
            "Mounted at /content/drive\n"
          ]
        }
      ]
    },
    {
      "cell_type": "code",
      "metadata": {
        "id": "a8974eca"
      },
      "source": [
        "#t='C://Users//admin//Music//try2//New folder (2)100//train'\n",
        "t='/content/drive/MyDrive/Final Dataset/trainset_occluded'"
      ],
      "id": "a8974eca",
      "execution_count": null,
      "outputs": []
    },
    {
      "cell_type": "markdown",
      "metadata": {
        "id": "dae31d27"
      },
      "source": [
        "# data generator"
      ],
      "id": "dae31d27"
    },
    {
      "cell_type": "code",
      "metadata": {
        "colab": {
          "base_uri": "https://localhost:8080/"
        },
        "id": "637e8fdf",
        "outputId": "ce059005-ef21-43cd-ac05-0afb767de518"
      },
      "source": [
        "datagen = ImageDataGenerator(validation_split=0.2)\n",
        "generator = datagen.flow_from_directory(t, target_size=(224, 224), batch_size=32, class_mode='categorical', subset='training')\n",
        "validation_generator = datagen.flow_from_directory(t, # same directory as training data\n",
        "    target_size=(224, 224), batch_size=32, class_mode='categorical', subset='validation')"
      ],
      "id": "637e8fdf",
      "execution_count": null,
      "outputs": [
        {
          "output_type": "stream",
          "name": "stdout",
          "text": [
            "Found 9480 images belonging to 7 classes.\n",
            "Found 2365 images belonging to 7 classes.\n"
          ]
        }
      ]
    },
    {
      "cell_type": "code",
      "metadata": {
        "colab": {
          "base_uri": "https://localhost:8080/"
        },
        "id": "amp-Qi-DYtc6",
        "outputId": "ed121984-b49b-4fb4-d880-c54bc2b72981"
      },
      "source": [
        "\n",
        "from google.colab import drive\n",
        "drive.mount('/content/drive')"
      ],
      "id": "amp-Qi-DYtc6",
      "execution_count": null,
      "outputs": [
        {
          "output_type": "stream",
          "name": "stdout",
          "text": [
            "Mounted at /content/drive\n"
          ]
        }
      ]
    },
    {
      "cell_type": "markdown",
      "metadata": {
        "id": "a9960180"
      },
      "source": [
        "# model"
      ],
      "id": "a9960180"
    },
    {
      "cell_type": "code",
      "metadata": {
        "id": "dad680f1"
      },
      "source": [
        "model=tf.keras.models.Sequential(\n",
        "[#16 filter ,inputshapesize200*200 RGB *3\n",
        "    \n",
        "    tf.keras.layers.Conv2D(16,(3,3),activation='relu',input_shape=(224, 224,3)),\n",
        "    tf.keras.layers.MaxPool2D(2,2),\n",
        "    #32 filter\n",
        "    tf.keras.layers.Conv2D(32,(3,3),activation='relu'),\n",
        "    tf.keras.layers.MaxPool2D(2,2),\n",
        "    #\n",
        "    tf.keras.layers.Conv2D(64,(3,3),activation='relu'),\n",
        "    tf.keras.layers.MaxPool2D(2,2),\n",
        "    #flatten\n",
        "    tf.keras.layers.Flatten(),\n",
        "    #activation and outputlayes\n",
        "    tf.keras.layers.Dense(512,activation='relu'),\n",
        "    #2clases need on nerron \n",
        "    tf.keras.layers.Dense(7,activation='softmax')\n",
        "    \n",
        "]\n",
        ")"
      ],
      "id": "dad680f1",
      "execution_count": null,
      "outputs": []
    },
    {
      "cell_type": "code",
      "metadata": {
        "id": "034a1a51"
      },
      "source": [
        "import keras.utils "
      ],
      "id": "034a1a51",
      "execution_count": null,
      "outputs": []
    },
    {
      "cell_type": "code",
      "metadata": {
        "id": "047e2054"
      },
      "source": [
        "model.compile(loss=keras.losses.CategoricalCrossentropy(),\n",
        "              metrics=[keras.metrics.CategoricalAccuracy()])"
      ],
      "id": "047e2054",
      "execution_count": null,
      "outputs": []
    },
    {
      "cell_type": "code",
      "metadata": {
        "id": "454e66ff",
        "colab": {
          "base_uri": "https://localhost:8080/"
        },
        "outputId": "be0ddd68-3cec-465b-e747-5a390ee2fd2a"
      },
      "source": [
        "model_fit=model.fit(\n",
        "generator,\n",
        "    \n",
        "    epochs=100,\n",
        "    validation_data=validation_generator\n",
        "    \n",
        "\n",
        ")"
      ],
      "id": "454e66ff",
      "execution_count": null,
      "outputs": [
        {
          "output_type": "stream",
          "name": "stdout",
          "text": [
            "Epoch 1/100\n",
            "297/297 [==============================] - 5165s 17s/step - loss: 22.4688 - categorical_accuracy: 0.4118 - val_loss: 2.7014 - val_categorical_accuracy: 0.3556\n",
            "Epoch 2/100\n",
            "297/297 [==============================] - 347s 1s/step - loss: 1.4464 - categorical_accuracy: 0.5047 - val_loss: 2.8025 - val_categorical_accuracy: 0.4249\n",
            "Epoch 3/100\n",
            "297/297 [==============================] - 346s 1s/step - loss: 1.2140 - categorical_accuracy: 0.5857 - val_loss: 2.2790 - val_categorical_accuracy: 0.4410\n",
            "Epoch 4/100\n",
            "297/297 [==============================] - 345s 1s/step - loss: 1.0472 - categorical_accuracy: 0.6436 - val_loss: 5.5223 - val_categorical_accuracy: 0.4419\n",
            "Epoch 5/100\n",
            "297/297 [==============================] - 345s 1s/step - loss: 0.8608 - categorical_accuracy: 0.6963 - val_loss: 4.1013 - val_categorical_accuracy: 0.4630\n",
            "Epoch 6/100\n",
            "297/297 [==============================] - 345s 1s/step - loss: 0.7242 - categorical_accuracy: 0.7474 - val_loss: 4.1477 - val_categorical_accuracy: 0.4660\n",
            "Epoch 7/100\n",
            "297/297 [==============================] - 345s 1s/step - loss: 0.5869 - categorical_accuracy: 0.8024 - val_loss: 5.6827 - val_categorical_accuracy: 0.4575\n",
            "Epoch 8/100\n",
            "297/297 [==============================] - 347s 1s/step - loss: 0.4501 - categorical_accuracy: 0.8523 - val_loss: 9.5513 - val_categorical_accuracy: 0.4186\n",
            "Epoch 9/100\n",
            "297/297 [==============================] - 346s 1s/step - loss: 0.3522 - categorical_accuracy: 0.8882 - val_loss: 7.5095 - val_categorical_accuracy: 0.4038\n",
            "Epoch 10/100\n",
            "297/297 [==============================] - 348s 1s/step - loss: 0.2825 - categorical_accuracy: 0.9143 - val_loss: 11.3987 - val_categorical_accuracy: 0.4626\n",
            "Epoch 11/100\n",
            "297/297 [==============================] - 348s 1s/step - loss: 0.2878 - categorical_accuracy: 0.9323 - val_loss: 11.8478 - val_categorical_accuracy: 0.4791\n",
            "Epoch 12/100\n",
            "297/297 [==============================] - 350s 1s/step - loss: 0.1812 - categorical_accuracy: 0.9511 - val_loss: 15.0256 - val_categorical_accuracy: 0.4406\n",
            "Epoch 13/100\n",
            "297/297 [==============================] - 347s 1s/step - loss: 0.1560 - categorical_accuracy: 0.9601 - val_loss: 13.6662 - val_categorical_accuracy: 0.4478\n",
            "Epoch 14/100\n",
            "297/297 [==============================] - 349s 1s/step - loss: 0.2241 - categorical_accuracy: 0.9607 - val_loss: 18.5788 - val_categorical_accuracy: 0.4313\n",
            "Epoch 15/100\n",
            "297/297 [==============================] - 349s 1s/step - loss: 0.1422 - categorical_accuracy: 0.9655 - val_loss: 16.8223 - val_categorical_accuracy: 0.3987\n",
            "Epoch 16/100\n",
            "297/297 [==============================] - 346s 1s/step - loss: 0.2014 - categorical_accuracy: 0.9645 - val_loss: 25.4064 - val_categorical_accuracy: 0.4529\n",
            "Epoch 17/100\n",
            "297/297 [==============================] - 347s 1s/step - loss: 0.1974 - categorical_accuracy: 0.9689 - val_loss: 25.0557 - val_categorical_accuracy: 0.4495\n",
            "Epoch 18/100\n",
            "297/297 [==============================] - 350s 1s/step - loss: 0.1544 - categorical_accuracy: 0.9776 - val_loss: 28.6719 - val_categorical_accuracy: 0.4245\n",
            "Epoch 19/100\n",
            "297/297 [==============================] - 347s 1s/step - loss: 0.2151 - categorical_accuracy: 0.9718 - val_loss: 20.6117 - val_categorical_accuracy: 0.4245\n",
            "Epoch 20/100\n",
            "297/297 [==============================] - 347s 1s/step - loss: 0.1752 - categorical_accuracy: 0.9754 - val_loss: 25.2249 - val_categorical_accuracy: 0.4524\n",
            "Epoch 21/100\n",
            "297/297 [==============================] - 347s 1s/step - loss: 0.1249 - categorical_accuracy: 0.9790 - val_loss: 31.3298 - val_categorical_accuracy: 0.4406\n",
            "Epoch 22/100\n",
            "297/297 [==============================] - 348s 1s/step - loss: 0.2020 - categorical_accuracy: 0.9782 - val_loss: 28.4467 - val_categorical_accuracy: 0.4495\n",
            "Epoch 23/100\n",
            "297/297 [==============================] - 349s 1s/step - loss: 0.2600 - categorical_accuracy: 0.9768 - val_loss: 31.5515 - val_categorical_accuracy: 0.4266\n",
            "Epoch 24/100\n",
            "297/297 [==============================] - 346s 1s/step - loss: 0.1808 - categorical_accuracy: 0.9825 - val_loss: 27.7141 - val_categorical_accuracy: 0.4372\n",
            "Epoch 25/100\n",
            "297/297 [==============================] - 345s 1s/step - loss: 0.2196 - categorical_accuracy: 0.9813 - val_loss: 35.0666 - val_categorical_accuracy: 0.4224\n",
            "Epoch 26/100\n",
            "297/297 [==============================] - 347s 1s/step - loss: 0.1628 - categorical_accuracy: 0.9813 - val_loss: 35.8664 - val_categorical_accuracy: 0.4647\n",
            "Epoch 27/100\n",
            "297/297 [==============================] - 346s 1s/step - loss: 0.2686 - categorical_accuracy: 0.9735 - val_loss: 26.7556 - val_categorical_accuracy: 0.4393\n",
            "Epoch 28/100\n",
            "297/297 [==============================] - 346s 1s/step - loss: 0.2658 - categorical_accuracy: 0.9803 - val_loss: 38.2397 - val_categorical_accuracy: 0.4211\n",
            "Epoch 29/100\n",
            "297/297 [==============================] - 347s 1s/step - loss: 0.2960 - categorical_accuracy: 0.9791 - val_loss: 39.4014 - val_categorical_accuracy: 0.4296\n",
            "Epoch 30/100\n",
            "297/297 [==============================] - 348s 1s/step - loss: 0.1790 - categorical_accuracy: 0.9852 - val_loss: 48.5591 - val_categorical_accuracy: 0.4347\n",
            "Epoch 31/100\n",
            "297/297 [==============================] - 348s 1s/step - loss: 0.1832 - categorical_accuracy: 0.9839 - val_loss: 43.5731 - val_categorical_accuracy: 0.4440\n",
            "Epoch 32/100\n",
            "297/297 [==============================] - 347s 1s/step - loss: 0.2196 - categorical_accuracy: 0.9808 - val_loss: 57.5980 - val_categorical_accuracy: 0.4097\n",
            "Epoch 33/100\n",
            "297/297 [==============================] - 347s 1s/step - loss: 0.1323 - categorical_accuracy: 0.9858 - val_loss: 44.2022 - val_categorical_accuracy: 0.4554\n",
            "Epoch 34/100\n",
            "297/297 [==============================] - 349s 1s/step - loss: 0.2351 - categorical_accuracy: 0.9841 - val_loss: 61.1239 - val_categorical_accuracy: 0.4076\n",
            "Epoch 35/100\n",
            "297/297 [==============================] - 349s 1s/step - loss: 0.2380 - categorical_accuracy: 0.9852 - val_loss: 44.0095 - val_categorical_accuracy: 0.4550\n",
            "Epoch 36/100\n",
            "297/297 [==============================] - 348s 1s/step - loss: 0.2719 - categorical_accuracy: 0.9851 - val_loss: 56.4926 - val_categorical_accuracy: 0.4338\n",
            "Epoch 37/100\n",
            "297/297 [==============================] - 349s 1s/step - loss: 0.2008 - categorical_accuracy: 0.9858 - val_loss: 53.8215 - val_categorical_accuracy: 0.4558\n",
            "Epoch 38/100\n",
            "297/297 [==============================] - 350s 1s/step - loss: 0.1705 - categorical_accuracy: 0.9866 - val_loss: 57.5113 - val_categorical_accuracy: 0.4516\n",
            "Epoch 39/100\n",
            "297/297 [==============================] - 347s 1s/step - loss: 0.1403 - categorical_accuracy: 0.9853 - val_loss: 48.2665 - val_categorical_accuracy: 0.4254\n",
            "Epoch 40/100\n",
            "297/297 [==============================] - 356s 1s/step - loss: 0.1974 - categorical_accuracy: 0.9848 - val_loss: 56.5292 - val_categorical_accuracy: 0.4216\n",
            "Epoch 41/100\n",
            "297/297 [==============================] - 348s 1s/step - loss: 0.1841 - categorical_accuracy: 0.9854 - val_loss: 79.0526 - val_categorical_accuracy: 0.4592\n",
            "Epoch 42/100\n",
            "297/297 [==============================] - 349s 1s/step - loss: 0.1644 - categorical_accuracy: 0.9868 - val_loss: 62.9442 - val_categorical_accuracy: 0.4364\n",
            "Epoch 43/100\n",
            "297/297 [==============================] - 348s 1s/step - loss: 0.2082 - categorical_accuracy: 0.9850 - val_loss: 65.8905 - val_categorical_accuracy: 0.4279\n",
            "Epoch 44/100\n",
            "297/297 [==============================] - 348s 1s/step - loss: 0.1519 - categorical_accuracy: 0.9877 - val_loss: 65.8015 - val_categorical_accuracy: 0.4241\n",
            "Epoch 45/100\n",
            "297/297 [==============================] - 348s 1s/step - loss: 0.1047 - categorical_accuracy: 0.9910 - val_loss: 61.4721 - val_categorical_accuracy: 0.4093\n",
            "Epoch 46/100\n",
            "297/297 [==============================] - 360s 1s/step - loss: 0.2146 - categorical_accuracy: 0.9880 - val_loss: 97.2653 - val_categorical_accuracy: 0.4550\n",
            "Epoch 47/100\n",
            "297/297 [==============================] - 358s 1s/step - loss: 0.2747 - categorical_accuracy: 0.9873 - val_loss: 76.0617 - val_categorical_accuracy: 0.4499\n",
            "Epoch 48/100\n",
            "297/297 [==============================] - 359s 1s/step - loss: 0.2220 - categorical_accuracy: 0.9853 - val_loss: 81.8153 - val_categorical_accuracy: 0.4452\n",
            "Epoch 49/100\n",
            "297/297 [==============================] - 359s 1s/step - loss: 0.1888 - categorical_accuracy: 0.9887 - val_loss: 82.6495 - val_categorical_accuracy: 0.4584\n",
            "Epoch 50/100\n",
            "297/297 [==============================] - 359s 1s/step - loss: 0.2373 - categorical_accuracy: 0.9877 - val_loss: 88.5918 - val_categorical_accuracy: 0.4351\n",
            "Epoch 51/100\n",
            "297/297 [==============================] - 358s 1s/step - loss: 0.1526 - categorical_accuracy: 0.9908 - val_loss: 75.2474 - val_categorical_accuracy: 0.4296\n",
            "Epoch 52/100\n",
            "297/297 [==============================] - 356s 1s/step - loss: 0.2926 - categorical_accuracy: 0.9881 - val_loss: 94.3016 - val_categorical_accuracy: 0.4617\n",
            "Epoch 53/100\n",
            "297/297 [==============================] - 359s 1s/step - loss: 0.1922 - categorical_accuracy: 0.9899 - val_loss: 105.1918 - val_categorical_accuracy: 0.4541\n",
            "Epoch 54/100\n",
            "297/297 [==============================] - 356s 1s/step - loss: 0.2293 - categorical_accuracy: 0.9888 - val_loss: 100.9304 - val_categorical_accuracy: 0.4216\n",
            "Epoch 55/100\n",
            "297/297 [==============================] - 357s 1s/step - loss: 0.2205 - categorical_accuracy: 0.9893 - val_loss: 96.7357 - val_categorical_accuracy: 0.4123\n",
            "Epoch 56/100\n",
            "297/297 [==============================] - 357s 1s/step - loss: 0.2220 - categorical_accuracy: 0.9901 - val_loss: 113.5563 - val_categorical_accuracy: 0.4275\n",
            "Epoch 57/100\n",
            "297/297 [==============================] - 358s 1s/step - loss: 0.3220 - categorical_accuracy: 0.9867 - val_loss: 110.3556 - val_categorical_accuracy: 0.4423\n",
            "Epoch 58/100\n",
            "297/297 [==============================] - 356s 1s/step - loss: 0.1729 - categorical_accuracy: 0.9907 - val_loss: 134.4510 - val_categorical_accuracy: 0.4135\n",
            "Epoch 59/100\n",
            "297/297 [==============================] - 355s 1s/step - loss: 0.2996 - categorical_accuracy: 0.9882 - val_loss: 126.9914 - val_categorical_accuracy: 0.4431\n",
            "Epoch 60/100\n",
            "297/297 [==============================] - 356s 1s/step - loss: 0.2095 - categorical_accuracy: 0.9923 - val_loss: 132.3281 - val_categorical_accuracy: 0.4499\n",
            "Epoch 61/100\n",
            "297/297 [==============================] - 355s 1s/step - loss: 0.1572 - categorical_accuracy: 0.9902 - val_loss: 182.4278 - val_categorical_accuracy: 0.4626\n",
            "Epoch 62/100\n",
            "297/297 [==============================] - 356s 1s/step - loss: 0.2055 - categorical_accuracy: 0.9904 - val_loss: 124.7732 - val_categorical_accuracy: 0.4393\n",
            "Epoch 63/100\n",
            "297/297 [==============================] - 355s 1s/step - loss: 0.3272 - categorical_accuracy: 0.9891 - val_loss: 149.3254 - val_categorical_accuracy: 0.4503\n",
            "Epoch 64/100\n",
            "297/297 [==============================] - 354s 1s/step - loss: 0.3789 - categorical_accuracy: 0.9884 - val_loss: 162.5853 - val_categorical_accuracy: 0.4402\n",
            "Epoch 65/100\n",
            "297/297 [==============================] - 355s 1s/step - loss: 0.3065 - categorical_accuracy: 0.9909 - val_loss: 138.3791 - val_categorical_accuracy: 0.4406\n",
            "Epoch 66/100\n",
            "297/297 [==============================] - 355s 1s/step - loss: 0.1934 - categorical_accuracy: 0.9909 - val_loss: 143.2028 - val_categorical_accuracy: 0.4118\n",
            "Epoch 67/100\n",
            "297/297 [==============================] - 354s 1s/step - loss: 0.1762 - categorical_accuracy: 0.9920 - val_loss: 181.0568 - val_categorical_accuracy: 0.4342\n",
            "Epoch 68/100\n",
            "297/297 [==============================] - 354s 1s/step - loss: 0.3152 - categorical_accuracy: 0.9902 - val_loss: 176.5337 - val_categorical_accuracy: 0.4495\n",
            "Epoch 69/100\n",
            "297/297 [==============================] - 356s 1s/step - loss: 0.3886 - categorical_accuracy: 0.9890 - val_loss: 132.6506 - val_categorical_accuracy: 0.4258\n",
            "Epoch 70/100\n",
            "297/297 [==============================] - 355s 1s/step - loss: 0.1692 - categorical_accuracy: 0.9917 - val_loss: 155.4967 - val_categorical_accuracy: 0.4503\n",
            "Epoch 71/100\n",
            "297/297 [==============================] - 356s 1s/step - loss: 0.1622 - categorical_accuracy: 0.9928 - val_loss: 152.6193 - val_categorical_accuracy: 0.4275\n",
            "Epoch 72/100\n",
            "297/297 [==============================] - 355s 1s/step - loss: 0.1787 - categorical_accuracy: 0.9924 - val_loss: 144.9706 - val_categorical_accuracy: 0.4237\n",
            "Epoch 73/100\n",
            "297/297 [==============================] - 355s 1s/step - loss: 0.4737 - categorical_accuracy: 0.9887 - val_loss: 135.8889 - val_categorical_accuracy: 0.4266\n",
            "Epoch 74/100\n",
            "297/297 [==============================] - 353s 1s/step - loss: 0.2566 - categorical_accuracy: 0.9907 - val_loss: 149.5367 - val_categorical_accuracy: 0.4304\n",
            "Epoch 75/100\n",
            "297/297 [==============================] - 353s 1s/step - loss: 0.1866 - categorical_accuracy: 0.9928 - val_loss: 202.3299 - val_categorical_accuracy: 0.4283\n",
            "Epoch 76/100\n",
            "297/297 [==============================] - 355s 1s/step - loss: 0.2313 - categorical_accuracy: 0.9930 - val_loss: 136.1118 - val_categorical_accuracy: 0.4520\n",
            "Epoch 77/100\n",
            "297/297 [==============================] - 356s 1s/step - loss: 0.2202 - categorical_accuracy: 0.9912 - val_loss: 159.0930 - val_categorical_accuracy: 0.4326\n",
            "Epoch 78/100\n",
            "297/297 [==============================] - 360s 1s/step - loss: 0.2004 - categorical_accuracy: 0.9936 - val_loss: 163.1947 - val_categorical_accuracy: 0.4313\n",
            "Epoch 79/100\n",
            "297/297 [==============================] - 359s 1s/step - loss: 0.1656 - categorical_accuracy: 0.9939 - val_loss: 167.5956 - val_categorical_accuracy: 0.4461\n",
            "Epoch 80/100\n",
            "297/297 [==============================] - 357s 1s/step - loss: 0.1341 - categorical_accuracy: 0.9927 - val_loss: 222.6715 - val_categorical_accuracy: 0.4338\n",
            "Epoch 81/100\n",
            "297/297 [==============================] - 357s 1s/step - loss: 0.3224 - categorical_accuracy: 0.9930 - val_loss: 179.3726 - val_categorical_accuracy: 0.4588\n",
            "Epoch 82/100\n",
            "297/297 [==============================] - 356s 1s/step - loss: 0.2675 - categorical_accuracy: 0.9948 - val_loss: 197.0490 - val_categorical_accuracy: 0.4334\n",
            "Epoch 83/100\n",
            "297/297 [==============================] - 355s 1s/step - loss: 0.3474 - categorical_accuracy: 0.9899 - val_loss: 230.8258 - val_categorical_accuracy: 0.4533\n",
            "Epoch 84/100\n",
            "297/297 [==============================] - 356s 1s/step - loss: 0.2927 - categorical_accuracy: 0.9921 - val_loss: 200.4830 - val_categorical_accuracy: 0.4448\n",
            "Epoch 85/100\n",
            "297/297 [==============================] - 355s 1s/step - loss: 0.3114 - categorical_accuracy: 0.9916 - val_loss: 220.5935 - val_categorical_accuracy: 0.4600\n",
            "Epoch 86/100\n",
            "297/297 [==============================] - 354s 1s/step - loss: 0.2913 - categorical_accuracy: 0.9920 - val_loss: 231.1013 - val_categorical_accuracy: 0.4529\n",
            "Epoch 87/100\n",
            "297/297 [==============================] - 356s 1s/step - loss: 0.4636 - categorical_accuracy: 0.9915 - val_loss: 273.7404 - val_categorical_accuracy: 0.4389\n",
            "Epoch 88/100\n",
            "297/297 [==============================] - 356s 1s/step - loss: 0.5802 - categorical_accuracy: 0.9924 - val_loss: 249.7830 - val_categorical_accuracy: 0.4638\n",
            "Epoch 89/100\n",
            "297/297 [==============================] - 359s 1s/step - loss: 0.5113 - categorical_accuracy: 0.9917 - val_loss: 235.8219 - val_categorical_accuracy: 0.4436\n",
            "Epoch 90/100\n",
            "297/297 [==============================] - 358s 1s/step - loss: 0.4009 - categorical_accuracy: 0.9920 - val_loss: 254.2290 - val_categorical_accuracy: 0.4368\n",
            "Epoch 91/100\n",
            "297/297 [==============================] - 357s 1s/step - loss: 0.3410 - categorical_accuracy: 0.9919 - val_loss: 301.5910 - val_categorical_accuracy: 0.4406\n",
            "Epoch 92/100\n",
            "297/297 [==============================] - 357s 1s/step - loss: 0.1816 - categorical_accuracy: 0.9936 - val_loss: 250.7059 - val_categorical_accuracy: 0.4364\n",
            "Epoch 93/100\n",
            "297/297 [==============================] - 356s 1s/step - loss: 0.1744 - categorical_accuracy: 0.9938 - val_loss: 276.9548 - val_categorical_accuracy: 0.4140\n",
            "Epoch 94/100\n",
            "297/297 [==============================] - 359s 1s/step - loss: 0.1780 - categorical_accuracy: 0.9940 - val_loss: 240.9858 - val_categorical_accuracy: 0.4283\n",
            "Epoch 95/100\n",
            "297/297 [==============================] - 357s 1s/step - loss: 0.2903 - categorical_accuracy: 0.9940 - val_loss: 248.8413 - val_categorical_accuracy: 0.4182\n",
            "Epoch 96/100\n",
            "297/297 [==============================] - 358s 1s/step - loss: 0.2425 - categorical_accuracy: 0.9947 - val_loss: 273.6447 - val_categorical_accuracy: 0.4249\n",
            "Epoch 97/100\n",
            "297/297 [==============================] - 358s 1s/step - loss: 0.2282 - categorical_accuracy: 0.9946 - val_loss: 305.7748 - val_categorical_accuracy: 0.4228\n",
            "Epoch 98/100\n",
            "297/297 [==============================] - 358s 1s/step - loss: 0.5178 - categorical_accuracy: 0.9915 - val_loss: 357.8665 - val_categorical_accuracy: 0.4313\n",
            "Epoch 99/100\n",
            "297/297 [==============================] - 356s 1s/step - loss: 0.5619 - categorical_accuracy: 0.9912 - val_loss: 344.7332 - val_categorical_accuracy: 0.4516\n",
            "Epoch 100/100\n",
            "297/297 [==============================] - 357s 1s/step - loss: 0.4010 - categorical_accuracy: 0.9919 - val_loss: 357.6963 - val_categorical_accuracy: 0.4638\n"
          ]
        }
      ]
    },
    {
      "cell_type": "code",
      "metadata": {
        "id": "5ba8bd6f"
      },
      "source": [
        "\n",
        "\"\"\"\n",
        "\n",
        "\n",
        "# It can be used to reconstruct the model identically.\n",
        "reconstructed_model = keras.models.load_model(\"my_model\")\n",
        "\n",
        "# Let's check:\n",
        "np.testing.assert_allclose(\n",
        "    model.predict(test_input), reconstructed_model.predict(test_input)\n",
        ")\n",
        "\n",
        "# The reconstructed model is already compiled and has retained the optimizer\n",
        "# state, so training can resume:\n",
        "reconstructed_model.fit(test_input, test_target)\n",
        "\n",
        "\n",
        "\"\"\""
      ],
      "id": "5ba8bd6f",
      "execution_count": null,
      "outputs": []
    },
    {
      "cell_type": "code",
      "metadata": {
        "id": "YR80qSvEr6d7"
      },
      "source": [
        "#model.save(\"/content/drive/MyDrive/my_modelv2\")"
      ],
      "id": "YR80qSvEr6d7",
      "execution_count": null,
      "outputs": []
    },
    {
      "cell_type": "code",
      "metadata": {
        "colab": {
          "base_uri": "https://localhost:8080/",
          "height": 535
        },
        "id": "hXgl8q7T-v7o",
        "outputId": "98f39924-9a9c-4bc4-8b91-fdcf24b5fda2"
      },
      "source": [
        "plt.figure(figsize=(20,10))\n",
        "plt.subplot(1, 2, 1)\n",
        "plt.suptitle('Optimizer : Adam', fontsize=10)\n",
        "plt.ylabel('Loss', fontsize=16)\n",
        "plt.plot(model_fit.history['loss'], label='Training Loss')\n",
        "plt.plot(model_fit.history['val_loss'], label='Validation Loss')\n",
        "plt.legend(loc='upper right')\n",
        "\n",
        "plt.subplot(1, 2, 2)\n",
        "plt.ylabel('Accuracy', fontsize=16)\n",
        "plt.plot(model_fit.history['categorical_accuracy'], label='Training Accuracy')\n",
        "plt.plot(model_fit.history['val_categorical_accuracy'], label='Validation Accuracy')\n",
        "plt.legend(loc='lower right')\n",
        "plt.show()"
      ],
      "id": "hXgl8q7T-v7o",
      "execution_count": null,
      "outputs": [
        {
          "output_type": "display_data",
          "data": {
            "image/png": "[encoded data removed]",
            "text/plain": [
              "<Figure size 1440x720 with 2 Axes>"
            ]
          },
          "metadata": {
            "needs_background": "light"
          }
        }
      ]
    },
    {
      "cell_type": "markdown",
      "metadata": {
        "id": "0f4d4ff3"
      },
      "source": [
        "# testing"
      ],
      "id": "0f4d4ff3"
    },
    {
      "cell_type": "code",
      "metadata": {
        "id": "DwnRLrFAPWnZ"
      },
      "source": [
        "reconstructed_model = keras.models.load_model(\"/content/drive/MyDrive/my_modelv2\")"
      ],
      "id": "DwnRLrFAPWnZ",
      "execution_count": null,
      "outputs": []
    },
    {
      "cell_type": "markdown",
      "metadata": {
        "id": "evgOoQP4cJLe"
      },
      "source": [
        "#test \n",
        "\n",
        "\n",
        "\n",
        "\n"
      ],
      "id": "evgOoQP4cJLe"
    },
    {
      "cell_type": "code",
      "metadata": {
        "id": "SsCiS7Nbfe77"
      },
      "source": [
        "test_dir =\"/content/drive/MyDrive/Final Dataset/testset_occluded\""
      ],
      "id": "SsCiS7Nbfe77",
      "execution_count": null,
      "outputs": []
    },
    {
      "cell_type": "code",
      "metadata": {
        "colab": {
          "base_uri": "https://localhost:8080/"
        },
        "id": "cZXK0Qbvgy73",
        "outputId": "4cf113ea-321f-4a72-d4c3-59bf25cbae06"
      },
      "source": [
        "test_datagen = ImageDataGenerator()\n",
        "\n",
        "test_generator = test_datagen.flow_from_directory(\n",
        "        test_dir,\n",
        "        target_size=(224, 224),\n",
        "        color_mode=\"rgb\",\n",
        "        shuffle = False,\n",
        "        class_mode='categorical',\n",
        "        batch_size=1)\n",
        "\n"
      ],
      "id": "cZXK0Qbvgy73",
      "execution_count": null,
      "outputs": [
        {
          "output_type": "stream",
          "name": "stdout",
          "text": [
            "Found 3626 images belonging to 7 classes.\n"
          ]
        }
      ]
    },
    {
      "cell_type": "code",
      "metadata": {
        "id": "HFuqHPDKr162"
      },
      "source": [
        ""
      ],
      "id": "HFuqHPDKr162",
      "execution_count": null,
      "outputs": []
    },
    {
      "cell_type": "markdown",
      "metadata": {
        "id": "WsnbQKYlr2O5"
      },
      "source": [
        "#accuracy"
      ],
      "id": "WsnbQKYlr2O5"
    },
    {
      "cell_type": "code",
      "metadata": {
        "colab": {
          "base_uri": "https://localhost:8080/"
        },
        "id": "E0VJW7YnkP5W",
        "outputId": "f28c8413-b427-4f61-8a26-922d8a8051da"
      },
      "source": [
        "reconstructed_model.evaluate(test_generator)"
      ],
      "id": "E0VJW7YnkP5W",
      "execution_count": null,
      "outputs": [
        {
          "output_type": "stream",
          "name": "stdout",
          "text": [
            "3626/3626 [==============================] - 653s 180ms/step - loss: 225.8342 - categorical_accuracy: 0.5359\n"
          ]
        },
        {
          "output_type": "execute_result",
          "data": {
            "text/plain": [
              "[225.83421325683594, 0.5358521938323975]"
            ]
          },
          "metadata": {},
          "execution_count": 11
        }
      ]
    },
    {
      "cell_type": "code",
      "source": [
        "training_scores = reconstructed_model.evaluate(generator)\n",
        "print(\"Accuracy = \", training_scores[1])"
      ],
      "metadata": {
        "colab": {
          "base_uri": "https://localhost:8080/"
        },
        "id": "2_ZvxbQL1wox",
        "outputId": "b747fbe2-1900-4f7c-9b44-4bf4c2c0fdbe"
      },
      "id": "2_ZvxbQL1wox",
      "execution_count": null,
      "outputs": [
        {
          "output_type": "stream",
          "name": "stdout",
          "text": [
            "297/297 [==============================] - 1794s 6s/step - loss: 0.3294 - categorical_accuracy: 0.9927\n",
            "Accuracy =  0.9927214980125427\n"
          ]
        }
      ]
    },
    {
      "cell_type": "code",
      "source": [
        "validation_scores = reconstructed_model.evaluate(validation_generator)\n",
        "print(\"Accuracy = \", validation_scores[1])"
      ],
      "metadata": {
        "colab": {
          "base_uri": "https://localhost:8080/"
        },
        "id": "4guhVP7911a9",
        "outputId": "9ed3870c-4410-4dd6-cd1c-cb2c22ce333e"
      },
      "id": "4guhVP7911a9",
      "execution_count": null,
      "outputs": [
        {
          "output_type": "stream",
          "name": "stdout",
          "text": [
            "74/74 [==============================] - 444s 6s/step - loss: 357.6962 - categorical_accuracy: 0.4638\n",
            "Accuracy =  0.4638477861881256\n"
          ]
        }
      ]
    },
    {
      "cell_type": "code",
      "metadata": {
        "colab": {
          "base_uri": "https://localhost:8080/"
        },
        "id": "Dbwuy9g5jDO7",
        "outputId": "1f725d4a-658d-442e-b2c9-880e947b9a15"
      },
      "source": [
        "predict = reconstructed_model.predict(test_generator)\n",
        "y_pred22 = tf.argmax(predict, axis=-1)\n",
        "y_pred22"
      ],
      "id": "Dbwuy9g5jDO7",
      "execution_count": null,
      "outputs": [
        {
          "output_type": "execute_result",
          "data": {
            "text/plain": [
              "<tf.Tensor: shape=(3626,), dtype=int64, numpy=array([6, 6, 6, ..., 6, 6, 5])>"
            ]
          },
          "metadata": {},
          "execution_count": 14
        }
      ]
    },
    {
      "cell_type": "code",
      "source": [
        "y_test = test_generator.classes"
      ],
      "metadata": {
        "id": "kisw9Y1Q3eMb"
      },
      "id": "kisw9Y1Q3eMb",
      "execution_count": null,
      "outputs": []
    },
    {
      "cell_type": "code",
      "source": [
        "classes = ['Surprise', 'Fear', 'Disgust', 'Happy', 'Sad', 'Anger', 'Neutral']"
      ],
      "metadata": {
        "id": "YJ9aMp8uEDSq"
      },
      "id": "YJ9aMp8uEDSq",
      "execution_count": null,
      "outputs": []
    },
    {
      "cell_type": "code",
      "metadata": {
        "colab": {
          "base_uri": "https://localhost:8080/"
        },
        "id": "8vzsi_6TjZDW",
        "outputId": "24efa0d6-85d9-439c-87c8-d0cbb418b9c8"
      },
      "source": [
        "from sklearn.metrics import classification_report\n",
        "\n",
        "print(classification_report(y_test, y_pred22, target_names = classes))"
      ],
      "id": "8vzsi_6TjZDW",
      "execution_count": null,
      "outputs": [
        {
          "output_type": "stream",
          "name": "stdout",
          "text": [
            "              precision    recall  f1-score   support\n",
            "\n",
            "    Surprise       0.60      0.62      0.61       525\n",
            "        Fear       0.62      0.53      0.57       536\n",
            "     Disgust       0.64      0.74      0.68       221\n",
            "       Happy       0.49      0.77      0.60       500\n",
            "         Sad       0.57      0.36      0.44       739\n",
            "       Anger       0.37      0.36      0.36       527\n",
            "     Neutral       0.56      0.57      0.56       578\n",
            "\n",
            "    accuracy                           0.54      3626\n",
            "   macro avg       0.55      0.56      0.55      3626\n",
            "weighted avg       0.54      0.54      0.53      3626\n",
            "\n"
          ]
        }
      ]
    },
    {
      "cell_type": "code",
      "metadata": {
        "colab": {
          "base_uri": "https://localhost:8080/"
        },
        "id": "ONJrjogSnn67",
        "outputId": "f245d0c1-309e-49cb-bb46-71b100ec9a84"
      },
      "source": [
        "from sklearn.metrics import confusion_matrix\n",
        "\n",
        "cm = confusion_matrix(y_test, y_pred22)\n",
        "print('Confusion matrix: \\n{0}'.format(cm))"
      ],
      "id": "ONJrjogSnn67",
      "execution_count": null,
      "outputs": [
        {
          "output_type": "stream",
          "name": "stdout",
          "text": [
            "Confusion matrix: \n",
            "[[326  31  47  46   9  22  44]\n",
            " [ 89 285   4  56  33  33  36]\n",
            " [  8   3 163  24   3  15   5]\n",
            " [ 19  14   5 386  17  28  31]\n",
            " [ 32  62  24 117 265 155  84]\n",
            " [ 38  39   7 110  82 191  60]\n",
            " [ 29  27   6  54  56  79 327]]\n"
          ]
        }
      ]
    },
    {
      "cell_type": "code",
      "metadata": {
        "id": "eJ6H5leloFFR"
      },
      "source": [
        "def plot_confusion_matrix(matrix):\n",
        "    \"\"\"If you prefer color and a colorbar\"\"\"\n",
        "    fig = plt.figure(figsize=(8,8))\n",
        "    ax = fig.add_subplot(111)\n",
        "    cax = ax.matshow(matrix)\n",
        "    fig.colorbar(cax)"
      ],
      "id": "eJ6H5leloFFR",
      "execution_count": null,
      "outputs": []
    },
    {
      "cell_type": "code",
      "source": [
        "import seaborn as sns"
      ],
      "metadata": {
        "id": "7Ig6YRH5Ec7F"
      },
      "id": "7Ig6YRH5Ec7F",
      "execution_count": null,
      "outputs": []
    },
    {
      "cell_type": "code",
      "metadata": {
        "colab": {
          "base_uri": "https://localhost:8080/",
          "height": 295
        },
        "id": "l4X_XMVCoFRZ",
        "outputId": "a25324a7-9496-4318-e6b4-7a56cf8c96e2"
      },
      "source": [
        "ax = plt.subplot()\n",
        "sns.heatmap(cm, annot=True, fmt='g', ax=ax);  #annot=True to annotate cells, ftm='g' to disable scientific notation\n",
        "\n",
        "# labels, title and ticks\n",
        "ax.set_xlabel('Predicted labels');ax.set_ylabel('True labels'); \n",
        "ax.set_title('Confusion Matrix'); \n",
        "ax.xaxis.set_ticklabels(classes); ax.yaxis.set_ticklabels(classes);"
      ],
      "id": "l4X_XMVCoFRZ",
      "execution_count": null,
      "outputs": [
        {
          "output_type": "display_data",
          "data": {
            "image/png": "[encoded data removed]",
            "text/plain": [
              "<Figure size 432x288 with 2 Axes>"
            ]
          },
          "metadata": {
            "needs_background": "light"
          }
        }
      ]
    },
    {
      "cell_type": "code",
      "metadata": {
        "colab": {
          "base_uri": "https://localhost:8080/"
        },
        "id": "c5sFHp30sUs6",
        "outputId": "78dcc8cd-e28a-4015-bc6c-0af0d9659855"
      },
      "source": [
        "missclassifications = []\n",
        "missclassified_images = []\n",
        "for i in range(len(y_pred22)):\n",
        "  if y_pred22[i] != y_test[i]:\n",
        "    missclassifications.append(y_pred22[i])\n",
        "    missclassified_images.append(test_generator[i])\n",
        "print(len(missclassifications))"
      ],
      "id": "c5sFHp30sUs6",
      "execution_count": null,
      "outputs": [
        {
          "output_type": "stream",
          "name": "stdout",
          "text": [
            "1683\n"
          ]
        }
      ]
    },
    {
      "cell_type": "code",
      "metadata": {
        "id": "WFjOtQJLsrmo"
      },
      "source": [
        "(unique, label_counts) = np.unique(missclassifications, return_counts=True)"
      ],
      "id": "WFjOtQJLsrmo",
      "execution_count": null,
      "outputs": []
    },
    {
      "cell_type": "code",
      "metadata": {
        "colab": {
          "base_uri": "https://localhost:8080/",
          "height": 336
        },
        "id": "RjhQC6BrsxpY",
        "outputId": "872e1ddc-9d58-4a71-d6ba-090c71cad36b"
      },
      "source": [
        "fig = plt.figure()\n",
        "ax = fig.add_axes([0,0,1,1])\n",
        "\n",
        "ax.bar(classes,label_counts)\n",
        "plt.show()"
      ],
      "id": "RjhQC6BrsxpY",
      "execution_count": null,
      "outputs": [
        {
          "output_type": "display_data",
          "data": {
            "image/png": "[encoded data removed]",
            "text/plain": [
              "<Figure size 432x288 with 1 Axes>"
            ]
          },
          "metadata": {
            "needs_background": "light"
          }
        }
      ]
    },
    {
      "cell_type": "markdown",
      "metadata": {
        "id": "A6rbVZ5trvz6"
      },
      "source": [
        "https://stackoverflow.com/questions/45806669/how-to-use-predict-generator-with-imagedatagenerator#comment113791242_45814333"
      ],
      "id": "A6rbVZ5trvz6"
    }
  ]
}