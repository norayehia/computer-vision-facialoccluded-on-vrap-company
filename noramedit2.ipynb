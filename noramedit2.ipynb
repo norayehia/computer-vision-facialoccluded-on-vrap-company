{
  "nbformat": 4,
  "nbformat_minor": 0,
  "metadata": {
    "accelerator": "TPU",
    "colab": {
      "name": "noramedit2.ipynb",
      "provenance": [],
      "collapsed_sections": [],
      "include_colab_link": true
    },
    "kernelspec": {
      "display_name": "Python 3",
      "name": "python3"
    },
    "language_info": {
      "name": "python"
    }
  },
  "cells": [
    {
      "cell_type": "markdown",
      "metadata": {
        "id": "view-in-github",
        "colab_type": "text"
      },
      "source": [
        "<a href=\"https://colab.research.google.com/github/norayehia/graduation-facial-occluded-on-vrap-company/blob/main/noramedit2.ipynb\" target=\"_parent\"><img src=\"https://colab.research.google.com/assets/colab-badge.svg\" alt=\"Open In Colab\"/></a>"
      ]
    },
    {
      "cell_type": "code",
      "metadata": {
        "colab": {
          "base_uri": "https://localhost:8080/"
        },
        "id": "qVnwEajALtDZ",
        "outputId": "018e865b-93c9-4d4d-8e49-16d46eaf333e"
      },
      "source": [
        "\n",
        "\n",
        "\n",
        "\n",
        "from google.colab import drive\n",
        "drive.mount('/content/drive/')"
      ],
      "execution_count": null,
      "outputs": [
        {
          "output_type": "stream",
          "name": "stdout",
          "text": [
            "Mounted at /content/drive/\n"
          ]
        }
      ]
    },
    {
      "cell_type": "code",
      "metadata": {
        "colab": {
          "base_uri": "https://localhost:8080/",
          "height": 35
        },
        "id": "axo9CHZI66hk",
        "outputId": "957fdadb-2914-47e5-f7c8-450e2f466611"
      },
      "source": [
        "from tensorflow.keras.models import Model\n",
        "from keras.layers import BatchNormalization\n",
        "from keras.layers import Dropout\n",
        "import tensorflow as tf\n",
        "import tensorflow.keras\n",
        "from tensorflow.keras.models import Model\n",
        "from tensorflow.keras.layers import Dense, Flatten, Conv2D, MaxPooling2D\n",
        "# from tensorflow.keras import backend as K\n",
        "from tensorflow.keras.optimizers import Adam\n",
        "\"\"\"\n",
        "https://colab.research.google.com/drive/1x33KNt_foHfgf9QPbMt1-fmgdjMTajP5?usp=sharing\n",
        "\n",
        "\"\"\""
      ],
      "execution_count": null,
      "outputs": [
        {
          "output_type": "execute_result",
          "data": {
            "application/vnd.google.colaboratory.intrinsic+json": {
              "type": "string"
            },
            "text/plain": [
              "'\\nhttps://colab.research.google.com/drive/1x33KNt_foHfgf9QPbMt1-fmgdjMTajP5?usp=sharing\\n\\n'"
            ]
          },
          "metadata": {},
          "execution_count": 2
        }
      ]
    },
    {
      "cell_type": "code",
      "metadata": {
        "id": "hDrTFPHFyrgI"
      },
      "source": [
        "import cv2\n",
        "import glob\n",
        "import pandas as pd\n",
        "import numpy as np\n",
        "from sklearn.base import TransformerMixin\n",
        "from sklearn.pipeline import Pipeline\n",
        "import tensorflow.compat.v2 as tf\n",
        "from keras import backend as k\n",
        "from keras.applications.mobilenet import MobileNet\n",
        "from keras.applications import imagenet_utils\n",
        "import keras.applications\n",
        "from keras.engine import training\n",
        "from keras.layers import VersionAwareLayers\n",
        "from keras.utils import data_utils\n",
        "from keras.utils import layer_utils\n",
        "from tensorflow.keras.utils import Sequence\n",
        "from tensorflow.python.util.tf_export import keras_export\n",
        "from keras.layers import Dense,GlobalAveragePooling2D\n",
        "from keras.models import Model\n",
        "from keras.layers import Dense\n",
        "from keras.layers import Flatten\n",
        "from tensorflow.keras.preprocessing.image import ImageDataGenerator\n",
        "from keras.callbacks import CSVLogger\n",
        "from sklearn.metrics import classification_report\n",
        "import seaborn as sns\n",
        "import matplotlib.pyplot as plt\n",
        "from google.colab.patches import cv2_imshow\n",
        "from tensorflow.python.keras import regularizers\n",
        "%matplotlib inline"
      ],
      "execution_count": null,
      "outputs": []
    },
    {
      "cell_type": "code",
      "metadata": {
        "colab": {
          "base_uri": "https://localhost:8080/"
        },
        "id": "F5-EMIBk4xkQ",
        "outputId": "947df098-ae32-4bfb-8ef2-7c20fbb97e80"
      },
      "source": [
        "tensorflow.keras.regularizers.l1(0.)\n",
        "tensorflow.keras.regularizers.l2(0.)\n",
        "tensorflow.keras.regularizers.l1_l2(l1=0.01, l2=0.01)\n"
      ],
      "execution_count": null,
      "outputs": [
        {
          "output_type": "execute_result",
          "data": {
            "text/plain": [
              "<keras.regularizers.L1L2 at 0x7f4f2654a8d0>"
            ]
          },
          "metadata": {},
          "execution_count": 4
        }
      ]
    },
    {
      "cell_type": "markdown",
      "metadata": {
        "id": "zfSYGYL3jsDD"
      },
      "source": [
        "## Implementing Data Generators"
      ]
    },
    {
      "cell_type": "code",
      "metadata": {
        "id": "4K1DePxmnfek"
      },
      "source": [
        "trainpath = \"/content/drive/MyDrive/graduation2/graduation/Final Dataset/trainset_occluded\"\n"
      ],
      "execution_count": null,
      "outputs": []
    },
    {
      "cell_type": "code",
      "metadata": {
        "id": "pKMnwqllrRSc"
      },
      "source": [
        "testpath = \"/content/drive/MyDrive/graduation2/graduation/Final Dataset/testset_occluded\"\n"
      ],
      "execution_count": null,
      "outputs": []
    },
    {
      "cell_type": "code",
      "metadata": {
        "id": "Y2xCE2Wg8gei"
      },
      "source": [
        "preprocess_input= tf.keras.applications.mobilenet.preprocess_input"
      ],
      "execution_count": null,
      "outputs": []
    },
    {
      "cell_type": "code",
      "metadata": {
        "id": "eljx3f7RtPW7"
      },
      "source": [
        "test_datagen = ImageDataGenerator(preprocessing_function=preprocess_input)"
      ],
      "execution_count": null,
      "outputs": []
    },
    {
      "cell_type": "code",
      "metadata": {
        "colab": {
          "base_uri": "https://localhost:8080/"
        },
        "id": "YFyDuTFyroY5",
        "outputId": "3457a5fb-2ea6-4efd-e045-368a9a09c481"
      },
      "source": [
        "test_generator = test_datagen.flow_from_directory(testpath, target_size=(224, 224), batch_size=32, class_mode='categorical',shuffle=False)"
      ],
      "execution_count": null,
      "outputs": [
        {
          "output_type": "stream",
          "name": "stdout",
          "text": [
            "Found 3626 images belonging to 7 classes.\n"
          ]
        }
      ]
    },
    {
      "cell_type": "code",
      "metadata": {
        "colab": {
          "base_uri": "https://localhost:8080/"
        },
        "id": "6Jzm1OGAh1bK",
        "outputId": "c3afb21f-0029-4993-f429-2e1458d13b4a"
      },
      "source": [
        "datagen = ImageDataGenerator(preprocessing_function=preprocess_input, validation_split=0.2)\n",
        "generator = datagen.flow_from_directory(trainpath, target_size=(224, 224), batch_size=32, class_mode='categorical', subset='training')\n",
        "validation_generator = datagen.flow_from_directory(trainpath, # same directory as training data\n",
        "    target_size=(224, 224), batch_size=32, class_mode='categorical', subset='validation') # set as validation data"
      ],
      "execution_count": null,
      "outputs": [
        {
          "output_type": "stream",
          "name": "stdout",
          "text": [
            "Found 9480 images belonging to 7 classes.\n",
            "Found 2365 images belonging to 7 classes.\n"
          ]
        }
      ]
    },
    {
      "cell_type": "code",
      "metadata": {
        "id": "HLNPV6A7BsTI"
      },
      "source": [
        "k.clear_session()\n",
        "\n",
        "new_input = keras.Input(shape=(224, 224, 3))"
      ],
      "execution_count": null,
      "outputs": []
    },
    {
      "cell_type": "markdown",
      "metadata": {
        "id": "4A0rXYHR_NKk"
      },
      "source": [
        "#call model add regrization with  dropout\n",
        "https://www.machinecurve.com/index.php/2020/01/23/how-to-use-l1-l2-and-elastic-net-regularization-with-keras/"
      ]
    },
    {
      "cell_type": "code",
      "metadata": {
        "id": "Lo-Gtn8rwlra"
      },
      "source": [
        "base_model=MobileNet(input_shape=(224, 224, 3), include_top=False) #imports the mobilenet model and discards the last 1000 neuron layer.\n",
        "x=base_model.output\n",
        "x=GlobalAveragePooling2D()(x)\n",
        "x=Dense(512,activation='relu',activity_regularizer=regularizers.l1(0.01))(x) #we add dense layers so that the model can learn more complex functions and classify for better results.\n",
        "x = Dropout(0.25)(x)\n",
        "preds=Dense(7,activation='softmax',activity_regularizer=regularizers.l1(0.01))(x) #final layer with softmax activation"
      ],
      "execution_count": null,
      "outputs": []
    },
    {
      "cell_type": "code",
      "metadata": {
        "colab": {
          "base_uri": "https://localhost:8080/"
        },
        "id": "wGayVKaX0YwA",
        "outputId": "7e7e7f79-4789-4538-f123-05ca1995723d"
      },
      "source": [
        "model = Model(inputs=base_model.inputs, outputs=preds)\n",
        "\n",
        "model.summary()"
      ],
      "execution_count": null,
      "outputs": [
        {
          "name": "stdout",
          "output_type": "stream",
          "text": [
            "Model: \"model\"\n",
            "_________________________________________________________________\n",
            " Layer (type)                Output Shape              Param #   \n",
            "=================================================================\n",
            " input_2 (InputLayer)        [(None, 224, 224, 3)]     0         \n",
            "                                                                 \n",
            " conv1 (Conv2D)              (None, 112, 112, 32)      864       \n",
            "                                                                 \n",
            " conv1_bn (BatchNormalizatio  (None, 112, 112, 32)     128       \n",
            " n)                                                              \n",
            "                                                                 \n",
            " conv1_relu (ReLU)           (None, 112, 112, 32)      0         \n",
            "                                                                 \n",
            " conv_dw_1 (DepthwiseConv2D)  (None, 112, 112, 32)     288       \n",
            "                                                                 \n",
            " conv_dw_1_bn (BatchNormaliz  (None, 112, 112, 32)     128       \n",
            " ation)                                                          \n",
            "                                                                 \n",
            " conv_dw_1_relu (ReLU)       (None, 112, 112, 32)      0         \n",
            "                                                                 \n",
            " conv_pw_1 (Conv2D)          (None, 112, 112, 64)      2048      \n",
            "                                                                 \n",
            " conv_pw_1_bn (BatchNormaliz  (None, 112, 112, 64)     256       \n",
            " ation)                                                          \n",
            "                                                                 \n",
            " conv_pw_1_relu (ReLU)       (None, 112, 112, 64)      0         \n",
            "                                                                 \n",
            " conv_pad_2 (ZeroPadding2D)  (None, 113, 113, 64)      0         \n",
            "                                                                 \n",
            " conv_dw_2 (DepthwiseConv2D)  (None, 56, 56, 64)       576       \n",
            "                                                                 \n",
            " conv_dw_2_bn (BatchNormaliz  (None, 56, 56, 64)       256       \n",
            " ation)                                                          \n",
            "                                                                 \n",
            " conv_dw_2_relu (ReLU)       (None, 56, 56, 64)        0         \n",
            "                                                                 \n",
            " conv_pw_2 (Conv2D)          (None, 56, 56, 128)       8192      \n",
            "                                                                 \n",
            " conv_pw_2_bn (BatchNormaliz  (None, 56, 56, 128)      512       \n",
            " ation)                                                          \n",
            "                                                                 \n",
            " conv_pw_2_relu (ReLU)       (None, 56, 56, 128)       0         \n",
            "                                                                 \n",
            " conv_dw_3 (DepthwiseConv2D)  (None, 56, 56, 128)      1152      \n",
            "                                                                 \n",
            " conv_dw_3_bn (BatchNormaliz  (None, 56, 56, 128)      512       \n",
            " ation)                                                          \n",
            "                                                                 \n",
            " conv_dw_3_relu (ReLU)       (None, 56, 56, 128)       0         \n",
            "                                                                 \n",
            " conv_pw_3 (Conv2D)          (None, 56, 56, 128)       16384     \n",
            "                                                                 \n",
            " conv_pw_3_bn (BatchNormaliz  (None, 56, 56, 128)      512       \n",
            " ation)                                                          \n",
            "                                                                 \n",
            " conv_pw_3_relu (ReLU)       (None, 56, 56, 128)       0         \n",
            "                                                                 \n",
            " conv_pad_4 (ZeroPadding2D)  (None, 57, 57, 128)       0         \n",
            "                                                                 \n",
            " conv_dw_4 (DepthwiseConv2D)  (None, 28, 28, 128)      1152      \n",
            "                                                                 \n",
            " conv_dw_4_bn (BatchNormaliz  (None, 28, 28, 128)      512       \n",
            " ation)                                                          \n",
            "                                                                 \n",
            " conv_dw_4_relu (ReLU)       (None, 28, 28, 128)       0         \n",
            "                                                                 \n",
            " conv_pw_4 (Conv2D)          (None, 28, 28, 256)       32768     \n",
            "                                                                 \n",
            " conv_pw_4_bn (BatchNormaliz  (None, 28, 28, 256)      1024      \n",
            " ation)                                                          \n",
            "                                                                 \n",
            " conv_pw_4_relu (ReLU)       (None, 28, 28, 256)       0         \n",
            "                                                                 \n",
            " conv_dw_5 (DepthwiseConv2D)  (None, 28, 28, 256)      2304      \n",
            "                                                                 \n",
            " conv_dw_5_bn (BatchNormaliz  (None, 28, 28, 256)      1024      \n",
            " ation)                                                          \n",
            "                                                                 \n",
            " conv_dw_5_relu (ReLU)       (None, 28, 28, 256)       0         \n",
            "                                                                 \n",
            " conv_pw_5 (Conv2D)          (None, 28, 28, 256)       65536     \n",
            "                                                                 \n",
            " conv_pw_5_bn (BatchNormaliz  (None, 28, 28, 256)      1024      \n",
            " ation)                                                          \n",
            "                                                                 \n",
            " conv_pw_5_relu (ReLU)       (None, 28, 28, 256)       0         \n",
            "                                                                 \n",
            " conv_pad_6 (ZeroPadding2D)  (None, 29, 29, 256)       0         \n",
            "                                                                 \n",
            " conv_dw_6 (DepthwiseConv2D)  (None, 14, 14, 256)      2304      \n",
            "                                                                 \n",
            " conv_dw_6_bn (BatchNormaliz  (None, 14, 14, 256)      1024      \n",
            " ation)                                                          \n",
            "                                                                 \n",
            " conv_dw_6_relu (ReLU)       (None, 14, 14, 256)       0         \n",
            "                                                                 \n",
            " conv_pw_6 (Conv2D)          (None, 14, 14, 512)       131072    \n",
            "                                                                 \n",
            " conv_pw_6_bn (BatchNormaliz  (None, 14, 14, 512)      2048      \n",
            " ation)                                                          \n",
            "                                                                 \n",
            " conv_pw_6_relu (ReLU)       (None, 14, 14, 512)       0         \n",
            "                                                                 \n",
            " conv_dw_7 (DepthwiseConv2D)  (None, 14, 14, 512)      4608      \n",
            "                                                                 \n",
            " conv_dw_7_bn (BatchNormaliz  (None, 14, 14, 512)      2048      \n",
            " ation)                                                          \n",
            "                                                                 \n",
            " conv_dw_7_relu (ReLU)       (None, 14, 14, 512)       0         \n",
            "                                                                 \n",
            " conv_pw_7 (Conv2D)          (None, 14, 14, 512)       262144    \n",
            "                                                                 \n",
            " conv_pw_7_bn (BatchNormaliz  (None, 14, 14, 512)      2048      \n",
            " ation)                                                          \n",
            "                                                                 \n",
            " conv_pw_7_relu (ReLU)       (None, 14, 14, 512)       0         \n",
            "                                                                 \n",
            " conv_dw_8 (DepthwiseConv2D)  (None, 14, 14, 512)      4608      \n",
            "                                                                 \n",
            " conv_dw_8_bn (BatchNormaliz  (None, 14, 14, 512)      2048      \n",
            " ation)                                                          \n",
            "                                                                 \n",
            " conv_dw_8_relu (ReLU)       (None, 14, 14, 512)       0         \n",
            "                                                                 \n",
            " conv_pw_8 (Conv2D)          (None, 14, 14, 512)       262144    \n",
            "                                                                 \n",
            " conv_pw_8_bn (BatchNormaliz  (None, 14, 14, 512)      2048      \n",
            " ation)                                                          \n",
            "                                                                 \n",
            " conv_pw_8_relu (ReLU)       (None, 14, 14, 512)       0         \n",
            "                                                                 \n",
            " conv_dw_9 (DepthwiseConv2D)  (None, 14, 14, 512)      4608      \n",
            "                                                                 \n",
            " conv_dw_9_bn (BatchNormaliz  (None, 14, 14, 512)      2048      \n",
            " ation)                                                          \n",
            "                                                                 \n",
            " conv_dw_9_relu (ReLU)       (None, 14, 14, 512)       0         \n",
            "                                                                 \n",
            " conv_pw_9 (Conv2D)          (None, 14, 14, 512)       262144    \n",
            "                                                                 \n",
            " conv_pw_9_bn (BatchNormaliz  (None, 14, 14, 512)      2048      \n",
            " ation)                                                          \n",
            "                                                                 \n",
            " conv_pw_9_relu (ReLU)       (None, 14, 14, 512)       0         \n",
            "                                                                 \n",
            " conv_dw_10 (DepthwiseConv2D  (None, 14, 14, 512)      4608      \n",
            " )                                                               \n",
            "                                                                 \n",
            " conv_dw_10_bn (BatchNormali  (None, 14, 14, 512)      2048      \n",
            " zation)                                                         \n",
            "                                                                 \n",
            " conv_dw_10_relu (ReLU)      (None, 14, 14, 512)       0         \n",
            "                                                                 \n",
            " conv_pw_10 (Conv2D)         (None, 14, 14, 512)       262144    \n",
            "                                                                 \n",
            " conv_pw_10_bn (BatchNormali  (None, 14, 14, 512)      2048      \n",
            " zation)                                                         \n",
            "                                                                 \n",
            " conv_pw_10_relu (ReLU)      (None, 14, 14, 512)       0         \n",
            "                                                                 \n",
            " conv_dw_11 (DepthwiseConv2D  (None, 14, 14, 512)      4608      \n",
            " )                                                               \n",
            "                                                                 \n",
            " conv_dw_11_bn (BatchNormali  (None, 14, 14, 512)      2048      \n",
            " zation)                                                         \n",
            "                                                                 \n",
            " conv_dw_11_relu (ReLU)      (None, 14, 14, 512)       0         \n",
            "                                                                 \n",
            " conv_pw_11 (Conv2D)         (None, 14, 14, 512)       262144    \n",
            "                                                                 \n",
            " conv_pw_11_bn (BatchNormali  (None, 14, 14, 512)      2048      \n",
            " zation)                                                         \n",
            "                                                                 \n",
            " conv_pw_11_relu (ReLU)      (None, 14, 14, 512)       0         \n",
            "                                                                 \n",
            " conv_pad_12 (ZeroPadding2D)  (None, 15, 15, 512)      0         \n",
            "                                                                 \n",
            " conv_dw_12 (DepthwiseConv2D  (None, 7, 7, 512)        4608      \n",
            " )                                                               \n",
            "                                                                 \n",
            " conv_dw_12_bn (BatchNormali  (None, 7, 7, 512)        2048      \n",
            " zation)                                                         \n",
            "                                                                 \n",
            " conv_dw_12_relu (ReLU)      (None, 7, 7, 512)         0         \n",
            "                                                                 \n",
            " conv_pw_12 (Conv2D)         (None, 7, 7, 1024)        524288    \n",
            "                                                                 \n",
            " conv_pw_12_bn (BatchNormali  (None, 7, 7, 1024)       4096      \n",
            " zation)                                                         \n",
            "                                                                 \n",
            " conv_pw_12_relu (ReLU)      (None, 7, 7, 1024)        0         \n",
            "                                                                 \n",
            " conv_dw_13 (DepthwiseConv2D  (None, 7, 7, 1024)       9216      \n",
            " )                                                               \n",
            "                                                                 \n",
            " conv_dw_13_bn (BatchNormali  (None, 7, 7, 1024)       4096      \n",
            " zation)                                                         \n",
            "                                                                 \n",
            " conv_dw_13_relu (ReLU)      (None, 7, 7, 1024)        0         \n",
            "                                                                 \n",
            " conv_pw_13 (Conv2D)         (None, 7, 7, 1024)        1048576   \n",
            "                                                                 \n",
            " conv_pw_13_bn (BatchNormali  (None, 7, 7, 1024)       4096      \n",
            " zation)                                                         \n",
            "                                                                 \n",
            " conv_pw_13_relu (ReLU)      (None, 7, 7, 1024)        0         \n",
            "                                                                 \n",
            " global_average_pooling2d (G  (None, 1024)             0         \n",
            " lobalAveragePooling2D)                                          \n",
            "                                                                 \n",
            " dense (Dense)               (None, 512)               524800    \n",
            "                                                                 \n",
            " dropout (Dropout)           (None, 512)               0         \n",
            "                                                                 \n",
            " dense_1 (Dense)             (None, 7)                 3591      \n",
            "                                                                 \n",
            "=================================================================\n",
            "Total params: 3,757,255\n",
            "Trainable params: 3,735,367\n",
            "Non-trainable params: 21,888\n",
            "_________________________________________________________________\n"
          ]
        }
      ]
    },
    {
      "cell_type": "code",
      "metadata": {
        "colab": {
          "base_uri": "https://localhost:8080/"
        },
        "id": "5_T4nXzD7YkI",
        "outputId": "d6e3e13f-7bea-4766-c434-8d1ee1ad82ee"
      },
      "source": [
        "len(model.layers)"
      ],
      "execution_count": null,
      "outputs": [
        {
          "data": {
            "text/plain": [
              "90"
            ]
          },
          "execution_count": 15,
          "metadata": {},
          "output_type": "execute_result"
        }
      ]
    },
    {
      "cell_type": "code",
      "metadata": {
        "id": "U5ipaZYpM6CF"
      },
      "source": [
        "for layer in model.layers:\n",
        "\tlayer.trainable = False"
      ],
      "execution_count": null,
      "outputs": []
    },
    {
      "cell_type": "code",
      "metadata": {
        "id": "mNPEbM6U7qW-"
      },
      "source": [
        "for layer in model.layers[74:]:\n",
        "\tlayer.trainable = True"
      ],
      "execution_count": null,
      "outputs": []
    },
    {
      "cell_type": "code",
      "metadata": {
        "id": "B3YhjeokM-yW"
      },
      "source": [
        "\n",
        "model.compile(optimizer=Adam(learning_rate=5e-3), loss=keras.losses.CategoricalCrossentropy(),\n",
        "              metrics=[keras.metrics.CategoricalAccuracy()])\n"
      ],
      "execution_count": null,
      "outputs": []
    },
    {
      "cell_type": "code",
      "metadata": {
        "colab": {
          "background_save": true,
          "base_uri": "https://localhost:8080/"
        },
        "id": "LT5Fkz-8xmC_",
        "outputId": "cb8b8782-0d2d-4a27-efa7-06af88724d47"
      },
      "source": [
        "version = 50\n",
        "epoch = 20\n",
        "histories = []\n",
        "\n",
        "for i in range(5):\n",
        "  csv_logger = CSVLogger('/content/drive/MyDrive/graduation3/runedit2/history' + str(epoch * (i + 1)) + '.log', separator=',', append=False)\n",
        "  history = model.fit(generator, validation_data = validation_generator, epochs = epoch, callbacks = [csv_logger])\n",
        "  histories.append(history)\n",
        "  model.save('/content/drive/MyDrive/graduation3/runedit2/history' + 'MobileNet.' + str(epoch * (i + 1)))"
      ],
      "execution_count": null,
      "outputs": [
        {
          "name": "stdout",
          "output_type": "stream",
          "text": [
            "Epoch 1/20\n",
            "297/297 [==============================] - 7874s 26s/step - loss: 1.4035 - categorical_accuracy: 0.5491 - val_loss: 1.8794 - val_categorical_accuracy: 0.2414\n",
            "Epoch 2/20\n",
            "297/297 [==============================] - 52s 176ms/step - loss: 1.1680 - categorical_accuracy: 0.6204 - val_loss: 2.7843 - val_categorical_accuracy: 0.3061\n",
            "Epoch 3/20\n",
            "297/297 [==============================] - 52s 176ms/step - loss: 1.0780 - categorical_accuracy: 0.6494 - val_loss: 1.8968 - val_categorical_accuracy: 0.3488\n",
            "Epoch 4/20\n",
            "297/297 [==============================] - 52s 174ms/step - loss: 0.9964 - categorical_accuracy: 0.6755 - val_loss: 2.1424 - val_categorical_accuracy: 0.4118\n",
            "Epoch 5/20\n",
            "297/297 [==============================] - 51s 173ms/step - loss: 0.9383 - categorical_accuracy: 0.7068 - val_loss: 2.2855 - val_categorical_accuracy: 0.3818\n",
            "Epoch 6/20\n",
            "297/297 [==============================] - 51s 173ms/step - loss: 0.8572 - categorical_accuracy: 0.7348 - val_loss: 2.1038 - val_categorical_accuracy: 0.3184\n",
            "Epoch 7/20\n",
            "297/297 [==============================] - 51s 173ms/step - loss: 0.7951 - categorical_accuracy: 0.7566 - val_loss: 3.7992 - val_categorical_accuracy: 0.2634\n",
            "Epoch 8/20\n",
            "297/297 [==============================] - 51s 173ms/step - loss: 0.7186 - categorical_accuracy: 0.7839 - val_loss: 1.6578 - val_categorical_accuracy: 0.4541\n",
            "Epoch 9/20\n",
            "297/297 [==============================] - 52s 173ms/step - loss: 0.6449 - categorical_accuracy: 0.8155 - val_loss: 1.5039 - val_categorical_accuracy: 0.4896\n",
            "Epoch 10/20\n",
            "297/297 [==============================] - 51s 172ms/step - loss: 0.5947 - categorical_accuracy: 0.8295 - val_loss: 1.8382 - val_categorical_accuracy: 0.5175\n",
            "Epoch 11/20\n",
            "297/297 [==============================] - 51s 170ms/step - loss: 0.5316 - categorical_accuracy: 0.8554 - val_loss: 1.9775 - val_categorical_accuracy: 0.5091\n",
            "Epoch 12/20\n",
            "297/297 [==============================] - 50s 170ms/step - loss: 0.4916 - categorical_accuracy: 0.8645 - val_loss: 3.2380 - val_categorical_accuracy: 0.4448\n",
            "Epoch 13/20\n",
            "297/297 [==============================] - 51s 171ms/step - loss: 0.4212 - categorical_accuracy: 0.8895 - val_loss: 2.0482 - val_categorical_accuracy: 0.4833\n",
            "Epoch 14/20\n",
            "297/297 [==============================] - 52s 174ms/step - loss: 0.4199 - categorical_accuracy: 0.8852 - val_loss: 2.0640 - val_categorical_accuracy: 0.5091\n",
            "Epoch 15/20\n",
            "297/297 [==============================] - 51s 173ms/step - loss: 0.3539 - categorical_accuracy: 0.9124 - val_loss: 2.7998 - val_categorical_accuracy: 0.4486\n",
            "Epoch 16/20\n",
            "297/297 [==============================] - 51s 173ms/step - loss: 0.3310 - categorical_accuracy: 0.9197 - val_loss: 1.9852 - val_categorical_accuracy: 0.5150\n",
            "Epoch 17/20\n",
            "297/297 [==============================] - 51s 173ms/step - loss: 0.3121 - categorical_accuracy: 0.9241 - val_loss: 2.2543 - val_categorical_accuracy: 0.5036\n",
            "Epoch 18/20\n",
            "297/297 [==============================] - 51s 172ms/step - loss: 0.2928 - categorical_accuracy: 0.9334 - val_loss: 3.2535 - val_categorical_accuracy: 0.4372\n",
            "Epoch 19/20\n",
            "297/297 [==============================] - 51s 172ms/step - loss: 0.2995 - categorical_accuracy: 0.9284 - val_loss: 2.2074 - val_categorical_accuracy: 0.5446\n",
            "Epoch 20/20\n",
            "297/297 [==============================] - 51s 172ms/step - loss: 0.2515 - categorical_accuracy: 0.9442 - val_loss: 2.5993 - val_categorical_accuracy: 0.4727\n",
            "INFO:tensorflow:Assets written to: /content/drive/MyDrive/graduation3/runedit2/historyMobileNet.20/assets\n",
            "Epoch 1/20\n",
            "297/297 [==============================] - 52s 175ms/step - loss: 0.2147 - categorical_accuracy: 0.9544 - val_loss: 2.2616 - val_categorical_accuracy: 0.5539\n",
            "Epoch 2/20\n",
            "297/297 [==============================] - 51s 173ms/step - loss: 0.2482 - categorical_accuracy: 0.9467 - val_loss: 2.3072 - val_categorical_accuracy: 0.5340\n",
            "Epoch 3/20\n",
            "297/297 [==============================] - 51s 172ms/step - loss: 0.2071 - categorical_accuracy: 0.9560 - val_loss: 2.2955 - val_categorical_accuracy: 0.5201\n",
            "Epoch 4/20\n",
            "297/297 [==============================] - 51s 171ms/step - loss: 0.2283 - categorical_accuracy: 0.9505 - val_loss: 2.5376 - val_categorical_accuracy: 0.5121\n",
            "Epoch 5/20\n",
            "297/297 [==============================] - 51s 171ms/step - loss: 0.2014 - categorical_accuracy: 0.9564 - val_loss: 1.9169 - val_categorical_accuracy: 0.5484\n",
            "Epoch 6/20\n",
            "297/297 [==============================] - 51s 171ms/step - loss: 0.2116 - categorical_accuracy: 0.9560 - val_loss: 3.9410 - val_categorical_accuracy: 0.4867\n",
            "Epoch 7/20\n",
            "297/297 [==============================] - 51s 172ms/step - loss: 0.1944 - categorical_accuracy: 0.9594 - val_loss: 6.6156 - val_categorical_accuracy: 0.3624\n",
            "Epoch 8/20\n",
            "297/297 [==============================] - 51s 171ms/step - loss: 0.1988 - categorical_accuracy: 0.9593 - val_loss: 2.2431 - val_categorical_accuracy: 0.5987\n",
            "Epoch 9/20\n",
            "297/297 [==============================] - 51s 170ms/step - loss: 0.1793 - categorical_accuracy: 0.9652 - val_loss: 2.3034 - val_categorical_accuracy: 0.5180\n",
            "Epoch 10/20\n",
            "297/297 [==============================] - 50s 170ms/step - loss: 0.1588 - categorical_accuracy: 0.9692 - val_loss: 2.4793 - val_categorical_accuracy: 0.5112\n",
            "Epoch 11/20\n",
            "297/297 [==============================] - 50s 168ms/step - loss: 0.1555 - categorical_accuracy: 0.9714 - val_loss: 3.2659 - val_categorical_accuracy: 0.4655\n",
            "Epoch 12/20\n",
            "297/297 [==============================] - 50s 169ms/step - loss: 0.1641 - categorical_accuracy: 0.9704 - val_loss: 2.1327 - val_categorical_accuracy: 0.5391\n",
            "Epoch 13/20\n",
            "297/297 [==============================] - 50s 170ms/step - loss: 0.2051 - categorical_accuracy: 0.9584 - val_loss: 2.9065 - val_categorical_accuracy: 0.5053\n",
            "Epoch 14/20\n",
            "297/297 [==============================] - 50s 168ms/step - loss: 0.1861 - categorical_accuracy: 0.9620 - val_loss: 2.0894 - val_categorical_accuracy: 0.5763\n",
            "Epoch 15/20\n",
            "297/297 [==============================] - 50s 169ms/step - loss: 0.1547 - categorical_accuracy: 0.9730 - val_loss: 2.2503 - val_categorical_accuracy: 0.5590\n",
            "Epoch 16/20\n",
            "297/297 [==============================] - 50s 169ms/step - loss: 0.1590 - categorical_accuracy: 0.9710 - val_loss: 4.4703 - val_categorical_accuracy: 0.5011\n",
            "Epoch 17/20\n",
            "297/297 [==============================] - 50s 169ms/step - loss: 0.1460 - categorical_accuracy: 0.9735 - val_loss: 2.6256 - val_categorical_accuracy: 0.5691\n",
            "Epoch 18/20\n",
            "297/297 [==============================] - 50s 168ms/step - loss: 0.1299 - categorical_accuracy: 0.9773 - val_loss: 2.5392 - val_categorical_accuracy: 0.5624\n",
            "Epoch 19/20\n",
            "297/297 [==============================] - 51s 170ms/step - loss: 0.1195 - categorical_accuracy: 0.9803 - val_loss: 2.9770 - val_categorical_accuracy: 0.5476\n",
            "Epoch 20/20\n",
            "297/297 [==============================] - 52s 174ms/step - loss: 0.1583 - categorical_accuracy: 0.9682 - val_loss: 2.2302 - val_categorical_accuracy: 0.5653\n",
            "INFO:tensorflow:Assets written to: /content/drive/MyDrive/graduation3/runedit2/historyMobileNet.40/assets\n",
            "Epoch 1/20\n",
            "297/297 [==============================] - 53s 179ms/step - loss: 0.1363 - categorical_accuracy: 0.9763 - val_loss: 2.2012 - val_categorical_accuracy: 0.5619\n",
            "Epoch 2/20\n",
            "297/297 [==============================] - 53s 177ms/step - loss: 0.1431 - categorical_accuracy: 0.9724 - val_loss: 2.6189 - val_categorical_accuracy: 0.5032\n",
            "Epoch 3/20\n",
            "297/297 [==============================] - 53s 177ms/step - loss: 0.1452 - categorical_accuracy: 0.9729 - val_loss: 2.6272 - val_categorical_accuracy: 0.5548\n",
            "Epoch 4/20\n",
            "297/297 [==============================] - 53s 177ms/step - loss: 0.1468 - categorical_accuracy: 0.9719 - val_loss: 2.7801 - val_categorical_accuracy: 0.5239\n",
            "Epoch 5/20\n",
            "297/297 [==============================] - 53s 179ms/step - loss: 0.1326 - categorical_accuracy: 0.9749 - val_loss: 2.6749 - val_categorical_accuracy: 0.5332\n",
            "Epoch 6/20\n",
            "297/297 [==============================] - 52s 177ms/step - loss: 0.1540 - categorical_accuracy: 0.9691 - val_loss: 2.2255 - val_categorical_accuracy: 0.5501\n",
            "Epoch 7/20\n",
            "297/297 [==============================] - 52s 176ms/step - loss: 0.1569 - categorical_accuracy: 0.9691 - val_loss: 2.5797 - val_categorical_accuracy: 0.5751\n",
            "Epoch 8/20\n",
            "297/297 [==============================] - 52s 176ms/step - loss: 0.1248 - categorical_accuracy: 0.9785 - val_loss: 2.6056 - val_categorical_accuracy: 0.5180\n",
            "Epoch 9/20\n",
            "297/297 [==============================] - 52s 176ms/step - loss: 0.1203 - categorical_accuracy: 0.9793 - val_loss: 2.9861 - val_categorical_accuracy: 0.5594\n",
            "Epoch 10/20\n",
            "297/297 [==============================] - 53s 177ms/step - loss: 0.1130 - categorical_accuracy: 0.9803 - val_loss: 2.3092 - val_categorical_accuracy: 0.5548\n",
            "Epoch 11/20\n",
            "297/297 [==============================] - 52s 176ms/step - loss: 0.1233 - categorical_accuracy: 0.9800 - val_loss: 2.6827 - val_categorical_accuracy: 0.5323\n",
            "Epoch 12/20\n",
            "297/297 [==============================] - 52s 176ms/step - loss: 0.1144 - categorical_accuracy: 0.9807 - val_loss: 2.5159 - val_categorical_accuracy: 0.5522\n",
            "Epoch 13/20\n",
            "297/297 [==============================] - 52s 175ms/step - loss: 0.1248 - categorical_accuracy: 0.9756 - val_loss: 2.3245 - val_categorical_accuracy: 0.5467\n",
            "Epoch 14/20\n",
            "297/297 [==============================] - 52s 175ms/step - loss: 0.1406 - categorical_accuracy: 0.9748 - val_loss: 2.6579 - val_categorical_accuracy: 0.5459\n",
            "Epoch 15/20\n",
            "297/297 [==============================] - 52s 176ms/step - loss: 0.1313 - categorical_accuracy: 0.9771 - val_loss: 2.1736 - val_categorical_accuracy: 0.5789\n",
            "Epoch 16/20\n",
            "297/297 [==============================] - 52s 176ms/step - loss: 0.1086 - categorical_accuracy: 0.9809 - val_loss: 1.9549 - val_categorical_accuracy: 0.5911\n",
            "Epoch 17/20\n",
            "297/297 [==============================] - 52s 175ms/step - loss: 0.1111 - categorical_accuracy: 0.9819 - val_loss: 2.2691 - val_categorical_accuracy: 0.5856\n",
            "Epoch 18/20\n",
            "297/297 [==============================] - 52s 174ms/step - loss: 0.1067 - categorical_accuracy: 0.9828 - val_loss: 2.3377 - val_categorical_accuracy: 0.5662\n",
            "Epoch 19/20\n",
            "297/297 [==============================] - 52s 175ms/step - loss: 0.1106 - categorical_accuracy: 0.9827 - val_loss: 2.4769 - val_categorical_accuracy: 0.5476\n",
            "Epoch 20/20\n",
            "297/297 [==============================] - 52s 176ms/step - loss: 0.1270 - categorical_accuracy: 0.9763 - val_loss: 2.9004 - val_categorical_accuracy: 0.5450\n",
            "INFO:tensorflow:Assets written to: /content/drive/MyDrive/graduation3/runedit2/historyMobileNet.60/assets\n",
            "Epoch 1/20\n",
            "297/297 [==============================] - 53s 178ms/step - loss: 0.1160 - categorical_accuracy: 0.9784 - val_loss: 3.2364 - val_categorical_accuracy: 0.5137\n",
            "Epoch 2/20\n",
            "297/297 [==============================] - 52s 177ms/step - loss: 0.1067 - categorical_accuracy: 0.9832 - val_loss: 2.6926 - val_categorical_accuracy: 0.5564\n",
            "Epoch 3/20\n",
            "297/297 [==============================] - 52s 176ms/step - loss: 0.1480 - categorical_accuracy: 0.9714 - val_loss: 2.3609 - val_categorical_accuracy: 0.5455\n",
            "Epoch 4/20\n",
            "297/297 [==============================] - 52s 175ms/step - loss: 0.1218 - categorical_accuracy: 0.9795 - val_loss: 1.9679 - val_categorical_accuracy: 0.6004\n",
            "Epoch 5/20\n",
            "297/297 [==============================] - 52s 176ms/step - loss: 0.0937 - categorical_accuracy: 0.9854 - val_loss: 1.9628 - val_categorical_accuracy: 0.6047\n",
            "Epoch 6/20\n",
            "297/297 [==============================] - 52s 175ms/step - loss: 0.1184 - categorical_accuracy: 0.9790 - val_loss: 2.5598 - val_categorical_accuracy: 0.5670\n",
            "Epoch 7/20\n",
            "297/297 [==============================] - 53s 178ms/step - loss: 0.1167 - categorical_accuracy: 0.9787 - val_loss: 3.0257 - val_categorical_accuracy: 0.5340\n",
            "Epoch 8/20\n",
            "297/297 [==============================] - 52s 176ms/step - loss: 0.0999 - categorical_accuracy: 0.9846 - val_loss: 2.3687 - val_categorical_accuracy: 0.5992\n",
            "Epoch 9/20\n",
            "297/297 [==============================] - 52s 175ms/step - loss: 0.1132 - categorical_accuracy: 0.9796 - val_loss: 2.5067 - val_categorical_accuracy: 0.5831\n",
            "Epoch 10/20\n",
            "297/297 [==============================] - 53s 178ms/step - loss: 0.1125 - categorical_accuracy: 0.9805 - val_loss: 3.4138 - val_categorical_accuracy: 0.5488\n",
            "Epoch 11/20\n",
            "297/297 [==============================] - 52s 176ms/step - loss: 0.1156 - categorical_accuracy: 0.9785 - val_loss: 2.6534 - val_categorical_accuracy: 0.6030\n",
            "Epoch 12/20\n",
            "297/297 [==============================] - 52s 175ms/step - loss: 0.1005 - categorical_accuracy: 0.9831 - val_loss: 2.0882 - val_categorical_accuracy: 0.6118\n",
            "Epoch 13/20\n",
            "297/297 [==============================] - 52s 173ms/step - loss: 0.0991 - categorical_accuracy: 0.9820 - val_loss: 2.4156 - val_categorical_accuracy: 0.5920\n",
            "Epoch 14/20\n",
            "297/297 [==============================] - 51s 171ms/step - loss: 0.0946 - categorical_accuracy: 0.9853 - val_loss: 2.4032 - val_categorical_accuracy: 0.5966\n",
            "Epoch 15/20\n",
            "297/297 [==============================] - 51s 171ms/step - loss: 0.1093 - categorical_accuracy: 0.9816 - val_loss: 2.9716 - val_categorical_accuracy: 0.5142\n",
            "Epoch 16/20\n",
            "297/297 [==============================] - 51s 171ms/step - loss: 0.1060 - categorical_accuracy: 0.9806 - val_loss: 2.2773 - val_categorical_accuracy: 0.5894\n",
            "Epoch 17/20\n",
            "297/297 [==============================] - 51s 170ms/step - loss: 0.1284 - categorical_accuracy: 0.9766 - val_loss: 2.2371 - val_categorical_accuracy: 0.5975\n",
            "Epoch 18/20\n",
            "297/297 [==============================] - 51s 170ms/step - loss: 0.0994 - categorical_accuracy: 0.9835 - val_loss: 2.5930 - val_categorical_accuracy: 0.5793\n",
            "Epoch 19/20\n",
            "297/297 [==============================] - 51s 172ms/step - loss: 0.0891 - categorical_accuracy: 0.9870 - val_loss: 2.4142 - val_categorical_accuracy: 0.5789\n",
            "Epoch 20/20\n",
            "297/297 [==============================] - 51s 172ms/step - loss: 0.0878 - categorical_accuracy: 0.9873 - val_loss: 2.0161 - val_categorical_accuracy: 0.6025\n",
            "INFO:tensorflow:Assets written to: /content/drive/MyDrive/graduation3/runedit2/historyMobileNet.80/assets\n",
            "Epoch 1/20\n",
            "297/297 [==============================] - 51s 172ms/step - loss: 0.1070 - categorical_accuracy: 0.9805 - val_loss: 2.4871 - val_categorical_accuracy: 0.5302\n",
            "Epoch 2/20\n",
            "297/297 [==============================] - 51s 171ms/step - loss: 0.1005 - categorical_accuracy: 0.9823 - val_loss: 2.3397 - val_categorical_accuracy: 0.6063\n",
            "Epoch 3/20\n",
            "297/297 [==============================] - 51s 171ms/step - loss: 0.1188 - categorical_accuracy: 0.9789 - val_loss: 2.2459 - val_categorical_accuracy: 0.6283\n",
            "Epoch 4/20\n",
            "297/297 [==============================] - 51s 171ms/step - loss: 0.1071 - categorical_accuracy: 0.9834 - val_loss: 2.3309 - val_categorical_accuracy: 0.5725\n",
            "Epoch 5/20\n",
            "297/297 [==============================] - 51s 171ms/step - loss: 0.0855 - categorical_accuracy: 0.9873 - val_loss: 2.4999 - val_categorical_accuracy: 0.5666\n",
            "Epoch 6/20\n",
            "297/297 [==============================] - 51s 170ms/step - loss: 0.0999 - categorical_accuracy: 0.9834 - val_loss: 2.7139 - val_categorical_accuracy: 0.5674\n",
            "Epoch 7/20\n",
            "297/297 [==============================] - 50s 170ms/step - loss: 0.0879 - categorical_accuracy: 0.9871 - val_loss: 2.7105 - val_categorical_accuracy: 0.5518\n",
            "Epoch 8/20\n",
            "297/297 [==============================] - 50s 170ms/step - loss: 0.0895 - categorical_accuracy: 0.9860 - val_loss: 2.9639 - val_categorical_accuracy: 0.5230\n",
            "Epoch 9/20\n",
            "297/297 [==============================] - 50s 168ms/step - loss: 0.0859 - categorical_accuracy: 0.9870 - val_loss: 2.3898 - val_categorical_accuracy: 0.5577\n",
            "Epoch 10/20\n",
            "297/297 [==============================] - 50s 169ms/step - loss: 0.1216 - categorical_accuracy: 0.9784 - val_loss: 3.0339 - val_categorical_accuracy: 0.5239\n",
            "Epoch 11/20\n",
            "297/297 [==============================] - 50s 170ms/step - loss: 0.1179 - categorical_accuracy: 0.9792 - val_loss: 2.6600 - val_categorical_accuracy: 0.5340\n",
            "Epoch 12/20\n",
            "297/297 [==============================] - 50s 169ms/step - loss: 0.0906 - categorical_accuracy: 0.9870 - val_loss: 2.6540 - val_categorical_accuracy: 0.5493\n",
            "Epoch 13/20\n",
            "297/297 [==============================] - 50s 168ms/step - loss: 0.0758 - categorical_accuracy: 0.9899 - val_loss: 2.4286 - val_categorical_accuracy: 0.5564\n",
            "Epoch 14/20\n",
            "297/297 [==============================] - 50s 168ms/step - loss: 0.0843 - categorical_accuracy: 0.9863 - val_loss: 2.4810 - val_categorical_accuracy: 0.5958\n",
            "Epoch 15/20\n",
            "297/297 [==============================] - 50s 168ms/step - loss: 0.0913 - categorical_accuracy: 0.9853 - val_loss: 2.4656 - val_categorical_accuracy: 0.5721\n",
            "Epoch 16/20\n",
            "297/297 [==============================] - 50s 168ms/step - loss: 0.0873 - categorical_accuracy: 0.9860 - val_loss: 2.4708 - val_categorical_accuracy: 0.5746\n",
            "Epoch 17/20\n",
            "297/297 [==============================] - 51s 170ms/step - loss: 0.0962 - categorical_accuracy: 0.9832 - val_loss: 2.5118 - val_categorical_accuracy: 0.5556\n",
            "Epoch 18/20\n",
            "297/297 [==============================] - 50s 168ms/step - loss: 0.0836 - categorical_accuracy: 0.9858 - val_loss: 2.2599 - val_categorical_accuracy: 0.5835\n",
            "Epoch 19/20\n",
            "297/297 [==============================] - 50s 168ms/step - loss: 0.0892 - categorical_accuracy: 0.9866 - val_loss: 2.5529 - val_categorical_accuracy: 0.5336\n",
            "Epoch 20/20\n",
            "297/297 [==============================] - 50s 169ms/step - loss: 0.0846 - categorical_accuracy: 0.9861 - val_loss: 2.3881 - val_categorical_accuracy: 0.5907\n",
            "INFO:tensorflow:Assets written to: /content/drive/MyDrive/graduation3/runedit2/historyMobileNet.100/assets\n"
          ]
        }
      ]
    },
    {
      "cell_type": "code",
      "metadata": {
        "id": "RimLXpe_Uca5"
      },
      "source": [
        "y_true = test_generator.classes"
      ],
      "execution_count": null,
      "outputs": []
    },
    {
      "cell_type": "code",
      "metadata": {
        "colab": {
          "base_uri": "https://localhost:8080/"
        },
        "id": "We3Z_yFxYb4H",
        "outputId": "de2f986a-fa80-48cd-bb51-f970017225ad"
      },
      "source": [
        "y_true"
      ],
      "execution_count": null,
      "outputs": [
        {
          "output_type": "execute_result",
          "data": {
            "text/plain": [
              "array([0, 0, 0, ..., 6, 6, 6], dtype=int32)"
            ]
          },
          "metadata": {},
          "execution_count": 22
        }
      ]
    },
    {
      "cell_type": "code",
      "metadata": {
        "id": "g7rfgtqshzP5"
      },
      "source": [
        "modeln=keras.models.load_model('/content/drive/MyDrive/graduation3/runedit2/historyMobileNet.100')"
      ],
      "execution_count": null,
      "outputs": []
    },
    {
      "cell_type": "code",
      "metadata": {
        "colab": {
          "base_uri": "https://localhost:8080/"
        },
        "id": "9QN3w_cJsGfD",
        "outputId": "f1c9b74b-5083-4edd-99e7-7af00312bd55"
      },
      "source": [
        "scores = modeln.evaluate(test_generator)"
      ],
      "execution_count": null,
      "outputs": [
        {
          "name": "stdout",
          "output_type": "stream",
          "text": [
            "114/114 [==============================] - 133s 1s/step - loss: 2.7884 - categorical_accuracy: 0.5684\n"
          ]
        }
      ]
    },
    {
      "cell_type": "markdown",
      "metadata": {
        "id": "VunmlGaxMZIY"
      },
      "source": [
        "#get better on epochs 80"
      ]
    },
    {
      "cell_type": "code",
      "metadata": {
        "id": "QWRs6SmREX4l"
      },
      "source": [
        "modeln2=keras.models.load_model('/content/drive/MyDrive/graduation3/runedit2/historyMobileNet.80')"
      ],
      "execution_count": null,
      "outputs": []
    },
    {
      "cell_type": "code",
      "metadata": {
        "colab": {
          "base_uri": "https://localhost:8080/"
        },
        "id": "DCBnw8wII3xx",
        "outputId": "5d2d3b6a-f830-447e-ad9f-cb1a713e318d"
      },
      "source": [
        "scores = modeln2.evaluate(test_generator)"
      ],
      "execution_count": null,
      "outputs": [
        {
          "output_type": "stream",
          "name": "stdout",
          "text": [
            "114/114 [==============================] - 123s 1s/step - loss: 2.0174 - categorical_accuracy: 0.6533\n"
          ]
        }
      ]
    },
    {
      "cell_type": "code",
      "metadata": {
        "colab": {
          "base_uri": "https://localhost:8080/"
        },
        "id": "-VJXO8um4oiK",
        "outputId": "54963f13-bf51-4a91-dc73-60c7f1c90e31"
      },
      "source": [
        "training_scores = modeln2.evaluate(generator)\n",
        "print(\"Accuracy = \", training_scores[1])"
      ],
      "execution_count": null,
      "outputs": [
        {
          "output_type": "stream",
          "name": "stdout",
          "text": [
            "297/297 [==============================] - 317s 1s/step - loss: 0.0540 - categorical_accuracy: 0.9975\n",
            "Accuracy =  0.9974683523178101\n"
          ]
        }
      ]
    },
    {
      "cell_type": "code",
      "metadata": {
        "colab": {
          "base_uri": "https://localhost:8080/"
        },
        "id": "w3rqr6RA4stq",
        "outputId": "9bba8903-be19-4db8-98e2-b9b3177bb170"
      },
      "source": [
        "validation_scores = modeln2.evaluate(validation_generator)\n",
        "print(\"Accuracy = \", validation_scores[1])"
      ],
      "execution_count": null,
      "outputs": [
        {
          "output_type": "stream",
          "name": "stdout",
          "text": [
            "74/74 [==============================] - 347s 5s/step - loss: 2.0161 - categorical_accuracy: 0.6025\n",
            "Accuracy =  0.6025369763374329\n"
          ]
        }
      ]
    },
    {
      "cell_type": "code",
      "metadata": {
        "id": "e5GljJ8EhzWO"
      },
      "source": [
        "y_pred_prob2 =modeln2.predict(test_generator)"
      ],
      "execution_count": null,
      "outputs": []
    },
    {
      "cell_type": "code",
      "metadata": {
        "id": "IlECWuObhzZw"
      },
      "source": [
        "y_pred2 = tf.argmax(y_pred_prob2, axis=-1)"
      ],
      "execution_count": null,
      "outputs": []
    },
    {
      "cell_type": "code",
      "metadata": {
        "id": "S1dwG1kaWHvQ"
      },
      "source": [
        "classes = ['Surprise', 'Fear', 'Disgust', 'Happy', 'Sad', 'Anger', 'Neutral']"
      ],
      "execution_count": null,
      "outputs": []
    },
    {
      "cell_type": "code",
      "metadata": {
        "colab": {
          "base_uri": "https://localhost:8080/"
        },
        "id": "4OnJ4FTDh0o-",
        "outputId": "697f1aea-ec3b-4f4f-cd70-fb37057a7d9a"
      },
      "source": [
        "print(classification_report(y_true, y_pred2, target_names = classes))"
      ],
      "execution_count": null,
      "outputs": [
        {
          "output_type": "stream",
          "name": "stdout",
          "text": [
            "              precision    recall  f1-score   support\n",
            "\n",
            "    Surprise       0.81      0.71      0.76       525\n",
            "        Fear       0.62      0.73      0.67       536\n",
            "     Disgust       0.85      0.75      0.79       221\n",
            "       Happy       0.75      0.72      0.74       500\n",
            "         Sad       0.63      0.57      0.60       739\n",
            "       Anger       0.45      0.59      0.51       527\n",
            "     Neutral       0.71      0.60      0.65       578\n",
            "\n",
            "    accuracy                           0.65      3626\n",
            "   macro avg       0.69      0.67      0.67      3626\n",
            "weighted avg       0.67      0.65      0.66      3626\n",
            "\n"
          ]
        }
      ]
    },
    {
      "cell_type": "code",
      "metadata": {
        "colab": {
          "base_uri": "https://localhost:8080/"
        },
        "id": "tLNvrTo8h055",
        "outputId": "56671180-3c9b-432c-d0bf-eea72fd129f8"
      },
      "source": [
        "from sklearn.metrics import confusion_matrix\n",
        "cm = confusion_matrix(y_true, y_pred2)\n",
        "cm"
      ],
      "execution_count": null,
      "outputs": [
        {
          "output_type": "execute_result",
          "data": {
            "text/plain": [
              "array([[375,  40,   7,  12,  31,  29,  31],\n",
              "       [ 12, 389,   1,  26,  41,  52,  15],\n",
              "       [  8,   4, 165,   7,   6,  22,   9],\n",
              "       [ 26,  26,   0, 361,  21,  47,  19],\n",
              "       [ 13,  73,  16,  26, 424, 152,  35],\n",
              "       [ 13,  57,   3,  34,  80, 309,  31],\n",
              "       [ 15,  43,   3,  15,  75,  81, 346]])"
            ]
          },
          "metadata": {},
          "execution_count": 26
        }
      ]
    },
    {
      "cell_type": "code",
      "metadata": {
        "colab": {
          "base_uri": "https://localhost:8080/",
          "height": 295
        },
        "id": "hRotLLCZjzm5",
        "outputId": "9b7d65bc-dd34-4c34-b72d-7f5de50f7af1"
      },
      "source": [
        "ax = plt.subplot()\n",
        "sns.heatmap(cm, annot=True, fmt='g', ax=ax);  #annot=True to annotate cells, ftm='g' to disable scientific notation\n",
        "\n",
        "# labels, title and ticks\n",
        "ax.set_xlabel('Predicted labels');ax.set_ylabel('True labels'); \n",
        "ax.set_title('Confusion Matrix'); \n",
        "ax.xaxis.set_ticklabels(classes); ax.yaxis.set_ticklabels(classes);"
      ],
      "execution_count": null,
      "outputs": [
        {
          "output_type": "display_data",
          "data": {
            "image/png": "[encoded data removed]",
            "text/plain": [
              "<Figure size 432x288 with 2 Axes>"
            ]
          },
          "metadata": {
            "needs_background": "light"
          }
        }
      ]
    },
    {
      "cell_type": "markdown",
      "metadata": {
        "id": "WagDBzym9n9L"
      },
      "source": [
        "#another solution with log plot  val and train graph"
      ]
    },
    {
      "cell_type": "code",
      "metadata": {
        "colab": {
          "base_uri": "https://localhost:8080/",
          "height": 424
        },
        "id": "OUPyDheFhT6e",
        "outputId": "a711c3c4-4100-4331-cb11-8b210698cc8e"
      },
      "source": [
        "# concatenate history from all the log files\n",
        "hist_df = pd.DataFrame()\n",
        "epoch = 20\n",
        "for i in range(4):\n",
        "  df = pd.read_csv('/content/drive/MyDrive/graduation3/runedit2/history' + str(epoch * (i + 1)) + '.log', delimiter = ',')\n",
        "  hist_df = pd.concat([hist_df, df], ignore_index = True)\n",
        "\n",
        "hist_df"
      ],
      "execution_count": null,
      "outputs": [
        {
          "output_type": "execute_result",
          "data": {
            "text/html": [
              "<div>\n",
              "<style scoped>\n",
              "    .dataframe tbody tr th:only-of-type {\n",
              "        vertical-align: middle;\n",
              "    }\n",
              "\n",
              "    .dataframe tbody tr th {\n",
              "        vertical-align: top;\n",
              "    }\n",
              "\n",
              "    .dataframe thead th {\n",
              "        text-align: right;\n",
              "    }\n",
              "</style>\n",
              "<table border=\"1\" class=\"dataframe\">\n",
              "  <thead>\n",
              "    <tr style=\"text-align: right;\">\n",
              "      <th></th>\n",
              "      <th>epoch</th>\n",
              "      <th>categorical_accuracy</th>\n",
              "      <th>loss</th>\n",
              "      <th>val_categorical_accuracy</th>\n",
              "      <th>val_loss</th>\n",
              "    </tr>\n",
              "  </thead>\n",
              "  <tbody>\n",
              "    <tr>\n",
              "      <th>0</th>\n",
              "      <td>0</td>\n",
              "      <td>0.549051</td>\n",
              "      <td>1.403479</td>\n",
              "      <td>0.241438</td>\n",
              "      <td>1.879438</td>\n",
              "    </tr>\n",
              "    <tr>\n",
              "      <th>1</th>\n",
              "      <td>1</td>\n",
              "      <td>0.620359</td>\n",
              "      <td>1.168001</td>\n",
              "      <td>0.306131</td>\n",
              "      <td>2.784294</td>\n",
              "    </tr>\n",
              "    <tr>\n",
              "      <th>2</th>\n",
              "      <td>2</td>\n",
              "      <td>0.649367</td>\n",
              "      <td>1.077953</td>\n",
              "      <td>0.348837</td>\n",
              "      <td>1.896810</td>\n",
              "    </tr>\n",
              "    <tr>\n",
              "      <th>3</th>\n",
              "      <td>3</td>\n",
              "      <td>0.675527</td>\n",
              "      <td>0.996412</td>\n",
              "      <td>0.411839</td>\n",
              "      <td>2.142398</td>\n",
              "    </tr>\n",
              "    <tr>\n",
              "      <th>4</th>\n",
              "      <td>4</td>\n",
              "      <td>0.706751</td>\n",
              "      <td>0.938251</td>\n",
              "      <td>0.381818</td>\n",
              "      <td>2.285537</td>\n",
              "    </tr>\n",
              "    <tr>\n",
              "      <th>...</th>\n",
              "      <td>...</td>\n",
              "      <td>...</td>\n",
              "      <td>...</td>\n",
              "      <td>...</td>\n",
              "      <td>...</td>\n",
              "    </tr>\n",
              "    <tr>\n",
              "      <th>75</th>\n",
              "      <td>15</td>\n",
              "      <td>0.980591</td>\n",
              "      <td>0.106023</td>\n",
              "      <td>0.589429</td>\n",
              "      <td>2.277304</td>\n",
              "    </tr>\n",
              "    <tr>\n",
              "      <th>76</th>\n",
              "      <td>16</td>\n",
              "      <td>0.976582</td>\n",
              "      <td>0.128352</td>\n",
              "      <td>0.597463</td>\n",
              "      <td>2.237126</td>\n",
              "    </tr>\n",
              "    <tr>\n",
              "      <th>77</th>\n",
              "      <td>17</td>\n",
              "      <td>0.983544</td>\n",
              "      <td>0.099441</td>\n",
              "      <td>0.579281</td>\n",
              "      <td>2.592986</td>\n",
              "    </tr>\n",
              "    <tr>\n",
              "      <th>78</th>\n",
              "      <td>18</td>\n",
              "      <td>0.987025</td>\n",
              "      <td>0.089064</td>\n",
              "      <td>0.578858</td>\n",
              "      <td>2.414168</td>\n",
              "    </tr>\n",
              "    <tr>\n",
              "      <th>79</th>\n",
              "      <td>19</td>\n",
              "      <td>0.987342</td>\n",
              "      <td>0.087772</td>\n",
              "      <td>0.602537</td>\n",
              "      <td>2.016110</td>\n",
              "    </tr>\n",
              "  </tbody>\n",
              "</table>\n",
              "<p>80 rows × 5 columns</p>\n",
              "</div>"
            ],
            "text/plain": [
              "    epoch  categorical_accuracy      loss  val_categorical_accuracy  val_loss\n",
              "0       0              0.549051  1.403479                  0.241438  1.879438\n",
              "1       1              0.620359  1.168001                  0.306131  2.784294\n",
              "2       2              0.649367  1.077953                  0.348837  1.896810\n",
              "3       3              0.675527  0.996412                  0.411839  2.142398\n",
              "4       4              0.706751  0.938251                  0.381818  2.285537\n",
              "..    ...                   ...       ...                       ...       ...\n",
              "75     15              0.980591  0.106023                  0.589429  2.277304\n",
              "76     16              0.976582  0.128352                  0.597463  2.237126\n",
              "77     17              0.983544  0.099441                  0.579281  2.592986\n",
              "78     18              0.987025  0.089064                  0.578858  2.414168\n",
              "79     19              0.987342  0.087772                  0.602537  2.016110\n",
              "\n",
              "[80 rows x 5 columns]"
            ]
          },
          "metadata": {},
          "execution_count": 33
        }
      ]
    },
    {
      "cell_type": "code",
      "metadata": {
        "colab": {
          "base_uri": "https://localhost:8080/"
        },
        "id": "CqdsVTD_k_Vn",
        "outputId": "844450a3-f1e4-42f5-9894-fd151d9e5083"
      },
      "source": [
        "epoch = 20\n",
        "for i in range(4):\n",
        "  log = pd.read_csv('/content/drive/MyDrive/graduation3/runedit2/history' + str(epoch * (i + 1)) + '.log')\n",
        "  log = pd.DataFrame(log)\n",
        "  print(log.shape)\n",
        "  if(i == 0):\n",
        "    logs = log.copy()\n",
        "  else:\n",
        "    pd.concat([logs,log])\n",
        "    print(logs.shape)"
      ],
      "execution_count": null,
      "outputs": [
        {
          "output_type": "stream",
          "name": "stdout",
          "text": [
            "(20, 5)\n",
            "(20, 5)\n",
            "(20, 5)\n",
            "(20, 5)\n",
            "(20, 5)\n",
            "(20, 5)\n",
            "(20, 5)\n"
          ]
        }
      ]
    },
    {
      "cell_type": "code",
      "metadata": {
        "colab": {
          "base_uri": "https://localhost:8080/",
          "height": 295
        },
        "id": "7HLU9a1xU7yE",
        "outputId": "d07cc450-40a8-4dfe-80e9-9c1b820d749c"
      },
      "source": [
        "# summarize history for accuracy\n",
        "plt.plot(hist_df['categorical_accuracy'])\n",
        "plt.plot(hist_df['val_categorical_accuracy'])\n",
        "plt.title('model accuracy')\n",
        "plt.ylabel('accuracy')\n",
        "plt.xlabel('epoch')\n",
        "plt.legend(['train', 'test'], loc='upper left')\n",
        "plt.show()"
      ],
      "execution_count": null,
      "outputs": [
        {
          "output_type": "display_data",
          "data": {
            "image/png": "[encoded data removed]",
            "text/plain": [
              "<Figure size 432x288 with 1 Axes>"
            ]
          },
          "metadata": {
            "needs_background": "light"
          }
        }
      ]
    },
    {
      "cell_type": "code",
      "metadata": {
        "colab": {
          "base_uri": "https://localhost:8080/",
          "height": 295
        },
        "id": "cf483ZMYU-gx",
        "outputId": "258e766b-d612-44a2-97a4-8ca11e60dafc"
      },
      "source": [
        "# summarize history for loss\n",
        "plt.plot(hist_df['loss'])\n",
        "plt.plot(hist_df['val_loss'])\n",
        "plt.title('model loss')\n",
        "plt.ylabel('loss')\n",
        "plt.xlabel('epoch')\n",
        "plt.legend(['train', 'test'], loc='upper left')\n",
        "plt.show()"
      ],
      "execution_count": null,
      "outputs": [
        {
          "output_type": "display_data",
          "data": {
            "image/png": "[encoded data removed]",
            "text/plain": [
              "<Figure size 432x288 with 1 Axes>"
            ]
          },
          "metadata": {
            "needs_background": "light"
          }
        }
      ]
    }
  ]
}